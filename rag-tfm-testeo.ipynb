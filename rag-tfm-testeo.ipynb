{
 "cells": [
  {
   "cell_type": "code",
   "execution_count": 9,
   "id": "71cf2fde",
   "metadata": {},
   "outputs": [
    {
     "data": {
      "text/html": [
       "<style>.container { width:98;} </style>"
      ],
      "text/plain": [
       "<IPython.core.display.HTML object>"
      ]
     },
     "metadata": {},
     "output_type": "display_data"
    }
   ],
   "source": [
    "from IPython.display import display, HTML\n",
    "display(HTML(\"<style>.container { width:98;} </style>\"))"
   ]
  },
  {
   "cell_type": "markdown",
   "id": "71fef209",
   "metadata": {},
   "source": [
    "### **Overview**\n",
    "A typical RAG application has two main components:\n",
    "\n",
    "- Indexing: a pipeline for ingesting data from a source and indexing it. This usually happens offline.\n",
    "\n",
    "- Retrieval and generation: the actual RAG chain, which takes the user query at run time and retrieves the relevant data from the index, then passes that to the model.\n",
    "\n",
    "### **Indexing**\n",
    "- Load: First we need to load our data. This is done with Document Loaders.\n",
    "- Split: Text splitters break large Documents into smaller chunks. This is useful both for indexing data and passing it into a model, as large chunks are harder to search over and won't fit in a model's finite context window.\n",
    "- Store: We need somewhere to store and index our splits, so that they can be searched over later. This is often done using a VectorStore and Embeddings model.\n",
    "\n",
    "Once we've indexed our data, we will use LangGraph as our orchestration framework to implement the retrieval and generation steps.\n",
    "\n",
    "### __Retrieval and generation__\n",
    "- Retrieve: Given a user input, relevant splits are retrieved from storage using a Retriever.\n",
    "- Generate: A ChatModel / LLM produces an answer using a prompt that includes both the question with the retrieved data"
   ]
  },
  {
   "cell_type": "code",
   "execution_count": 10,
   "id": "6e660844",
   "metadata": {},
   "outputs": [],
   "source": [
    "#%pip install ipywidgets\n",
    "#%pip install python-dotenv\n",
    "#%pip install langchain\n",
    "#%pip install --quiet --upgrade langchain-core langsmith langchain-text-splitters langchain-community langgraph "
   ]
  },
  {
   "cell_type": "markdown",
   "id": "09c91317",
   "metadata": {},
   "source": [
    "### __LangSmith__"
   ]
  },
  {
   "cell_type": "code",
   "execution_count": 11,
   "id": "bd00e1a6",
   "metadata": {},
   "outputs": [
    {
     "name": "stdout",
     "output_type": "stream",
     "text": [
      "Clave de LangSmith cargada correctamente\n"
     ]
    }
   ],
   "source": [
    "from dotenv import load_dotenv\n",
    "import os\n",
    "\n",
    "# Carga las variables desde el fichero .env en el directorio actual\n",
    "load_dotenv()\n",
    "\n",
    "api_key = os.getenv(\"LANGSMITH_API_KEY\")\n",
    "if api_key:\n",
    "    print(\"Clave de LangSmith cargada correctamente\")\n",
    "else:\n",
    "    print(\"No se encontró la clave de LangSmith\")"
   ]
  },
  {
   "cell_type": "markdown",
   "id": "006d5631",
   "metadata": {},
   "source": [
    "### __Components__"
   ]
  },
  {
   "cell_type": "markdown",
   "id": "355043aa",
   "metadata": {},
   "source": [
    "#### __1. Select LLM Model__"
   ]
  },
  {
   "cell_type": "code",
   "execution_count": 12,
   "id": "68690985",
   "metadata": {},
   "outputs": [],
   "source": [
    "#%pip install -U transformers\n",
    "#%pip install -U langchain-ollama\n",
    "#%pip install ollama"
   ]
  },
  {
   "cell_type": "markdown",
   "id": "ab74461e",
   "metadata": {},
   "source": [
    "- Para descargar una versión local del modelo LLM hay que instalar Ollama desde: https://ollama.com/download\n",
    "- Después ejecutar los siguientes comandos en powershell o cmd después de añadir Ollama al PATH del sistema:\n",
    "  1. 'ollama run hf.co/bartowski/Llama-3.2-3B-Instruct-GGUF:Q8_0' en una terminal que funciona como servidor.\n",
    "  2. Para ver detalles del modelo: .\\ollama.exe list\n",
    "- Es un modelo de 3B de parámetros y 8 bits."
   ]
  },
  {
   "cell_type": "markdown",
   "id": "4db01eed",
   "metadata": {},
   "source": [
    "https://huggingface.co/bartowski/Llama-3.2-3B-Instruct-GGUF"
   ]
  },
  {
   "cell_type": "code",
   "execution_count": 8,
   "id": "62202acc",
   "metadata": {},
   "outputs": [
    {
     "name": "stdout",
     "output_type": "stream",
     "text": [
      "El Imperio Romano fue un vasto y complejo estado que se extendió durante varias centurias, dejando una profunda huella en la historia de Europa y más allá. Uno de los aspectos más fascinantes del Imperio Romano es su sistema de \"cursus honorum\", que era el camino que debían seguir las personas para ascender en el rango administrativo y militar del imperio. Este cursus honorum era estructurado en varios grados y se iniciaba con cargos menores, pero con creciente responsabilidad y prestigio.\n",
      "\n",
      "En este sistema, los nuevos candidatos al servicio público o a la carrera militar debían comenzar como \"centuriones\", un cargo que equivalía aproximadamente a un teniente. A medida que avanzaban en su carrera, podían promocionarse a \"tribuno\", luego a \"gobernador\" de una provincia y finalmente a magistrado romano o gobernante del imperio.\n",
      "\n",
      "El sistema era tan riguroso que incluso los filósofos y intelectuales no estaban exentos de su influencia. Platón, por ejemplo, tuvo que servir en el ejército romano antes de dedicarse a la enseñanza y la filosofía. Este cursus honorum no solo se aplicaba al servicio público y militar, sino también a las artes y las letras. Cada artista o escritor quería ser reconocido por su obra y avanzar en su carrera, lo que llevó a muchos a unirse a la corte imperial o a buscar la protección de un magistrado poderoso.\n",
      "\n",
      "Este sistema tenía tanto poder como limitaciones. Por un lado, permitió una gran movilidad social para aquellos que tenían talento y dedicación. Por otro lado, la burocracia se volvió tan intrincada que muchos funcionarios terminaban pasando más tiempo en el papel que en la práctica real, lo cual llevó a corrupciones y ineficiencias.\n",
      "\n",
      "En resumen, el cursus honorum fue una herramienta fundamental para la organización y el avance social en el Imperio Romano, pero también tuvo sus limitaciones debido a la complejidad de su estructura y la concentración del poder.\n"
     ]
    }
   ],
   "source": [
    "from langchain_ollama import OllamaLLM\n",
    "# ollama run hf.co/bartowski/Llama-3.2-3B-Instruct-GGUF:Q8_0\n",
    "llm = OllamaLLM(model=\"hf.co/bartowski/Llama-3.2-3B-Instruct-GGUF:Q8_0\") \n",
    "print(llm.invoke(\"Dime algo curioso sobre el imperio romano\"))"
   ]
  },
  {
   "cell_type": "markdown",
   "id": "6cbae6d6",
   "metadata": {},
   "source": [
    "#### __2. Select Embeddings Model__"
   ]
  },
  {
   "cell_type": "code",
   "execution_count": 14,
   "id": "14e73aaa",
   "metadata": {},
   "outputs": [],
   "source": [
    "#%pip install -qU langchain-huggingface\n",
    "#%pip install sentence-transformers\n",
    "#%pip install huggingface_hub[hf_xet]"
   ]
  },
  {
   "cell_type": "markdown",
   "id": "426760d6",
   "metadata": {},
   "source": [
    "https://huggingface.co/Qwen/Qwen3-Embedding-4B\n",
    "https://huggingface.co/spaces/mteb/leaderboard"
   ]
  },
  {
   "cell_type": "code",
   "execution_count": 15,
   "id": "b8ce4805",
   "metadata": {},
   "outputs": [
    {
     "data": {
      "text/plain": [
       "'\\nfrom sentence_transformers import SentenceTransformer\\nmodel_embbedings = SentenceTransformer(\"Qwen/Qwen3-Embedding-4B\")\\n'"
      ]
     },
     "execution_count": 15,
     "metadata": {},
     "output_type": "execute_result"
    }
   ],
   "source": [
    "'''\n",
    "from sentence_transformers import SentenceTransformer\n",
    "model_embbedings = SentenceTransformer(\"Qwen/Qwen3-Embedding-4B\")\n",
    "'''"
   ]
  },
  {
   "cell_type": "markdown",
   "id": "0448ebe9",
   "metadata": {},
   "source": [
    "Este modelo es demasiado grande, por lo que decidimos cambiar a uno más pequeño."
   ]
  },
  {
   "cell_type": "code",
   "execution_count": 9,
   "id": "c46b0401",
   "metadata": {},
   "outputs": [
    {
     "name": "stdout",
     "output_type": "stream",
     "text": [
      "Modelo de Embeddings inicializado\n"
     ]
    }
   ],
   "source": [
    "# Modelo más pequeño\n",
    "from langchain_huggingface import HuggingFaceEmbeddings\n",
    "\n",
    "model_embbedings_mini = HuggingFaceEmbeddings(model_name=\"sentence-transformers/all-MiniLM-L6-v2\")\n",
    "print(\"Modelo de Embeddings inicializado\") # mirar sus parametros"
   ]
  },
  {
   "cell_type": "code",
   "execution_count": 10,
   "id": "bcf1fb7b",
   "metadata": {},
   "outputs": [],
   "source": [
    "# Verifica dimensiones del modelo\n",
    "test_embedding = model_embbedings_mini.embed_query(\"test\")\n",
    "if len(test_embedding) != 384:\n",
    "    raise ValueError(f\"Modelo {model_embbedings_mini} produce vectores de dimensión {len(test_embedding)}. Debe ser 384.\")\n"
   ]
  },
  {
   "cell_type": "markdown",
   "id": "25a8aad5",
   "metadata": {},
   "source": [
    "Comprobamos que la longitud de los vectores es 384."
   ]
  },
  {
   "cell_type": "markdown",
   "id": "b07ab4f3",
   "metadata": {},
   "source": [
    "#### __3. Select Vector Store__"
   ]
  },
  {
   "cell_type": "code",
   "execution_count": 17,
   "id": "755d0bc3",
   "metadata": {},
   "outputs": [],
   "source": [
    "#%pip install -qU langchain-qdrant"
   ]
  },
  {
   "cell_type": "markdown",
   "id": "524dccc5",
   "metadata": {},
   "source": [
    "Primero, inicializamos Qdrant en memoria para realizar pruebas."
   ]
  },
  {
   "cell_type": "code",
   "execution_count": 18,
   "id": "0ae8dea4",
   "metadata": {},
   "outputs": [
    {
     "data": {
      "text/plain": [
       "'\\nfrom qdrant_client import QdrantClient\\nfrom qdrant_client.models import VectorParams, Distance\\nfrom langchain_qdrant import QdrantVectorStore\\n\\n# Inicializar Qdrant en memoria para realizar pruebas\\nclient = QdrantClient(\":memory:\")\\n\\nvector_store = QdrantVectorStore(\\n    client=client,\\n    collection_name=\"test\",\\n    embedding=model_embeddings\\n)\\n\\nprint(\"Vector store creado en memoria\")\\n'"
      ]
     },
     "execution_count": 18,
     "metadata": {},
     "output_type": "execute_result"
    }
   ],
   "source": [
    "'''\n",
    "from qdrant_client import QdrantClient\n",
    "from qdrant_client.models import VectorParams, Distance\n",
    "from langchain_qdrant import QdrantVectorStore\n",
    "\n",
    "# Inicializar Qdrant en memoria para realizar pruebas\n",
    "client = QdrantClient(\":memory:\")\n",
    "\n",
    "vector_store = QdrantVectorStore(\n",
    "    client=client,\n",
    "    collection_name=\"test\",\n",
    "    embedding=model_embeddings\n",
    ")\n",
    "\n",
    "print(\"Vector store creado en memoria\")\n",
    "'''"
   ]
  },
  {
   "cell_type": "code",
   "execution_count": 1,
   "id": "ef32b2bf",
   "metadata": {},
   "outputs": [
    {
     "name": "stderr",
     "output_type": "stream",
     "text": [
      "C:\\Users\\elevi\\AppData\\Local\\Temp\\ipykernel_9576\\2942919570.py:18: DeprecationWarning: `recreate_collection` method is deprecated and will be removed in the future. Use `collection_exists` to check collection existence and `create_collection` instead.\n",
      "  client.recreate_collection(\n"
     ]
    },
    {
     "data": {
      "text/plain": [
       "True"
      ]
     },
     "execution_count": 1,
     "metadata": {},
     "output_type": "execute_result"
    }
   ],
   "source": [
    "from qdrant_client import QdrantClient\n",
    "from qdrant_client.models import Distance, VectorParams\n",
    "# BORRAMOS Y VOLVEMOS A SUBIR LA COLECCIÓN POR PROBLEMAS EN EL TAMAÑO DE VECTORES\n",
    "# DOCKER\n",
    "# Configuración\n",
    "COLLECTION_NAME = \"idearq\"\n",
    "VECTOR_SIZE = 384\n",
    "model_embbedings_mini = \"all-MiniLM-L6-v2\"  # 384 dimensiones\n",
    "\n",
    "# Inicializar clientes\n",
    "client = QdrantClient(url=\"http://localhost:6333\")\n",
    "\n",
    "# 1. Borrar colección (si ya existe)\n",
    "if COLLECTION_NAME in [c.name for c in client.get_collections().collections]:\n",
    "    client.delete_collection(COLLECTION_NAME)\n",
    "\n",
    "# 2. Crear colección\n",
    "client.recreate_collection(\n",
    "    collection_name=COLLECTION_NAME,\n",
    "    vectors_config=VectorParams(size=VECTOR_SIZE, distance=Distance.COSINE),\n",
    ")\n",
    "\n",
    "# cambio distance.dot a coseno porque es más recomendable en texto\n",
    "# size a 384 porque es el tamaño de los embbedings de all-MiniLM-L6-v2"
   ]
  },
  {
   "cell_type": "code",
   "execution_count": 11,
   "id": "0673c928",
   "metadata": {},
   "outputs": [
    {
     "name": "stdout",
     "output_type": "stream",
     "text": [
      "¡La dimensión de los vectores (384) es correcta!\n"
     ]
    }
   ],
   "source": [
    "client = QdrantClient(url=\"http://localhost:6333\")\n",
    "info = client.get_collection(COLLECTION_NAME)\n",
    "assert info.config.params.vectors.size == 384, \"La colección no está configurada para vectores de 384 dimensiones.\"\n",
    "print(\"¡La dimensión de los vectores (384) es correcta!\")"
   ]
  },
  {
   "cell_type": "markdown",
   "id": "d3762c78",
   "metadata": {},
   "source": [
    "Cuando convertimos texto a embeddings, lo que nos importa es el \"significado\" o \"dirección\" del texto, no cuánto \"mide\" el vector, por eso escogemos la similitud del coseno. Dos frases con significado similar tendrán vectores que apuntan en la misma dirección, resultando en una similitud de coseno cercana a 1.\n",
    "Rango: de -1 (opuestos) a 1 (idénticos)."
   ]
  },
  {
   "cell_type": "markdown",
   "id": "38f07cf8",
   "metadata": {},
   "source": [
    "## __Indexing__"
   ]
  },
  {
   "cell_type": "markdown",
   "id": "01b83683",
   "metadata": {},
   "source": [
    "### __Loading__"
   ]
  },
  {
   "cell_type": "code",
   "execution_count": 20,
   "id": "da137fce",
   "metadata": {},
   "outputs": [
    {
     "name": "stdout",
     "output_type": "stream",
     "text": [
      "PyPDFLoader: 11 documentos, longitud media 60469.36 caracteres\n",
      "PyMuPDFLoader: 11 documentos, longitud media 60264.0 caracteres\n"
     ]
    }
   ],
   "source": [
    "# TEST DE CARGA DE PDFS\n",
    "from pathlib import Path\n",
    "import re\n",
    "from langchain.document_loaders import PyPDFLoader, PyMuPDFLoader\n",
    "\n",
    "pdf_dir = Path(\"pdf_test/\")\n",
    "pdf_files = list(pdf_dir.glob(\"*.pdf\"))\n",
    "\n",
    "results = {}\n",
    "\n",
    "for loader_name, loader_class in {\n",
    "    \"PyPDFLoader\": lambda path:PyPDFLoader(path, mode=\"single\"),\n",
    "    \"PyMuPDFLoader\": lambda path: PyMuPDFLoader(path, mode=\"single\")\n",
    "}.items():\n",
    "    total_docs = 0\n",
    "    total_length = 0\n",
    "    for pdf_file in pdf_files:\n",
    "        try:\n",
    "            loader = loader_class(str(pdf_file))\n",
    "            docs = loader.load()\n",
    "            total_docs += len(docs)\n",
    "            total_length += sum(len(doc.page_content) for doc in docs)\n",
    "        except Exception as e:\n",
    "            print(f\"Error con {loader_name} en {pdf_file.name}: {e}\")\n",
    "    avg_length = total_length / total_docs if total_docs else 0\n",
    "    results[loader_name] = {\n",
    "        \"n_docs\": total_docs,\n",
    "        \"avg_length\": round(avg_length, 2)\n",
    "    }\n",
    "\n",
    "for name, stats in results.items():\n",
    "    print(f\"{name}: {stats['n_docs']} documentos, longitud media {stats['avg_length']} caracteres\")\n"
   ]
  },
  {
   "cell_type": "code",
   "execution_count": 21,
   "id": "4c519708",
   "metadata": {},
   "outputs": [
    {
     "name": "stdout",
     "output_type": "stream",
     "text": [
      "Se cargaron 11 documentos\n"
     ]
    }
   ],
   "source": [
    "# TEST DE CARGA DE PDFS SIN COMPARAR PERO CON MÁS EJEMPLOS\n",
    "import re\n",
    "from langchain.document_loaders import PyPDFLoader, PyMuPDFLoader\n",
    "# Cargar PDFs de forma normal sin comparar\n",
    "folder_path = Path(\"pdf_test/\")\n",
    "pdf_files = list(folder_path.glob(\"*.pdf\"))\n",
    "\n",
    "# Cargar todos los PDFs\n",
    "all_docs = []\n",
    "for pdf_file in pdf_files:\n",
    "    loader = PyMuPDFLoader(str(pdf_file), mode=\"single\") # mode=\"page\" divide los documentos por página\n",
    "    docs = loader.load()\n",
    "    all_docs.extend(docs)\n",
    "\n",
    "print(f\"Se cargaron {len(all_docs)} documentos\")"
   ]
  },
  {
   "cell_type": "code",
   "execution_count": 20,
   "id": "622e9c15",
   "metadata": {},
   "outputs": [],
   "source": [
    "import logging\n",
    "from pathlib import Path\n",
    "from langchain.document_loaders import PyMuPDFLoader\n",
    "\n",
    "# Asegúrate de que el logging esté configurado\n",
    "logging.basicConfig(level=logging.INFO, format='%(asctime)s - %(levelname)s - %(message)s')\n",
    "\n",
    "# --- Carga robusta de documentos desde un directorio local ---\n",
    "\n",
    "all_docs = []\n",
    "folder_path = Path(\"pdf_articulos_idearq/\") # La ruta a tu carpeta de PDFs\n",
    "\n",
    "logging.info(f\"Iniciando la carga de documentos desde: {folder_path.resolve()}\")\n",
    "\n",
    "if not folder_path.is_dir():\n",
    "    logging.error(f\"El directorio especificado no existe: {folder_path.resolve()}\")\n",
    "else:\n",
    "    # Usamos .glob() que es eficiente para buscar archivos\n",
    "    for pdf_file in folder_path.glob(\"*.pdf\"):\n",
    "        try:\n",
    "            loader = PyMuPDFLoader(str(pdf_file), mode=\"single\")\n",
    "            docs_from_file = loader.load()\n",
    "            all_docs.extend(docs_from_file)\n",
    "            # logging.debug(f\"Cargado: {pdf_file.name}\") # Descomenta para ver cada archivo\n",
    "        except Exception as e:\n",
    "            # Este bloque capturará si un PDF específico está dañado y no se puede leer\n",
    "            logging.warning(f\"No se pudo cargar el archivo '{pdf_file.name}'. Saltando. Error: {e}\")\n",
    "\n",
    "    logging.info(f\"Carga finalizada. Se han cargado un total de {len(all_docs)} documentos.\")"
   ]
  },
  {
   "cell_type": "markdown",
   "id": "c1e5727a",
   "metadata": {},
   "source": [
    "Me decanto por PyMuPDFLoader porque es más flexible frente a PDFs con estructuras complejas, en cambio PyPDF es demasiado estricto y no puede gestionar algunos PDFs, desembocando en errores."
   ]
  },
  {
   "cell_type": "markdown",
   "id": "1b65d71f",
   "metadata": {},
   "source": [
    "Para ver metadatos de un artículo:"
   ]
  },
  {
   "cell_type": "code",
   "execution_count": null,
   "id": "e3876015",
   "metadata": {},
   "outputs": [
    {
     "name": "stdout",
     "output_type": "stream",
     "text": [
      "{'producer': '',\n",
      " 'creator': '',\n",
      " 'creationdate': '',\n",
      " 'source': 'pdf_articulos_idearq\\\\Objetos y personas_ la necrópolis de Cerro '\n",
      "           'Colorado y la -- Dionisio Urbina Martínez, Catalina Urquijo '\n",
      "           'Álvarez de Toledo -- 1, 2015 -- Consejo -- 9788400100278 -- '\n",
      "           '8b32b0353860092e0fceccc5006bfbd8 -- Anna’s.pdf',\n",
      " 'file_path': 'pdf_articulos_idearq\\\\Objetos y personas_ la necrópolis de '\n",
      "              'Cerro Colorado y la -- Dionisio Urbina Martínez, Catalina '\n",
      "              'Urquijo Álvarez de Toledo -- 1, 2015 -- Consejo -- '\n",
      "              '9788400100278 -- 8b32b0353860092e0fceccc5006bfbd8 -- Anna’s.pdf',\n",
      " 'total_pages': 0,\n",
      " 'format': 'PDF 1.6',\n",
      " 'title': '',\n",
      " 'author': '',\n",
      " 'subject': '',\n",
      " 'keywords': '',\n",
      " 'moddate': '',\n",
      " 'trapped': '',\n",
      " 'modDate': '',\n",
      " 'creationDate': ''}\n"
     ]
    }
   ],
   "source": [
    "import pprint # REVISAR\n",
    "# Para inspeccionar los metadatos del primer documento cargado (sin sobreescribir all_docs)\\n\",\n",
    "if all_docs:\n",
    "    print(\"--- Metadatos del primer documento cargado en la celda anterior ---\")\n",
    "else:\n",
    "    print(\"La variable 'all_docs' está vacía.\")\n",
    "   "
   ]
  },
  {
   "cell_type": "markdown",
   "id": "1537f303",
   "metadata": {},
   "source": [
    "### __Splitting__\n",
    "\n",
    "https://python.langchain.com/docs/tutorials/retrievers/\n",
    "https://python.langchain.com/docs/tutorials/rag/\n",
    "https://qdrant.tech/documentation/quickstart/\n",
    "https://python.langchain.com/docs/integrations/document_loaders/pypdfloader/"
   ]
  },
  {
   "cell_type": "code",
   "execution_count": null,
   "id": "757525cf",
   "metadata": {},
   "outputs": [
    {
     "name": "stdout",
     "output_type": "stream",
     "text": [
      "Split blog post into 63 sub-documents.\n"
     ]
    }
   ],
   "source": [
    "# TEST DE SPLIT DE TEXTO\n",
    "from langchain_text_splitters import RecursiveCharacterTextSplitter\n",
    "# tutorial langchain\n",
    "text_splitter = RecursiveCharacterTextSplitter(\n",
    "    chunk_size=1000,  # chunk size (characters)\n",
    "    chunk_overlap=200,  # chunk overlap (characters)\n",
    "    add_start_index=True,  # track index in original document\n",
    ")\n",
    "all_splits = text_splitter.split_documents(all_docs)\n",
    "\n",
    "print(f\"Split blog post into {len(all_splits)} sub-documents.\")"
   ]
  },
  {
   "cell_type": "code",
   "execution_count": 21,
   "id": "46056209",
   "metadata": {},
   "outputs": [],
   "source": [
    "from langchain_text_splitters import RecursiveCharacterTextSplitter\n",
    "import logging\n",
    "\n",
    "# Configurar un logger para controlar el proceso\n",
    "logging.basicConfig(level=logging.INFO, format='%(asctime)s - %(levelname)s - %(message)s')\n",
    "\n",
    "text_splitter_config = {\n",
    "    \"chunk_size\": 1000,\n",
    "    \"chunk_overlap\": 200, # 15-20% de chunk_size\n",
    "    \"length_function\": len,\n",
    "    \"add_start_index\": True,\n",
    "    \"separators\": [\"\\n\\n\", \"\\n\", \". \", \" \", \"\"],\n",
    "}\n",
    "\n",
    "# El operador ** desempaqueta el diccionario como argumentos \n",
    "text_splitter = RecursiveCharacterTextSplitter(**text_splitter_config)\n",
    "\n",
    "all_splits = text_splitter.split_documents(all_docs)\n",
    "\n",
    "logging.info(f\"Se dividieron {len(all_docs)} documentos en un total de {len(all_splits)} chunks.\")"
   ]
  },
  {
   "cell_type": "code",
   "execution_count": null,
   "id": "03816034",
   "metadata": {},
   "outputs": [
    {
     "name": "stderr",
     "output_type": "stream",
     "text": [
      "2025-07-16 12:31:41,337 - INFO - Ejemplo del primer chunk generado:\n",
      "2025-07-16 12:31:41,338 - INFO - Metadatos del primer chunk:\n"
     ]
    },
    {
     "name": "stdout",
     "output_type": "stream",
     "text": [
      "Full Terms & Conditions of access and use can be found at\n",
      "http://www.tandfonline.com/action/journalInformation?journalCode=yjfa20\n",
      "Download by: [University of Newcastle, Australia]\n",
      "Date: 20 February 2017, At: 04:16\n",
      "Journal of Field Archaeology\n",
      "ISSN: 0093-4690 (Print) 2042-4582 (Online) Journal homepage: http://www.tandfonline.com/loi/yjfa20\n",
      "First Evidence of Collective Human Inhumation\n",
      "from the Cardial Neolithic (Cova Bonica, Barcelona,\n",
      "NE Iberian Peninsula)\n",
      "F. Xavier Oms, Joan Daura, Montserrat Sanz, Susana Mendiela, Mireia Pedro\n",
      "& Pablo Martínez\n",
      "To cite this article: F. Xavier Oms, Joan Daura, Montserrat Sanz, Susana Mendiela, Mireia Pedro\n",
      "& Pablo Martínez (2017) First Evidence of Collective Human Inhumation from the Cardial Neolithic\n",
      "(Cova Bonica, Barcelona, NE Iberian Peninsula), Journal of Field Archaeology, 42:1, 43-53, DOI:\n",
      "10.1080/00934690.2016.1260407\n",
      "To link to this article:  http://dx.doi.org/10.1080/00934690.2016.1260407\n",
      "Published online: 13 Feb 2017.\n",
      "{'producer': 'iText 4.2.0 by 1T3XT',\n",
      " 'creator': 'Arbortext Advanced Print Publisher 10.0.1465/W Unicode',\n",
      " 'creationdate': '2017-02-09T08:18:37+05:30',\n",
      " 'source': 'pdf_articulos_idearq\\\\1000_oms_2017.pdf',\n",
      " 'file_path': 'pdf_articulos_idearq\\\\1000_oms_2017.pdf',\n",
      " 'total_pages': 12,\n",
      " 'format': 'PDF 1.4',\n",
      " 'title': 'First Evidence of Collective Human Inhumation from the Cardial '\n",
      "          'Neolithic (Cova Bonica, Barcelona, NE Iberian Peninsula)',\n",
      " 'author': 'F. Xavier Oms',\n",
      " 'subject': 'Journal of Field Archaeology, 2016. '\n",
      "            'doi:10.1080/00934690.2016.1260407',\n",
      " 'keywords': '',\n",
      " 'moddate': '2017-02-20T04:16:48-08:00',\n",
      " 'trapped': '',\n",
      " 'modDate': \"D:20170220041648-08'00'\",\n",
      " 'creationDate': \"D:20170209081837+05'30'\",\n",
      " 'start_index': 0}\n"
     ]
    }
   ],
   "source": [
    "# revisar uno o dos chunks para asegurar que el splitting es lógico\n",
    "if all_splits:\n",
    "    logging.info(\"Ejemplo del primer chunk generado:\")\n",
    "    print(all_splits[0].page_content)\n",
    "    logging.info(\"Metadatos del primer chunk:\")\n",
    "    pprint.pp(all_splits[0].metadata)\n"
   ]
  },
  {
   "cell_type": "markdown",
   "id": "6c50eed1",
   "metadata": {},
   "source": [
    "- RecursiveCharacterTextSplitter: Intenta mantener párrafos y frases juntas, lo cual es puede ser mejor que un corte abrupto por caracteres. Hay otro splitters pero son para código o Markdown.\n",
    "- chunk_size=1000, chunk_overlap=200: El solapamiento (overlap) es crucial para no perder contexto en los límites de cada trozo de texto (chunk).\n",
    "add_start_index=True: Se utiliza para depuración y para saber de qué parte del documento original proviene cada chunk."
   ]
  },
  {
   "cell_type": "markdown",
   "id": "ddbbb5b3",
   "metadata": {},
   "source": [
    "https://python.langchain.com/docs/integrations/document_loaders/grobid/"
   ]
  },
  {
   "cell_type": "markdown",
   "id": "93308b16",
   "metadata": {},
   "source": [
    "En principio, estos parámetros son los recomendables en RAGs con modelos pequeños. Se podría subir chunk_size a 1500 si las respuestas pierden contexto, aunque un tamaño de 1000 permite respuestas más específicas.\n",
    "\n",
    "From langchain: We set add_start_index=True so that the character index where each split Document starts within the initial Document is preserved as metadata attribute “start_index”.\n",
    "\n",
    "Podríamos hacer otro tipo de split, que es el split semántico: https://python.langchain.com/docs/how_to/semantic-chunker/"
   ]
  },
  {
   "cell_type": "markdown",
   "id": "c2a74064",
   "metadata": {},
   "source": [
    "### __Embeddings and Storing__"
   ]
  },
  {
   "cell_type": "markdown",
   "id": "307408e0",
   "metadata": {},
   "source": [
    "Primero, se encuentran las celdas de testeo"
   ]
  },
  {
   "cell_type": "code",
   "execution_count": null,
   "id": "008eb46b",
   "metadata": {},
   "outputs": [
    {
     "name": "stdout",
     "output_type": "stream",
     "text": [
      "Generated vectors of length 2560\n",
      "\n",
      "[-0.0002388065040577203, 0.06825609505176544, 0.004310491029173136, -0.00017211480007972568, -0.0008121936116367579, 0.04217046499252319, -0.03311644122004509, 0.018160805106163025, 0.001344389165751636, 0.025389451533555984]\n"
     ]
    }
   ],
   "source": [
    "vector_1 = embedding.embed_query(all_splits[0].page_content)\n",
    "vector_2 = embedding.embed_query(all_splits[1].page_content)\n",
    "\n",
    "assert len(vector_1) == len(vector_2)\n",
    "print(f\"Generated vectors of length {len(vector_1)}\\n\")\n",
    "print(vector_1[:10])"
   ]
  },
  {
   "cell_type": "code",
   "execution_count": null,
   "id": "5e872339",
   "metadata": {},
   "outputs": [
    {
     "name": "stdout",
     "output_type": "stream",
     "text": [
      "['d38699d2eb6d4cbaa287913d21a7fa88', 'c222a4adef654922860e484550638b83', 'd3aece0f9eb349199ce90380ccb38807']\n"
     ]
    }
   ],
   "source": [
    "document_ids = vector_store.add_documents(documents=all_splits)\n",
    "\n",
    "print(document_ids[:3])"
   ]
  },
  {
   "cell_type": "code",
   "execution_count": 17,
   "id": "3478e00d",
   "metadata": {},
   "outputs": [
    {
     "name": "stderr",
     "output_type": "stream",
     "text": [
      "2025-07-18 11:16:30,515 - INFO - Use pytorch device_name: cpu\n",
      "2025-07-18 11:16:30,517 - INFO - Load pretrained SentenceTransformer: sentence-transformers/all-MiniLM-L6-v2\n",
      "2025-07-18 11:16:42,554 - INFO - HTTP Request: GET http://localhost:6333 \"HTTP/1.1 200 OK\"\n",
      "2025-07-18 11:16:42,557 - INFO - Conectando a la colección 'idearq' a través de LangChain...\n",
      "C:\\Users\\elevi\\AppData\\Local\\Temp\\ipykernel_9576\\1640482091.py:17: LangChainDeprecationWarning: The class `Qdrant` was deprecated in LangChain 0.1.2 and will be removed in 0.5.0. Use :class:`~QdrantVectorStore` instead.\n",
      "  vector_store = Qdrant(\n"
     ]
    }
   ],
   "source": [
    "from langchain_qdrant import Qdrant\n",
    "import logging\n",
    "from langchain_core.embeddings import Embeddings \n",
    "\n",
    "QDRANT_URL = \"http://localhost:6333\"\n",
    "COLLECTION_NAME = \"idearq\"\n",
    "EMBEDDING_MODEL = \"sentence-transformers/all-MiniLM-L6-v2\"\n",
    "embeddings = HuggingFaceEmbeddings(model_name=EMBEDDING_MODEL)\n",
    "\n",
    "# Configura el logger si no lo has hecho en una celda anterior.\n",
    "logging.basicConfig(level=logging.INFO, format='%(asctime)s - %(levelname)s - %(message)s')\n",
    "\n",
    "client = QdrantClient(url=QDRANT_URL)\n",
    "\n",
    "logging.info(f\"Conectando a la colección '{COLLECTION_NAME}' a través de LangChain...\")\n",
    "\n",
    "vector_store = Qdrant(\n",
    "    client=client,\n",
    "    collection_name=COLLECTION_NAME,\n",
    "    embeddings=embeddings,\n",
    ")"
   ]
  },
  {
   "cell_type": "code",
   "execution_count": 20,
   "id": "5d46bc82",
   "metadata": {},
   "outputs": [
    {
     "name": "stderr",
     "output_type": "stream",
     "text": [
      "2025-07-18 11:24:42,733 - INFO - HTTP Request: GET http://localhost:6333 \"HTTP/1.1 200 OK\"\n",
      "2025-07-18 11:24:42,736 - INFO - Conectando a la colección 'idearq' a través de LangChain...\n",
      "2025-07-18 11:24:42,737 - INFO - Objeto 'vector_store' listo para la ingesta\n",
      "2025-07-18 11:24:42,739 - INFO - Iniciando la ingesta de 50687 chunks...\n",
      "2025-07-18 11:24:45,525 - INFO - HTTP Request: PUT http://localhost:6333/collections/idearq/points?wait=true \"HTTP/1.1 200 OK\"\n",
      "2025-07-18 11:24:47,996 - INFO - HTTP Request: PUT http://localhost:6333/collections/idearq/points?wait=true \"HTTP/1.1 200 OK\"\n",
      "2025-07-18 11:24:50,517 - INFO - HTTP Request: PUT http://localhost:6333/collections/idearq/points?wait=true \"HTTP/1.1 200 OK\"\n",
      "2025-07-18 11:24:52,874 - INFO - HTTP Request: PUT http://localhost:6333/collections/idearq/points?wait=true \"HTTP/1.1 200 OK\"\n",
      "2025-07-18 11:24:55,323 - INFO - HTTP Request: PUT http://localhost:6333/collections/idearq/points?wait=true \"HTTP/1.1 200 OK\"\n",
      "2025-07-18 11:24:57,670 - INFO - HTTP Request: PUT http://localhost:6333/collections/idearq/points?wait=true \"HTTP/1.1 200 OK\"\n",
      "2025-07-18 11:25:00,049 - INFO - HTTP Request: PUT http://localhost:6333/collections/idearq/points?wait=true \"HTTP/1.1 200 OK\"\n",
      "2025-07-18 11:25:02,467 - INFO - HTTP Request: PUT http://localhost:6333/collections/idearq/points?wait=true \"HTTP/1.1 200 OK\"\n",
      "2025-07-18 11:25:05,023 - INFO - HTTP Request: PUT http://localhost:6333/collections/idearq/points?wait=true \"HTTP/1.1 200 OK\"\n",
      "2025-07-18 11:25:07,679 - INFO - HTTP Request: PUT http://localhost:6333/collections/idearq/points?wait=true \"HTTP/1.1 200 OK\"\n",
      "2025-07-18 11:25:10,321 - INFO - HTTP Request: PUT http://localhost:6333/collections/idearq/points?wait=true \"HTTP/1.1 200 OK\"\n",
      "2025-07-18 11:25:12,841 - INFO - HTTP Request: PUT http://localhost:6333/collections/idearq/points?wait=true \"HTTP/1.1 200 OK\"\n",
      "2025-07-18 11:25:15,406 - INFO - HTTP Request: PUT http://localhost:6333/collections/idearq/points?wait=true \"HTTP/1.1 200 OK\"\n",
      "2025-07-18 11:25:18,302 - INFO - HTTP Request: PUT http://localhost:6333/collections/idearq/points?wait=true \"HTTP/1.1 200 OK\"\n",
      "2025-07-18 11:25:20,957 - INFO - HTTP Request: PUT http://localhost:6333/collections/idearq/points?wait=true \"HTTP/1.1 200 OK\"\n",
      "2025-07-18 11:25:23,369 - INFO - HTTP Request: PUT http://localhost:6333/collections/idearq/points?wait=true \"HTTP/1.1 200 OK\"\n",
      "2025-07-18 11:25:25,828 - INFO - HTTP Request: PUT http://localhost:6333/collections/idearq/points?wait=true \"HTTP/1.1 200 OK\"\n",
      "2025-07-18 11:25:28,259 - INFO - HTTP Request: PUT http://localhost:6333/collections/idearq/points?wait=true \"HTTP/1.1 200 OK\"\n",
      "2025-07-18 11:25:30,836 - INFO - HTTP Request: PUT http://localhost:6333/collections/idearq/points?wait=true \"HTTP/1.1 200 OK\"\n",
      "2025-07-18 11:25:33,243 - INFO - HTTP Request: PUT http://localhost:6333/collections/idearq/points?wait=true \"HTTP/1.1 200 OK\"\n",
      "2025-07-18 11:25:35,723 - INFO - HTTP Request: PUT http://localhost:6333/collections/idearq/points?wait=true \"HTTP/1.1 200 OK\"\n",
      "2025-07-18 11:25:38,208 - INFO - HTTP Request: PUT http://localhost:6333/collections/idearq/points?wait=true \"HTTP/1.1 200 OK\"\n",
      "2025-07-18 11:25:40,777 - INFO - HTTP Request: PUT http://localhost:6333/collections/idearq/points?wait=true \"HTTP/1.1 200 OK\"\n",
      "2025-07-18 11:25:43,217 - INFO - HTTP Request: PUT http://localhost:6333/collections/idearq/points?wait=true \"HTTP/1.1 200 OK\"\n",
      "2025-07-18 11:25:45,531 - INFO - HTTP Request: PUT http://localhost:6333/collections/idearq/points?wait=true \"HTTP/1.1 200 OK\"\n",
      "2025-07-18 11:25:47,835 - INFO - HTTP Request: PUT http://localhost:6333/collections/idearq/points?wait=true \"HTTP/1.1 200 OK\"\n",
      "2025-07-18 11:25:50,287 - INFO - HTTP Request: PUT http://localhost:6333/collections/idearq/points?wait=true \"HTTP/1.1 200 OK\"\n",
      "2025-07-18 11:25:52,748 - INFO - HTTP Request: PUT http://localhost:6333/collections/idearq/points?wait=true \"HTTP/1.1 200 OK\"\n",
      "2025-07-18 11:25:55,207 - INFO - HTTP Request: PUT http://localhost:6333/collections/idearq/points?wait=true \"HTTP/1.1 200 OK\"\n",
      "2025-07-18 11:25:57,619 - INFO - HTTP Request: PUT http://localhost:6333/collections/idearq/points?wait=true \"HTTP/1.1 200 OK\"\n",
      "2025-07-18 11:26:00,036 - INFO - HTTP Request: PUT http://localhost:6333/collections/idearq/points?wait=true \"HTTP/1.1 200 OK\"\n",
      "2025-07-18 11:26:02,515 - INFO - HTTP Request: PUT http://localhost:6333/collections/idearq/points?wait=true \"HTTP/1.1 200 OK\"\n",
      "2025-07-18 11:26:04,855 - INFO - HTTP Request: PUT http://localhost:6333/collections/idearq/points?wait=true \"HTTP/1.1 200 OK\"\n",
      "2025-07-18 11:26:07,243 - INFO - HTTP Request: PUT http://localhost:6333/collections/idearq/points?wait=true \"HTTP/1.1 200 OK\"\n",
      "2025-07-18 11:26:09,521 - INFO - HTTP Request: PUT http://localhost:6333/collections/idearq/points?wait=true \"HTTP/1.1 200 OK\"\n",
      "2025-07-18 11:26:11,933 - INFO - HTTP Request: PUT http://localhost:6333/collections/idearq/points?wait=true \"HTTP/1.1 200 OK\"\n",
      "2025-07-18 11:26:14,287 - INFO - HTTP Request: PUT http://localhost:6333/collections/idearq/points?wait=true \"HTTP/1.1 200 OK\"\n",
      "2025-07-18 11:26:16,881 - INFO - HTTP Request: PUT http://localhost:6333/collections/idearq/points?wait=true \"HTTP/1.1 200 OK\"\n",
      "2025-07-18 11:26:19,487 - INFO - HTTP Request: PUT http://localhost:6333/collections/idearq/points?wait=true \"HTTP/1.1 200 OK\"\n",
      "2025-07-18 11:26:21,924 - INFO - HTTP Request: PUT http://localhost:6333/collections/idearq/points?wait=true \"HTTP/1.1 200 OK\"\n",
      "2025-07-18 11:26:24,323 - INFO - HTTP Request: PUT http://localhost:6333/collections/idearq/points?wait=true \"HTTP/1.1 200 OK\"\n",
      "2025-07-18 11:26:26,689 - INFO - HTTP Request: PUT http://localhost:6333/collections/idearq/points?wait=true \"HTTP/1.1 200 OK\"\n",
      "2025-07-18 11:26:29,106 - INFO - HTTP Request: PUT http://localhost:6333/collections/idearq/points?wait=true \"HTTP/1.1 200 OK\"\n",
      "2025-07-18 11:26:31,535 - INFO - HTTP Request: PUT http://localhost:6333/collections/idearq/points?wait=true \"HTTP/1.1 200 OK\"\n",
      "2025-07-18 11:26:33,908 - INFO - HTTP Request: PUT http://localhost:6333/collections/idearq/points?wait=true \"HTTP/1.1 200 OK\"\n",
      "2025-07-18 11:26:36,366 - INFO - HTTP Request: PUT http://localhost:6333/collections/idearq/points?wait=true \"HTTP/1.1 200 OK\"\n",
      "2025-07-18 11:26:38,878 - INFO - HTTP Request: PUT http://localhost:6333/collections/idearq/points?wait=true \"HTTP/1.1 200 OK\"\n",
      "2025-07-18 11:26:41,445 - INFO - HTTP Request: PUT http://localhost:6333/collections/idearq/points?wait=true \"HTTP/1.1 200 OK\"\n",
      "2025-07-18 11:26:44,012 - INFO - HTTP Request: PUT http://localhost:6333/collections/idearq/points?wait=true \"HTTP/1.1 200 OK\"\n",
      "2025-07-18 11:26:46,403 - INFO - HTTP Request: PUT http://localhost:6333/collections/idearq/points?wait=true \"HTTP/1.1 200 OK\"\n",
      "2025-07-18 11:26:48,909 - INFO - HTTP Request: PUT http://localhost:6333/collections/idearq/points?wait=true \"HTTP/1.1 200 OK\"\n",
      "2025-07-18 11:26:51,401 - INFO - HTTP Request: PUT http://localhost:6333/collections/idearq/points?wait=true \"HTTP/1.1 200 OK\"\n",
      "2025-07-18 11:26:53,782 - INFO - HTTP Request: PUT http://localhost:6333/collections/idearq/points?wait=true \"HTTP/1.1 200 OK\"\n",
      "2025-07-18 11:26:56,197 - INFO - HTTP Request: PUT http://localhost:6333/collections/idearq/points?wait=true \"HTTP/1.1 200 OK\"\n",
      "2025-07-18 11:26:58,558 - INFO - HTTP Request: PUT http://localhost:6333/collections/idearq/points?wait=true \"HTTP/1.1 200 OK\"\n",
      "2025-07-18 11:27:00,901 - INFO - HTTP Request: PUT http://localhost:6333/collections/idearq/points?wait=true \"HTTP/1.1 200 OK\"\n",
      "2025-07-18 11:27:03,213 - INFO - HTTP Request: PUT http://localhost:6333/collections/idearq/points?wait=true \"HTTP/1.1 200 OK\"\n",
      "2025-07-18 11:27:05,672 - INFO - HTTP Request: PUT http://localhost:6333/collections/idearq/points?wait=true \"HTTP/1.1 200 OK\"\n",
      "2025-07-18 11:27:08,033 - INFO - HTTP Request: PUT http://localhost:6333/collections/idearq/points?wait=true \"HTTP/1.1 200 OK\"\n",
      "2025-07-18 11:27:10,596 - INFO - HTTP Request: PUT http://localhost:6333/collections/idearq/points?wait=true \"HTTP/1.1 200 OK\"\n",
      "2025-07-18 11:27:12,961 - INFO - HTTP Request: PUT http://localhost:6333/collections/idearq/points?wait=true \"HTTP/1.1 200 OK\"\n",
      "2025-07-18 11:27:15,306 - INFO - HTTP Request: PUT http://localhost:6333/collections/idearq/points?wait=true \"HTTP/1.1 200 OK\"\n",
      "2025-07-18 11:27:17,678 - INFO - HTTP Request: PUT http://localhost:6333/collections/idearq/points?wait=true \"HTTP/1.1 200 OK\"\n",
      "2025-07-18 11:27:20,128 - INFO - HTTP Request: PUT http://localhost:6333/collections/idearq/points?wait=true \"HTTP/1.1 200 OK\"\n",
      "2025-07-18 11:27:22,519 - INFO - HTTP Request: PUT http://localhost:6333/collections/idearq/points?wait=true \"HTTP/1.1 200 OK\"\n",
      "2025-07-18 11:27:24,998 - INFO - HTTP Request: PUT http://localhost:6333/collections/idearq/points?wait=true \"HTTP/1.1 200 OK\"\n",
      "2025-07-18 11:27:27,422 - INFO - HTTP Request: PUT http://localhost:6333/collections/idearq/points?wait=true \"HTTP/1.1 200 OK\"\n",
      "2025-07-18 11:27:29,891 - INFO - HTTP Request: PUT http://localhost:6333/collections/idearq/points?wait=true \"HTTP/1.1 200 OK\"\n",
      "2025-07-18 11:27:32,287 - INFO - HTTP Request: PUT http://localhost:6333/collections/idearq/points?wait=true \"HTTP/1.1 200 OK\"\n",
      "2025-07-18 11:27:34,582 - INFO - HTTP Request: PUT http://localhost:6333/collections/idearq/points?wait=true \"HTTP/1.1 200 OK\"\n",
      "2025-07-18 11:27:36,829 - INFO - HTTP Request: PUT http://localhost:6333/collections/idearq/points?wait=true \"HTTP/1.1 200 OK\"\n",
      "2025-07-18 11:27:39,148 - INFO - HTTP Request: PUT http://localhost:6333/collections/idearq/points?wait=true \"HTTP/1.1 200 OK\"\n",
      "2025-07-18 11:27:41,472 - INFO - HTTP Request: PUT http://localhost:6333/collections/idearq/points?wait=true \"HTTP/1.1 200 OK\"\n",
      "2025-07-18 11:27:43,738 - INFO - HTTP Request: PUT http://localhost:6333/collections/idearq/points?wait=true \"HTTP/1.1 200 OK\"\n",
      "2025-07-18 11:27:46,069 - INFO - HTTP Request: PUT http://localhost:6333/collections/idearq/points?wait=true \"HTTP/1.1 200 OK\"\n",
      "2025-07-18 11:27:48,505 - INFO - HTTP Request: PUT http://localhost:6333/collections/idearq/points?wait=true \"HTTP/1.1 200 OK\"\n",
      "2025-07-18 11:27:50,872 - INFO - HTTP Request: PUT http://localhost:6333/collections/idearq/points?wait=true \"HTTP/1.1 200 OK\"\n",
      "2025-07-18 11:27:53,069 - INFO - HTTP Request: PUT http://localhost:6333/collections/idearq/points?wait=true \"HTTP/1.1 200 OK\"\n",
      "2025-07-18 11:27:55,322 - INFO - HTTP Request: PUT http://localhost:6333/collections/idearq/points?wait=true \"HTTP/1.1 200 OK\"\n",
      "2025-07-18 11:27:57,542 - INFO - HTTP Request: PUT http://localhost:6333/collections/idearq/points?wait=true \"HTTP/1.1 200 OK\"\n",
      "2025-07-18 11:27:59,864 - INFO - HTTP Request: PUT http://localhost:6333/collections/idearq/points?wait=true \"HTTP/1.1 200 OK\"\n",
      "2025-07-18 11:28:02,085 - INFO - HTTP Request: PUT http://localhost:6333/collections/idearq/points?wait=true \"HTTP/1.1 200 OK\"\n",
      "2025-07-18 11:28:04,301 - INFO - HTTP Request: PUT http://localhost:6333/collections/idearq/points?wait=true \"HTTP/1.1 200 OK\"\n",
      "2025-07-18 11:28:06,596 - INFO - HTTP Request: PUT http://localhost:6333/collections/idearq/points?wait=true \"HTTP/1.1 200 OK\"\n",
      "2025-07-18 11:28:08,867 - INFO - HTTP Request: PUT http://localhost:6333/collections/idearq/points?wait=true \"HTTP/1.1 200 OK\"\n",
      "2025-07-18 11:28:11,135 - INFO - HTTP Request: PUT http://localhost:6333/collections/idearq/points?wait=true \"HTTP/1.1 200 OK\"\n",
      "2025-07-18 11:28:13,391 - INFO - HTTP Request: PUT http://localhost:6333/collections/idearq/points?wait=true \"HTTP/1.1 200 OK\"\n",
      "2025-07-18 11:28:15,778 - INFO - HTTP Request: PUT http://localhost:6333/collections/idearq/points?wait=true \"HTTP/1.1 200 OK\"\n",
      "2025-07-18 11:28:18,190 - INFO - HTTP Request: PUT http://localhost:6333/collections/idearq/points?wait=true \"HTTP/1.1 200 OK\"\n",
      "2025-07-18 11:28:20,559 - INFO - HTTP Request: PUT http://localhost:6333/collections/idearq/points?wait=true \"HTTP/1.1 200 OK\"\n",
      "2025-07-18 11:28:22,766 - INFO - HTTP Request: PUT http://localhost:6333/collections/idearq/points?wait=true \"HTTP/1.1 200 OK\"\n",
      "2025-07-18 11:28:25,046 - INFO - HTTP Request: PUT http://localhost:6333/collections/idearq/points?wait=true \"HTTP/1.1 200 OK\"\n",
      "2025-07-18 11:28:27,259 - INFO - HTTP Request: PUT http://localhost:6333/collections/idearq/points?wait=true \"HTTP/1.1 200 OK\"\n",
      "2025-07-18 11:28:29,474 - INFO - HTTP Request: PUT http://localhost:6333/collections/idearq/points?wait=true \"HTTP/1.1 200 OK\"\n",
      "2025-07-18 11:28:31,759 - INFO - HTTP Request: PUT http://localhost:6333/collections/idearq/points?wait=true \"HTTP/1.1 200 OK\"\n",
      "2025-07-18 11:28:33,991 - INFO - HTTP Request: PUT http://localhost:6333/collections/idearq/points?wait=true \"HTTP/1.1 200 OK\"\n",
      "2025-07-18 11:28:36,258 - INFO - HTTP Request: PUT http://localhost:6333/collections/idearq/points?wait=true \"HTTP/1.1 200 OK\"\n",
      "2025-07-18 11:28:38,483 - INFO - HTTP Request: PUT http://localhost:6333/collections/idearq/points?wait=true \"HTTP/1.1 200 OK\"\n",
      "2025-07-18 11:28:40,730 - INFO - HTTP Request: PUT http://localhost:6333/collections/idearq/points?wait=true \"HTTP/1.1 200 OK\"\n",
      "2025-07-18 11:28:42,960 - INFO - HTTP Request: PUT http://localhost:6333/collections/idearq/points?wait=true \"HTTP/1.1 200 OK\"\n",
      "2025-07-18 11:28:45,248 - INFO - HTTP Request: PUT http://localhost:6333/collections/idearq/points?wait=true \"HTTP/1.1 200 OK\"\n",
      "2025-07-18 11:28:47,491 - INFO - HTTP Request: PUT http://localhost:6333/collections/idearq/points?wait=true \"HTTP/1.1 200 OK\"\n",
      "2025-07-18 11:28:49,954 - INFO - HTTP Request: PUT http://localhost:6333/collections/idearq/points?wait=true \"HTTP/1.1 200 OK\"\n",
      "2025-07-18 11:28:52,281 - INFO - HTTP Request: PUT http://localhost:6333/collections/idearq/points?wait=true \"HTTP/1.1 200 OK\"\n",
      "2025-07-18 11:28:54,626 - INFO - HTTP Request: PUT http://localhost:6333/collections/idearq/points?wait=true \"HTTP/1.1 200 OK\"\n",
      "2025-07-18 11:28:56,777 - INFO - HTTP Request: PUT http://localhost:6333/collections/idearq/points?wait=true \"HTTP/1.1 200 OK\"\n",
      "2025-07-18 11:28:59,026 - INFO - HTTP Request: PUT http://localhost:6333/collections/idearq/points?wait=true \"HTTP/1.1 200 OK\"\n",
      "2025-07-18 11:29:01,371 - INFO - HTTP Request: PUT http://localhost:6333/collections/idearq/points?wait=true \"HTTP/1.1 200 OK\"\n",
      "2025-07-18 11:29:03,590 - INFO - HTTP Request: PUT http://localhost:6333/collections/idearq/points?wait=true \"HTTP/1.1 200 OK\"\n",
      "2025-07-18 11:29:05,858 - INFO - HTTP Request: PUT http://localhost:6333/collections/idearq/points?wait=true \"HTTP/1.1 200 OK\"\n",
      "2025-07-18 11:29:08,129 - INFO - HTTP Request: PUT http://localhost:6333/collections/idearq/points?wait=true \"HTTP/1.1 200 OK\"\n",
      "2025-07-18 11:29:10,413 - INFO - HTTP Request: PUT http://localhost:6333/collections/idearq/points?wait=true \"HTTP/1.1 200 OK\"\n",
      "2025-07-18 11:29:12,589 - INFO - HTTP Request: PUT http://localhost:6333/collections/idearq/points?wait=true \"HTTP/1.1 200 OK\"\n",
      "2025-07-18 11:29:14,999 - INFO - HTTP Request: PUT http://localhost:6333/collections/idearq/points?wait=true \"HTTP/1.1 200 OK\"\n",
      "2025-07-18 11:29:17,271 - INFO - HTTP Request: PUT http://localhost:6333/collections/idearq/points?wait=true \"HTTP/1.1 200 OK\"\n",
      "2025-07-18 11:29:19,762 - INFO - HTTP Request: PUT http://localhost:6333/collections/idearq/points?wait=true \"HTTP/1.1 200 OK\"\n",
      "2025-07-18 11:29:22,077 - INFO - HTTP Request: PUT http://localhost:6333/collections/idearq/points?wait=true \"HTTP/1.1 200 OK\"\n",
      "2025-07-18 11:29:24,352 - INFO - HTTP Request: PUT http://localhost:6333/collections/idearq/points?wait=true \"HTTP/1.1 200 OK\"\n",
      "2025-07-18 11:29:26,569 - INFO - HTTP Request: PUT http://localhost:6333/collections/idearq/points?wait=true \"HTTP/1.1 200 OK\"\n",
      "2025-07-18 11:29:28,802 - INFO - HTTP Request: PUT http://localhost:6333/collections/idearq/points?wait=true \"HTTP/1.1 200 OK\"\n",
      "2025-07-18 11:29:31,079 - INFO - HTTP Request: PUT http://localhost:6333/collections/idearq/points?wait=true \"HTTP/1.1 200 OK\"\n",
      "2025-07-18 11:29:33,258 - INFO - HTTP Request: PUT http://localhost:6333/collections/idearq/points?wait=true \"HTTP/1.1 200 OK\"\n",
      "2025-07-18 11:29:35,514 - INFO - HTTP Request: PUT http://localhost:6333/collections/idearq/points?wait=true \"HTTP/1.1 200 OK\"\n",
      "2025-07-18 11:29:37,743 - INFO - HTTP Request: PUT http://localhost:6333/collections/idearq/points?wait=true \"HTTP/1.1 200 OK\"\n",
      "2025-07-18 11:29:40,016 - INFO - HTTP Request: PUT http://localhost:6333/collections/idearq/points?wait=true \"HTTP/1.1 200 OK\"\n",
      "2025-07-18 11:29:42,245 - INFO - HTTP Request: PUT http://localhost:6333/collections/idearq/points?wait=true \"HTTP/1.1 200 OK\"\n",
      "2025-07-18 11:29:44,585 - INFO - HTTP Request: PUT http://localhost:6333/collections/idearq/points?wait=true \"HTTP/1.1 200 OK\"\n",
      "2025-07-18 11:29:46,851 - INFO - HTTP Request: PUT http://localhost:6333/collections/idearq/points?wait=true \"HTTP/1.1 200 OK\"\n",
      "2025-07-18 11:29:49,205 - INFO - HTTP Request: PUT http://localhost:6333/collections/idearq/points?wait=true \"HTTP/1.1 200 OK\"\n",
      "2025-07-18 11:29:51,517 - INFO - HTTP Request: PUT http://localhost:6333/collections/idearq/points?wait=true \"HTTP/1.1 200 OK\"\n",
      "2025-07-18 11:29:53,784 - INFO - HTTP Request: PUT http://localhost:6333/collections/idearq/points?wait=true \"HTTP/1.1 200 OK\"\n",
      "2025-07-18 11:29:56,181 - INFO - HTTP Request: PUT http://localhost:6333/collections/idearq/points?wait=true \"HTTP/1.1 200 OK\"\n",
      "2025-07-18 11:29:58,606 - INFO - HTTP Request: PUT http://localhost:6333/collections/idearq/points?wait=true \"HTTP/1.1 200 OK\"\n",
      "2025-07-18 11:30:00,895 - INFO - HTTP Request: PUT http://localhost:6333/collections/idearq/points?wait=true \"HTTP/1.1 200 OK\"\n",
      "2025-07-18 11:30:03,168 - INFO - HTTP Request: PUT http://localhost:6333/collections/idearq/points?wait=true \"HTTP/1.1 200 OK\"\n",
      "2025-07-18 11:30:05,456 - INFO - HTTP Request: PUT http://localhost:6333/collections/idearq/points?wait=true \"HTTP/1.1 200 OK\"\n",
      "2025-07-18 11:30:07,717 - INFO - HTTP Request: PUT http://localhost:6333/collections/idearq/points?wait=true \"HTTP/1.1 200 OK\"\n",
      "2025-07-18 11:30:09,947 - INFO - HTTP Request: PUT http://localhost:6333/collections/idearq/points?wait=true \"HTTP/1.1 200 OK\"\n",
      "2025-07-18 11:30:12,403 - INFO - HTTP Request: PUT http://localhost:6333/collections/idearq/points?wait=true \"HTTP/1.1 200 OK\"\n",
      "2025-07-18 11:30:15,412 - INFO - HTTP Request: PUT http://localhost:6333/collections/idearq/points?wait=true \"HTTP/1.1 200 OK\"\n",
      "2025-07-18 11:30:17,946 - INFO - HTTP Request: PUT http://localhost:6333/collections/idearq/points?wait=true \"HTTP/1.1 200 OK\"\n",
      "2025-07-18 11:30:20,535 - INFO - HTTP Request: PUT http://localhost:6333/collections/idearq/points?wait=true \"HTTP/1.1 200 OK\"\n",
      "2025-07-18 11:30:22,790 - INFO - HTTP Request: PUT http://localhost:6333/collections/idearq/points?wait=true \"HTTP/1.1 200 OK\"\n",
      "2025-07-18 11:30:25,098 - INFO - HTTP Request: PUT http://localhost:6333/collections/idearq/points?wait=true \"HTTP/1.1 200 OK\"\n",
      "2025-07-18 11:30:27,348 - INFO - HTTP Request: PUT http://localhost:6333/collections/idearq/points?wait=true \"HTTP/1.1 200 OK\"\n",
      "2025-07-18 11:30:29,647 - INFO - HTTP Request: PUT http://localhost:6333/collections/idearq/points?wait=true \"HTTP/1.1 200 OK\"\n",
      "2025-07-18 11:30:31,893 - INFO - HTTP Request: PUT http://localhost:6333/collections/idearq/points?wait=true \"HTTP/1.1 200 OK\"\n",
      "2025-07-18 11:30:34,329 - INFO - HTTP Request: PUT http://localhost:6333/collections/idearq/points?wait=true \"HTTP/1.1 200 OK\"\n",
      "2025-07-18 11:30:36,723 - INFO - HTTP Request: PUT http://localhost:6333/collections/idearq/points?wait=true \"HTTP/1.1 200 OK\"\n",
      "2025-07-18 11:30:39,050 - INFO - HTTP Request: PUT http://localhost:6333/collections/idearq/points?wait=true \"HTTP/1.1 200 OK\"\n",
      "2025-07-18 11:30:41,318 - INFO - HTTP Request: PUT http://localhost:6333/collections/idearq/points?wait=true \"HTTP/1.1 200 OK\"\n",
      "2025-07-18 11:30:43,579 - INFO - HTTP Request: PUT http://localhost:6333/collections/idearq/points?wait=true \"HTTP/1.1 200 OK\"\n",
      "2025-07-18 11:30:46,051 - INFO - HTTP Request: PUT http://localhost:6333/collections/idearq/points?wait=true \"HTTP/1.1 200 OK\"\n",
      "2025-07-18 11:30:48,653 - INFO - HTTP Request: PUT http://localhost:6333/collections/idearq/points?wait=true \"HTTP/1.1 200 OK\"\n",
      "2025-07-18 11:30:51,291 - INFO - HTTP Request: PUT http://localhost:6333/collections/idearq/points?wait=true \"HTTP/1.1 200 OK\"\n",
      "2025-07-18 11:30:53,905 - INFO - HTTP Request: PUT http://localhost:6333/collections/idearq/points?wait=true \"HTTP/1.1 200 OK\"\n",
      "2025-07-18 11:30:56,686 - INFO - HTTP Request: PUT http://localhost:6333/collections/idearq/points?wait=true \"HTTP/1.1 200 OK\"\n",
      "2025-07-18 11:30:59,450 - INFO - HTTP Request: PUT http://localhost:6333/collections/idearq/points?wait=true \"HTTP/1.1 200 OK\"\n",
      "2025-07-18 11:31:02,518 - INFO - HTTP Request: PUT http://localhost:6333/collections/idearq/points?wait=true \"HTTP/1.1 200 OK\"\n",
      "2025-07-18 11:31:05,800 - INFO - HTTP Request: PUT http://localhost:6333/collections/idearq/points?wait=true \"HTTP/1.1 200 OK\"\n",
      "2025-07-18 11:31:08,706 - INFO - HTTP Request: PUT http://localhost:6333/collections/idearq/points?wait=true \"HTTP/1.1 200 OK\"\n",
      "2025-07-18 11:31:11,648 - INFO - HTTP Request: PUT http://localhost:6333/collections/idearq/points?wait=true \"HTTP/1.1 200 OK\"\n",
      "2025-07-18 11:31:14,671 - INFO - HTTP Request: PUT http://localhost:6333/collections/idearq/points?wait=true \"HTTP/1.1 200 OK\"\n",
      "2025-07-18 11:31:17,632 - INFO - HTTP Request: PUT http://localhost:6333/collections/idearq/points?wait=true \"HTTP/1.1 200 OK\"\n",
      "2025-07-18 11:31:20,409 - INFO - HTTP Request: PUT http://localhost:6333/collections/idearq/points?wait=true \"HTTP/1.1 200 OK\"\n",
      "2025-07-18 11:31:23,064 - INFO - HTTP Request: PUT http://localhost:6333/collections/idearq/points?wait=true \"HTTP/1.1 200 OK\"\n",
      "2025-07-18 11:31:26,079 - INFO - HTTP Request: PUT http://localhost:6333/collections/idearq/points?wait=true \"HTTP/1.1 200 OK\"\n",
      "2025-07-18 11:31:28,846 - INFO - HTTP Request: PUT http://localhost:6333/collections/idearq/points?wait=true \"HTTP/1.1 200 OK\"\n",
      "2025-07-18 11:31:31,599 - INFO - HTTP Request: PUT http://localhost:6333/collections/idearq/points?wait=true \"HTTP/1.1 200 OK\"\n",
      "2025-07-18 11:31:34,270 - INFO - HTTP Request: PUT http://localhost:6333/collections/idearq/points?wait=true \"HTTP/1.1 200 OK\"\n",
      "2025-07-18 11:31:37,507 - INFO - HTTP Request: PUT http://localhost:6333/collections/idearq/points?wait=true \"HTTP/1.1 200 OK\"\n",
      "2025-07-18 11:31:41,230 - INFO - HTTP Request: PUT http://localhost:6333/collections/idearq/points?wait=true \"HTTP/1.1 200 OK\"\n",
      "2025-07-18 11:31:44,405 - INFO - HTTP Request: PUT http://localhost:6333/collections/idearq/points?wait=true \"HTTP/1.1 200 OK\"\n",
      "2025-07-18 11:31:47,587 - INFO - HTTP Request: PUT http://localhost:6333/collections/idearq/points?wait=true \"HTTP/1.1 200 OK\"\n",
      "2025-07-18 11:31:50,791 - INFO - HTTP Request: PUT http://localhost:6333/collections/idearq/points?wait=true \"HTTP/1.1 200 OK\"\n",
      "2025-07-18 11:31:53,655 - INFO - HTTP Request: PUT http://localhost:6333/collections/idearq/points?wait=true \"HTTP/1.1 200 OK\"\n",
      "2025-07-18 11:31:56,744 - INFO - HTTP Request: PUT http://localhost:6333/collections/idearq/points?wait=true \"HTTP/1.1 200 OK\"\n",
      "2025-07-18 11:32:00,242 - INFO - HTTP Request: PUT http://localhost:6333/collections/idearq/points?wait=true \"HTTP/1.1 200 OK\"\n",
      "2025-07-18 11:32:03,451 - INFO - HTTP Request: PUT http://localhost:6333/collections/idearq/points?wait=true \"HTTP/1.1 200 OK\"\n",
      "2025-07-18 11:32:07,195 - INFO - HTTP Request: PUT http://localhost:6333/collections/idearq/points?wait=true \"HTTP/1.1 200 OK\"\n",
      "2025-07-18 11:32:11,848 - INFO - HTTP Request: PUT http://localhost:6333/collections/idearq/points?wait=true \"HTTP/1.1 200 OK\"\n",
      "2025-07-18 11:32:15,974 - INFO - HTTP Request: PUT http://localhost:6333/collections/idearq/points?wait=true \"HTTP/1.1 200 OK\"\n",
      "2025-07-18 11:32:19,875 - INFO - HTTP Request: PUT http://localhost:6333/collections/idearq/points?wait=true \"HTTP/1.1 200 OK\"\n",
      "2025-07-18 11:32:24,664 - INFO - HTTP Request: PUT http://localhost:6333/collections/idearq/points?wait=true \"HTTP/1.1 200 OK\"\n",
      "2025-07-18 11:32:28,701 - INFO - HTTP Request: PUT http://localhost:6333/collections/idearq/points?wait=true \"HTTP/1.1 200 OK\"\n",
      "2025-07-18 11:32:32,322 - INFO - HTTP Request: PUT http://localhost:6333/collections/idearq/points?wait=true \"HTTP/1.1 200 OK\"\n",
      "2025-07-18 11:32:35,882 - INFO - HTTP Request: PUT http://localhost:6333/collections/idearq/points?wait=true \"HTTP/1.1 200 OK\"\n",
      "2025-07-18 11:32:38,857 - INFO - HTTP Request: PUT http://localhost:6333/collections/idearq/points?wait=true \"HTTP/1.1 200 OK\"\n",
      "2025-07-18 11:32:41,879 - INFO - HTTP Request: PUT http://localhost:6333/collections/idearq/points?wait=true \"HTTP/1.1 200 OK\"\n",
      "2025-07-18 11:32:44,845 - INFO - HTTP Request: PUT http://localhost:6333/collections/idearq/points?wait=true \"HTTP/1.1 200 OK\"\n",
      "2025-07-18 11:32:47,902 - INFO - HTTP Request: PUT http://localhost:6333/collections/idearq/points?wait=true \"HTTP/1.1 200 OK\"\n",
      "2025-07-18 11:32:50,961 - INFO - HTTP Request: PUT http://localhost:6333/collections/idearq/points?wait=true \"HTTP/1.1 200 OK\"\n",
      "2025-07-18 11:32:53,766 - INFO - HTTP Request: PUT http://localhost:6333/collections/idearq/points?wait=true \"HTTP/1.1 200 OK\"\n",
      "2025-07-18 11:32:56,685 - INFO - HTTP Request: PUT http://localhost:6333/collections/idearq/points?wait=true \"HTTP/1.1 200 OK\"\n",
      "2025-07-18 11:32:59,537 - INFO - HTTP Request: PUT http://localhost:6333/collections/idearq/points?wait=true \"HTTP/1.1 200 OK\"\n",
      "2025-07-18 11:33:02,512 - INFO - HTTP Request: PUT http://localhost:6333/collections/idearq/points?wait=true \"HTTP/1.1 200 OK\"\n",
      "2025-07-18 11:33:05,254 - INFO - HTTP Request: PUT http://localhost:6333/collections/idearq/points?wait=true \"HTTP/1.1 200 OK\"\n",
      "2025-07-18 11:33:08,371 - INFO - HTTP Request: PUT http://localhost:6333/collections/idearq/points?wait=true \"HTTP/1.1 200 OK\"\n",
      "2025-07-18 11:33:11,357 - INFO - HTTP Request: PUT http://localhost:6333/collections/idearq/points?wait=true \"HTTP/1.1 200 OK\"\n",
      "2025-07-18 11:33:14,264 - INFO - HTTP Request: PUT http://localhost:6333/collections/idearq/points?wait=true \"HTTP/1.1 200 OK\"\n",
      "2025-07-18 11:33:17,334 - INFO - HTTP Request: PUT http://localhost:6333/collections/idearq/points?wait=true \"HTTP/1.1 200 OK\"\n",
      "2025-07-18 11:33:20,688 - INFO - HTTP Request: PUT http://localhost:6333/collections/idearq/points?wait=true \"HTTP/1.1 200 OK\"\n",
      "2025-07-18 11:33:23,911 - INFO - HTTP Request: PUT http://localhost:6333/collections/idearq/points?wait=true \"HTTP/1.1 200 OK\"\n",
      "2025-07-18 11:33:27,047 - INFO - HTTP Request: PUT http://localhost:6333/collections/idearq/points?wait=true \"HTTP/1.1 200 OK\"\n",
      "2025-07-18 11:33:30,225 - INFO - HTTP Request: PUT http://localhost:6333/collections/idearq/points?wait=true \"HTTP/1.1 200 OK\"\n",
      "2025-07-18 11:33:33,487 - INFO - HTTP Request: PUT http://localhost:6333/collections/idearq/points?wait=true \"HTTP/1.1 200 OK\"\n",
      "2025-07-18 11:33:36,685 - INFO - HTTP Request: PUT http://localhost:6333/collections/idearq/points?wait=true \"HTTP/1.1 200 OK\"\n",
      "2025-07-18 11:33:39,880 - INFO - HTTP Request: PUT http://localhost:6333/collections/idearq/points?wait=true \"HTTP/1.1 200 OK\"\n",
      "2025-07-18 11:33:42,858 - INFO - HTTP Request: PUT http://localhost:6333/collections/idearq/points?wait=true \"HTTP/1.1 200 OK\"\n",
      "2025-07-18 11:33:46,165 - INFO - HTTP Request: PUT http://localhost:6333/collections/idearq/points?wait=true \"HTTP/1.1 200 OK\"\n",
      "2025-07-18 11:33:50,002 - INFO - HTTP Request: PUT http://localhost:6333/collections/idearq/points?wait=true \"HTTP/1.1 200 OK\"\n",
      "2025-07-18 11:33:53,344 - INFO - HTTP Request: PUT http://localhost:6333/collections/idearq/points?wait=true \"HTTP/1.1 200 OK\"\n",
      "2025-07-18 11:33:56,502 - INFO - HTTP Request: PUT http://localhost:6333/collections/idearq/points?wait=true \"HTTP/1.1 200 OK\"\n",
      "2025-07-18 11:33:59,495 - INFO - HTTP Request: PUT http://localhost:6333/collections/idearq/points?wait=true \"HTTP/1.1 200 OK\"\n",
      "2025-07-18 11:34:02,566 - INFO - HTTP Request: PUT http://localhost:6333/collections/idearq/points?wait=true \"HTTP/1.1 200 OK\"\n",
      "2025-07-18 11:34:05,343 - INFO - HTTP Request: PUT http://localhost:6333/collections/idearq/points?wait=true \"HTTP/1.1 200 OK\"\n",
      "2025-07-18 11:34:08,366 - INFO - HTTP Request: PUT http://localhost:6333/collections/idearq/points?wait=true \"HTTP/1.1 200 OK\"\n",
      "2025-07-18 11:34:11,141 - INFO - HTTP Request: PUT http://localhost:6333/collections/idearq/points?wait=true \"HTTP/1.1 200 OK\"\n",
      "2025-07-18 11:34:14,167 - INFO - HTTP Request: PUT http://localhost:6333/collections/idearq/points?wait=true \"HTTP/1.1 200 OK\"\n",
      "2025-07-18 11:34:17,036 - INFO - HTTP Request: PUT http://localhost:6333/collections/idearq/points?wait=true \"HTTP/1.1 200 OK\"\n",
      "2025-07-18 11:34:20,159 - INFO - HTTP Request: PUT http://localhost:6333/collections/idearq/points?wait=true \"HTTP/1.1 200 OK\"\n",
      "2025-07-18 11:34:23,115 - INFO - HTTP Request: PUT http://localhost:6333/collections/idearq/points?wait=true \"HTTP/1.1 200 OK\"\n",
      "2025-07-18 11:34:26,029 - INFO - HTTP Request: PUT http://localhost:6333/collections/idearq/points?wait=true \"HTTP/1.1 200 OK\"\n",
      "2025-07-18 11:34:29,201 - INFO - HTTP Request: PUT http://localhost:6333/collections/idearq/points?wait=true \"HTTP/1.1 200 OK\"\n",
      "2025-07-18 11:34:32,228 - INFO - HTTP Request: PUT http://localhost:6333/collections/idearq/points?wait=true \"HTTP/1.1 200 OK\"\n",
      "2025-07-18 11:34:34,904 - INFO - HTTP Request: PUT http://localhost:6333/collections/idearq/points?wait=true \"HTTP/1.1 200 OK\"\n",
      "2025-07-18 11:34:37,768 - INFO - HTTP Request: PUT http://localhost:6333/collections/idearq/points?wait=true \"HTTP/1.1 200 OK\"\n",
      "2025-07-18 11:34:40,684 - INFO - HTTP Request: PUT http://localhost:6333/collections/idearq/points?wait=true \"HTTP/1.1 200 OK\"\n",
      "2025-07-18 11:34:43,590 - INFO - HTTP Request: PUT http://localhost:6333/collections/idearq/points?wait=true \"HTTP/1.1 200 OK\"\n",
      "2025-07-18 11:34:46,346 - INFO - HTTP Request: PUT http://localhost:6333/collections/idearq/points?wait=true \"HTTP/1.1 200 OK\"\n",
      "2025-07-18 11:34:49,468 - INFO - HTTP Request: PUT http://localhost:6333/collections/idearq/points?wait=true \"HTTP/1.1 200 OK\"\n",
      "2025-07-18 11:34:52,385 - INFO - HTTP Request: PUT http://localhost:6333/collections/idearq/points?wait=true \"HTTP/1.1 200 OK\"\n",
      "2025-07-18 11:34:55,321 - INFO - HTTP Request: PUT http://localhost:6333/collections/idearq/points?wait=true \"HTTP/1.1 200 OK\"\n",
      "2025-07-18 11:34:58,220 - INFO - HTTP Request: PUT http://localhost:6333/collections/idearq/points?wait=true \"HTTP/1.1 200 OK\"\n",
      "2025-07-18 11:35:01,150 - INFO - HTTP Request: PUT http://localhost:6333/collections/idearq/points?wait=true \"HTTP/1.1 200 OK\"\n",
      "2025-07-18 11:35:04,002 - INFO - HTTP Request: PUT http://localhost:6333/collections/idearq/points?wait=true \"HTTP/1.1 200 OK\"\n",
      "2025-07-18 11:35:06,791 - INFO - HTTP Request: PUT http://localhost:6333/collections/idearq/points?wait=true \"HTTP/1.1 200 OK\"\n",
      "2025-07-18 11:35:10,114 - INFO - HTTP Request: PUT http://localhost:6333/collections/idearq/points?wait=true \"HTTP/1.1 200 OK\"\n",
      "2025-07-18 11:35:13,541 - INFO - HTTP Request: PUT http://localhost:6333/collections/idearq/points?wait=true \"HTTP/1.1 200 OK\"\n",
      "2025-07-18 11:35:16,708 - INFO - HTTP Request: PUT http://localhost:6333/collections/idearq/points?wait=true \"HTTP/1.1 200 OK\"\n",
      "2025-07-18 11:35:20,097 - INFO - HTTP Request: PUT http://localhost:6333/collections/idearq/points?wait=true \"HTTP/1.1 200 OK\"\n",
      "2025-07-18 11:35:23,205 - INFO - HTTP Request: PUT http://localhost:6333/collections/idearq/points?wait=true \"HTTP/1.1 200 OK\"\n",
      "2025-07-18 11:35:26,318 - INFO - HTTP Request: PUT http://localhost:6333/collections/idearq/points?wait=true \"HTTP/1.1 200 OK\"\n",
      "2025-07-18 11:35:29,677 - INFO - HTTP Request: PUT http://localhost:6333/collections/idearq/points?wait=true \"HTTP/1.1 200 OK\"\n",
      "2025-07-18 11:35:33,017 - INFO - HTTP Request: PUT http://localhost:6333/collections/idearq/points?wait=true \"HTTP/1.1 200 OK\"\n",
      "2025-07-18 11:35:36,172 - INFO - HTTP Request: PUT http://localhost:6333/collections/idearq/points?wait=true \"HTTP/1.1 200 OK\"\n",
      "2025-07-18 11:35:40,012 - INFO - HTTP Request: PUT http://localhost:6333/collections/idearq/points?wait=true \"HTTP/1.1 200 OK\"\n",
      "2025-07-18 11:35:43,907 - INFO - HTTP Request: PUT http://localhost:6333/collections/idearq/points?wait=true \"HTTP/1.1 200 OK\"\n",
      "2025-07-18 11:35:47,099 - INFO - HTTP Request: PUT http://localhost:6333/collections/idearq/points?wait=true \"HTTP/1.1 200 OK\"\n",
      "2025-07-18 11:35:50,659 - INFO - HTTP Request: PUT http://localhost:6333/collections/idearq/points?wait=true \"HTTP/1.1 200 OK\"\n",
      "2025-07-18 11:35:54,298 - INFO - HTTP Request: PUT http://localhost:6333/collections/idearq/points?wait=true \"HTTP/1.1 200 OK\"\n",
      "2025-07-18 11:35:57,951 - INFO - HTTP Request: PUT http://localhost:6333/collections/idearq/points?wait=true \"HTTP/1.1 200 OK\"\n",
      "2025-07-18 11:36:02,093 - INFO - HTTP Request: PUT http://localhost:6333/collections/idearq/points?wait=true \"HTTP/1.1 200 OK\"\n",
      "2025-07-18 11:36:05,736 - INFO - HTTP Request: PUT http://localhost:6333/collections/idearq/points?wait=true \"HTTP/1.1 200 OK\"\n",
      "2025-07-18 11:36:08,881 - INFO - HTTP Request: PUT http://localhost:6333/collections/idearq/points?wait=true \"HTTP/1.1 200 OK\"\n",
      "2025-07-18 11:36:12,133 - INFO - HTTP Request: PUT http://localhost:6333/collections/idearq/points?wait=true \"HTTP/1.1 200 OK\"\n",
      "2025-07-18 11:36:15,281 - INFO - HTTP Request: PUT http://localhost:6333/collections/idearq/points?wait=true \"HTTP/1.1 200 OK\"\n",
      "2025-07-18 11:36:18,586 - INFO - HTTP Request: PUT http://localhost:6333/collections/idearq/points?wait=true \"HTTP/1.1 200 OK\"\n",
      "2025-07-18 11:36:22,055 - INFO - HTTP Request: PUT http://localhost:6333/collections/idearq/points?wait=true \"HTTP/1.1 200 OK\"\n",
      "2025-07-18 11:36:25,111 - INFO - HTTP Request: PUT http://localhost:6333/collections/idearq/points?wait=true \"HTTP/1.1 200 OK\"\n",
      "2025-07-18 11:36:28,161 - INFO - HTTP Request: PUT http://localhost:6333/collections/idearq/points?wait=true \"HTTP/1.1 200 OK\"\n",
      "2025-07-18 11:36:31,242 - INFO - HTTP Request: PUT http://localhost:6333/collections/idearq/points?wait=true \"HTTP/1.1 200 OK\"\n",
      "2025-07-18 11:36:34,113 - INFO - HTTP Request: PUT http://localhost:6333/collections/idearq/points?wait=true \"HTTP/1.1 200 OK\"\n",
      "2025-07-18 11:36:36,900 - INFO - HTTP Request: PUT http://localhost:6333/collections/idearq/points?wait=true \"HTTP/1.1 200 OK\"\n",
      "2025-07-18 11:36:39,911 - INFO - HTTP Request: PUT http://localhost:6333/collections/idearq/points?wait=true \"HTTP/1.1 200 OK\"\n",
      "2025-07-18 11:36:43,210 - INFO - HTTP Request: PUT http://localhost:6333/collections/idearq/points?wait=true \"HTTP/1.1 200 OK\"\n",
      "2025-07-18 11:36:47,290 - INFO - HTTP Request: PUT http://localhost:6333/collections/idearq/points?wait=true \"HTTP/1.1 200 OK\"\n",
      "2025-07-18 11:36:52,197 - INFO - HTTP Request: PUT http://localhost:6333/collections/idearq/points?wait=true \"HTTP/1.1 200 OK\"\n",
      "2025-07-18 11:36:55,744 - INFO - HTTP Request: PUT http://localhost:6333/collections/idearq/points?wait=true \"HTTP/1.1 200 OK\"\n",
      "2025-07-18 11:36:59,108 - INFO - HTTP Request: PUT http://localhost:6333/collections/idearq/points?wait=true \"HTTP/1.1 200 OK\"\n",
      "2025-07-18 11:37:02,604 - INFO - HTTP Request: PUT http://localhost:6333/collections/idearq/points?wait=true \"HTTP/1.1 200 OK\"\n",
      "2025-07-18 11:37:05,745 - INFO - HTTP Request: PUT http://localhost:6333/collections/idearq/points?wait=true \"HTTP/1.1 200 OK\"\n",
      "2025-07-18 11:37:08,686 - INFO - HTTP Request: PUT http://localhost:6333/collections/idearq/points?wait=true \"HTTP/1.1 200 OK\"\n",
      "2025-07-18 11:37:11,728 - INFO - HTTP Request: PUT http://localhost:6333/collections/idearq/points?wait=true \"HTTP/1.1 200 OK\"\n",
      "2025-07-18 11:37:14,755 - INFO - HTTP Request: PUT http://localhost:6333/collections/idearq/points?wait=true \"HTTP/1.1 200 OK\"\n",
      "2025-07-18 11:37:17,818 - INFO - HTTP Request: PUT http://localhost:6333/collections/idearq/points?wait=true \"HTTP/1.1 200 OK\"\n",
      "2025-07-18 11:37:21,492 - INFO - HTTP Request: PUT http://localhost:6333/collections/idearq/points?wait=true \"HTTP/1.1 200 OK\"\n",
      "2025-07-18 11:37:24,522 - INFO - HTTP Request: PUT http://localhost:6333/collections/idearq/points?wait=true \"HTTP/1.1 200 OK\"\n",
      "2025-07-18 11:37:27,865 - INFO - HTTP Request: PUT http://localhost:6333/collections/idearq/points?wait=true \"HTTP/1.1 200 OK\"\n",
      "2025-07-18 11:37:31,087 - INFO - HTTP Request: PUT http://localhost:6333/collections/idearq/points?wait=true \"HTTP/1.1 200 OK\"\n",
      "2025-07-18 11:37:34,256 - INFO - HTTP Request: PUT http://localhost:6333/collections/idearq/points?wait=true \"HTTP/1.1 200 OK\"\n",
      "2025-07-18 11:37:37,317 - INFO - HTTP Request: PUT http://localhost:6333/collections/idearq/points?wait=true \"HTTP/1.1 200 OK\"\n",
      "2025-07-18 11:37:40,357 - INFO - HTTP Request: PUT http://localhost:6333/collections/idearq/points?wait=true \"HTTP/1.1 200 OK\"\n",
      "2025-07-18 11:37:43,563 - INFO - HTTP Request: PUT http://localhost:6333/collections/idearq/points?wait=true \"HTTP/1.1 200 OK\"\n",
      "2025-07-18 11:37:46,895 - INFO - HTTP Request: PUT http://localhost:6333/collections/idearq/points?wait=true \"HTTP/1.1 200 OK\"\n",
      "2025-07-18 11:37:50,023 - INFO - HTTP Request: PUT http://localhost:6333/collections/idearq/points?wait=true \"HTTP/1.1 200 OK\"\n",
      "2025-07-18 11:37:53,194 - INFO - HTTP Request: PUT http://localhost:6333/collections/idearq/points?wait=true \"HTTP/1.1 200 OK\"\n",
      "2025-07-18 11:37:56,445 - INFO - HTTP Request: PUT http://localhost:6333/collections/idearq/points?wait=true \"HTTP/1.1 200 OK\"\n",
      "2025-07-18 11:37:59,681 - INFO - HTTP Request: PUT http://localhost:6333/collections/idearq/points?wait=true \"HTTP/1.1 200 OK\"\n",
      "2025-07-18 11:38:02,971 - INFO - HTTP Request: PUT http://localhost:6333/collections/idearq/points?wait=true \"HTTP/1.1 200 OK\"\n",
      "2025-07-18 11:38:06,081 - INFO - HTTP Request: PUT http://localhost:6333/collections/idearq/points?wait=true \"HTTP/1.1 200 OK\"\n",
      "2025-07-18 11:38:09,568 - INFO - HTTP Request: PUT http://localhost:6333/collections/idearq/points?wait=true \"HTTP/1.1 200 OK\"\n",
      "2025-07-18 11:38:12,515 - INFO - HTTP Request: PUT http://localhost:6333/collections/idearq/points?wait=true \"HTTP/1.1 200 OK\"\n",
      "2025-07-18 11:38:15,578 - INFO - HTTP Request: PUT http://localhost:6333/collections/idearq/points?wait=true \"HTTP/1.1 200 OK\"\n",
      "2025-07-18 11:38:19,285 - INFO - HTTP Request: PUT http://localhost:6333/collections/idearq/points?wait=true \"HTTP/1.1 200 OK\"\n",
      "2025-07-18 11:38:22,829 - INFO - HTTP Request: PUT http://localhost:6333/collections/idearq/points?wait=true \"HTTP/1.1 200 OK\"\n",
      "2025-07-18 11:38:26,111 - INFO - HTTP Request: PUT http://localhost:6333/collections/idearq/points?wait=true \"HTTP/1.1 200 OK\"\n",
      "2025-07-18 11:38:29,311 - INFO - HTTP Request: PUT http://localhost:6333/collections/idearq/points?wait=true \"HTTP/1.1 200 OK\"\n",
      "2025-07-18 11:38:32,585 - INFO - HTTP Request: PUT http://localhost:6333/collections/idearq/points?wait=true \"HTTP/1.1 200 OK\"\n",
      "2025-07-18 11:38:35,538 - INFO - HTTP Request: PUT http://localhost:6333/collections/idearq/points?wait=true \"HTTP/1.1 200 OK\"\n",
      "2025-07-18 11:38:38,695 - INFO - HTTP Request: PUT http://localhost:6333/collections/idearq/points?wait=true \"HTTP/1.1 200 OK\"\n",
      "2025-07-18 11:38:43,486 - INFO - HTTP Request: PUT http://localhost:6333/collections/idearq/points?wait=true \"HTTP/1.1 200 OK\"\n",
      "2025-07-18 11:38:49,359 - INFO - HTTP Request: PUT http://localhost:6333/collections/idearq/points?wait=true \"HTTP/1.1 200 OK\"\n",
      "2025-07-18 11:38:55,084 - INFO - HTTP Request: PUT http://localhost:6333/collections/idearq/points?wait=true \"HTTP/1.1 200 OK\"\n",
      "2025-07-18 11:39:00,538 - INFO - HTTP Request: PUT http://localhost:6333/collections/idearq/points?wait=true \"HTTP/1.1 200 OK\"\n",
      "2025-07-18 11:39:05,963 - INFO - HTTP Request: PUT http://localhost:6333/collections/idearq/points?wait=true \"HTTP/1.1 200 OK\"\n",
      "2025-07-18 11:39:11,420 - INFO - HTTP Request: PUT http://localhost:6333/collections/idearq/points?wait=true \"HTTP/1.1 200 OK\"\n",
      "2025-07-18 11:39:16,042 - INFO - HTTP Request: PUT http://localhost:6333/collections/idearq/points?wait=true \"HTTP/1.1 200 OK\"\n",
      "2025-07-18 11:39:19,391 - INFO - HTTP Request: PUT http://localhost:6333/collections/idearq/points?wait=true \"HTTP/1.1 200 OK\"\n",
      "2025-07-18 11:39:22,866 - INFO - HTTP Request: PUT http://localhost:6333/collections/idearq/points?wait=true \"HTTP/1.1 200 OK\"\n",
      "2025-07-18 11:39:25,919 - INFO - HTTP Request: PUT http://localhost:6333/collections/idearq/points?wait=true \"HTTP/1.1 200 OK\"\n",
      "2025-07-18 11:39:29,330 - INFO - HTTP Request: PUT http://localhost:6333/collections/idearq/points?wait=true \"HTTP/1.1 200 OK\"\n",
      "2025-07-18 11:39:33,738 - INFO - HTTP Request: PUT http://localhost:6333/collections/idearq/points?wait=true \"HTTP/1.1 200 OK\"\n",
      "2025-07-18 11:39:36,764 - INFO - HTTP Request: PUT http://localhost:6333/collections/idearq/points?wait=true \"HTTP/1.1 200 OK\"\n",
      "2025-07-18 11:39:40,222 - INFO - HTTP Request: PUT http://localhost:6333/collections/idearq/points?wait=true \"HTTP/1.1 200 OK\"\n",
      "2025-07-18 11:39:43,546 - INFO - HTTP Request: PUT http://localhost:6333/collections/idearq/points?wait=true \"HTTP/1.1 200 OK\"\n",
      "2025-07-18 11:39:46,785 - INFO - HTTP Request: PUT http://localhost:6333/collections/idearq/points?wait=true \"HTTP/1.1 200 OK\"\n",
      "2025-07-18 11:39:50,414 - INFO - HTTP Request: PUT http://localhost:6333/collections/idearq/points?wait=true \"HTTP/1.1 200 OK\"\n",
      "2025-07-18 11:39:53,615 - INFO - HTTP Request: PUT http://localhost:6333/collections/idearq/points?wait=true \"HTTP/1.1 200 OK\"\n",
      "2025-07-18 11:39:56,939 - INFO - HTTP Request: PUT http://localhost:6333/collections/idearq/points?wait=true \"HTTP/1.1 200 OK\"\n",
      "2025-07-18 11:40:00,361 - INFO - HTTP Request: PUT http://localhost:6333/collections/idearq/points?wait=true \"HTTP/1.1 200 OK\"\n",
      "2025-07-18 11:40:03,748 - INFO - HTTP Request: PUT http://localhost:6333/collections/idearq/points?wait=true \"HTTP/1.1 200 OK\"\n",
      "2025-07-18 11:40:07,625 - INFO - HTTP Request: PUT http://localhost:6333/collections/idearq/points?wait=true \"HTTP/1.1 200 OK\"\n",
      "2025-07-18 11:40:11,003 - INFO - HTTP Request: PUT http://localhost:6333/collections/idearq/points?wait=true \"HTTP/1.1 200 OK\"\n",
      "2025-07-18 11:40:14,183 - INFO - HTTP Request: PUT http://localhost:6333/collections/idearq/points?wait=true \"HTTP/1.1 200 OK\"\n",
      "2025-07-18 11:40:17,546 - INFO - HTTP Request: PUT http://localhost:6333/collections/idearq/points?wait=true \"HTTP/1.1 200 OK\"\n",
      "2025-07-18 11:40:21,346 - INFO - HTTP Request: PUT http://localhost:6333/collections/idearq/points?wait=true \"HTTP/1.1 200 OK\"\n",
      "2025-07-18 11:40:24,688 - INFO - HTTP Request: PUT http://localhost:6333/collections/idearq/points?wait=true \"HTTP/1.1 200 OK\"\n",
      "2025-07-18 11:40:27,743 - INFO - HTTP Request: PUT http://localhost:6333/collections/idearq/points?wait=true \"HTTP/1.1 200 OK\"\n",
      "2025-07-18 11:40:30,884 - INFO - HTTP Request: PUT http://localhost:6333/collections/idearq/points?wait=true \"HTTP/1.1 200 OK\"\n",
      "2025-07-18 11:40:34,099 - INFO - HTTP Request: PUT http://localhost:6333/collections/idearq/points?wait=true \"HTTP/1.1 200 OK\"\n",
      "2025-07-18 11:40:37,206 - INFO - HTTP Request: PUT http://localhost:6333/collections/idearq/points?wait=true \"HTTP/1.1 200 OK\"\n",
      "2025-07-18 11:40:40,515 - INFO - HTTP Request: PUT http://localhost:6333/collections/idearq/points?wait=true \"HTTP/1.1 200 OK\"\n",
      "2025-07-18 11:40:43,606 - INFO - HTTP Request: PUT http://localhost:6333/collections/idearq/points?wait=true \"HTTP/1.1 200 OK\"\n",
      "2025-07-18 11:40:46,569 - INFO - HTTP Request: PUT http://localhost:6333/collections/idearq/points?wait=true \"HTTP/1.1 200 OK\"\n",
      "2025-07-18 11:40:49,767 - INFO - HTTP Request: PUT http://localhost:6333/collections/idearq/points?wait=true \"HTTP/1.1 200 OK\"\n",
      "2025-07-18 11:40:52,961 - INFO - HTTP Request: PUT http://localhost:6333/collections/idearq/points?wait=true \"HTTP/1.1 200 OK\"\n",
      "2025-07-18 11:40:55,994 - INFO - HTTP Request: PUT http://localhost:6333/collections/idearq/points?wait=true \"HTTP/1.1 200 OK\"\n",
      "2025-07-18 11:40:59,524 - INFO - HTTP Request: PUT http://localhost:6333/collections/idearq/points?wait=true \"HTTP/1.1 200 OK\"\n",
      "2025-07-18 11:41:02,945 - INFO - HTTP Request: PUT http://localhost:6333/collections/idearq/points?wait=true \"HTTP/1.1 200 OK\"\n",
      "2025-07-18 11:41:05,787 - INFO - HTTP Request: PUT http://localhost:6333/collections/idearq/points?wait=true \"HTTP/1.1 200 OK\"\n",
      "2025-07-18 11:41:08,839 - INFO - HTTP Request: PUT http://localhost:6333/collections/idearq/points?wait=true \"HTTP/1.1 200 OK\"\n",
      "2025-07-18 11:41:11,850 - INFO - HTTP Request: PUT http://localhost:6333/collections/idearq/points?wait=true \"HTTP/1.1 200 OK\"\n",
      "2025-07-18 11:41:14,820 - INFO - HTTP Request: PUT http://localhost:6333/collections/idearq/points?wait=true \"HTTP/1.1 200 OK\"\n",
      "2025-07-18 11:41:17,863 - INFO - HTTP Request: PUT http://localhost:6333/collections/idearq/points?wait=true \"HTTP/1.1 200 OK\"\n",
      "2025-07-18 11:41:21,184 - INFO - HTTP Request: PUT http://localhost:6333/collections/idearq/points?wait=true \"HTTP/1.1 200 OK\"\n",
      "2025-07-18 11:41:24,172 - INFO - HTTP Request: PUT http://localhost:6333/collections/idearq/points?wait=true \"HTTP/1.1 200 OK\"\n",
      "2025-07-18 11:41:27,303 - INFO - HTTP Request: PUT http://localhost:6333/collections/idearq/points?wait=true \"HTTP/1.1 200 OK\"\n",
      "2025-07-18 11:41:30,251 - INFO - HTTP Request: PUT http://localhost:6333/collections/idearq/points?wait=true \"HTTP/1.1 200 OK\"\n",
      "2025-07-18 11:41:33,124 - INFO - HTTP Request: PUT http://localhost:6333/collections/idearq/points?wait=true \"HTTP/1.1 200 OK\"\n",
      "2025-07-18 11:41:35,817 - INFO - HTTP Request: PUT http://localhost:6333/collections/idearq/points?wait=true \"HTTP/1.1 200 OK\"\n",
      "2025-07-18 11:41:38,702 - INFO - HTTP Request: PUT http://localhost:6333/collections/idearq/points?wait=true \"HTTP/1.1 200 OK\"\n",
      "2025-07-18 11:41:41,485 - INFO - HTTP Request: PUT http://localhost:6333/collections/idearq/points?wait=true \"HTTP/1.1 200 OK\"\n",
      "2025-07-18 11:41:44,455 - INFO - HTTP Request: PUT http://localhost:6333/collections/idearq/points?wait=true \"HTTP/1.1 200 OK\"\n",
      "2025-07-18 11:41:47,309 - INFO - HTTP Request: PUT http://localhost:6333/collections/idearq/points?wait=true \"HTTP/1.1 200 OK\"\n",
      "2025-07-18 11:41:50,376 - INFO - HTTP Request: PUT http://localhost:6333/collections/idearq/points?wait=true \"HTTP/1.1 200 OK\"\n",
      "2025-07-18 11:41:53,303 - INFO - HTTP Request: PUT http://localhost:6333/collections/idearq/points?wait=true \"HTTP/1.1 200 OK\"\n",
      "2025-07-18 11:41:56,213 - INFO - HTTP Request: PUT http://localhost:6333/collections/idearq/points?wait=true \"HTTP/1.1 200 OK\"\n",
      "2025-07-18 11:41:59,142 - INFO - HTTP Request: PUT http://localhost:6333/collections/idearq/points?wait=true \"HTTP/1.1 200 OK\"\n",
      "2025-07-18 11:42:01,919 - INFO - HTTP Request: PUT http://localhost:6333/collections/idearq/points?wait=true \"HTTP/1.1 200 OK\"\n",
      "2025-07-18 11:42:04,711 - INFO - HTTP Request: PUT http://localhost:6333/collections/idearq/points?wait=true \"HTTP/1.1 200 OK\"\n",
      "2025-07-18 11:42:07,444 - INFO - HTTP Request: PUT http://localhost:6333/collections/idearq/points?wait=true \"HTTP/1.1 200 OK\"\n",
      "2025-07-18 11:42:10,898 - INFO - HTTP Request: PUT http://localhost:6333/collections/idearq/points?wait=true \"HTTP/1.1 200 OK\"\n",
      "2025-07-18 11:42:14,219 - INFO - HTTP Request: PUT http://localhost:6333/collections/idearq/points?wait=true \"HTTP/1.1 200 OK\"\n",
      "2025-07-18 11:42:17,226 - INFO - HTTP Request: PUT http://localhost:6333/collections/idearq/points?wait=true \"HTTP/1.1 200 OK\"\n",
      "2025-07-18 11:42:20,647 - INFO - HTTP Request: PUT http://localhost:6333/collections/idearq/points?wait=true \"HTTP/1.1 200 OK\"\n",
      "2025-07-18 11:42:23,698 - INFO - HTTP Request: PUT http://localhost:6333/collections/idearq/points?wait=true \"HTTP/1.1 200 OK\"\n",
      "2025-07-18 11:42:26,714 - INFO - HTTP Request: PUT http://localhost:6333/collections/idearq/points?wait=true \"HTTP/1.1 200 OK\"\n",
      "2025-07-18 11:42:29,903 - INFO - HTTP Request: PUT http://localhost:6333/collections/idearq/points?wait=true \"HTTP/1.1 200 OK\"\n",
      "2025-07-18 11:42:32,992 - INFO - HTTP Request: PUT http://localhost:6333/collections/idearq/points?wait=true \"HTTP/1.1 200 OK\"\n",
      "2025-07-18 11:42:36,017 - INFO - HTTP Request: PUT http://localhost:6333/collections/idearq/points?wait=true \"HTTP/1.1 200 OK\"\n",
      "2025-07-18 11:42:38,974 - INFO - HTTP Request: PUT http://localhost:6333/collections/idearq/points?wait=true \"HTTP/1.1 200 OK\"\n",
      "2025-07-18 11:42:41,804 - INFO - HTTP Request: PUT http://localhost:6333/collections/idearq/points?wait=true \"HTTP/1.1 200 OK\"\n",
      "2025-07-18 11:42:45,349 - INFO - HTTP Request: PUT http://localhost:6333/collections/idearq/points?wait=true \"HTTP/1.1 200 OK\"\n",
      "2025-07-18 11:42:49,165 - INFO - HTTP Request: PUT http://localhost:6333/collections/idearq/points?wait=true \"HTTP/1.1 200 OK\"\n",
      "2025-07-18 11:42:52,094 - INFO - HTTP Request: PUT http://localhost:6333/collections/idearq/points?wait=true \"HTTP/1.1 200 OK\"\n",
      "2025-07-18 11:42:55,473 - INFO - HTTP Request: PUT http://localhost:6333/collections/idearq/points?wait=true \"HTTP/1.1 200 OK\"\n",
      "2025-07-18 11:42:58,479 - INFO - HTTP Request: PUT http://localhost:6333/collections/idearq/points?wait=true \"HTTP/1.1 200 OK\"\n",
      "2025-07-18 11:43:01,861 - INFO - HTTP Request: PUT http://localhost:6333/collections/idearq/points?wait=true \"HTTP/1.1 200 OK\"\n",
      "2025-07-18 11:43:05,375 - INFO - HTTP Request: PUT http://localhost:6333/collections/idearq/points?wait=true \"HTTP/1.1 200 OK\"\n",
      "2025-07-18 11:43:08,738 - INFO - HTTP Request: PUT http://localhost:6333/collections/idearq/points?wait=true \"HTTP/1.1 200 OK\"\n",
      "2025-07-18 11:43:11,966 - INFO - HTTP Request: PUT http://localhost:6333/collections/idearq/points?wait=true \"HTTP/1.1 200 OK\"\n",
      "2025-07-18 11:43:15,624 - INFO - HTTP Request: PUT http://localhost:6333/collections/idearq/points?wait=true \"HTTP/1.1 200 OK\"\n",
      "2025-07-18 11:43:18,889 - INFO - HTTP Request: PUT http://localhost:6333/collections/idearq/points?wait=true \"HTTP/1.1 200 OK\"\n",
      "2025-07-18 11:43:22,018 - INFO - HTTP Request: PUT http://localhost:6333/collections/idearq/points?wait=true \"HTTP/1.1 200 OK\"\n",
      "2025-07-18 11:43:25,020 - INFO - HTTP Request: PUT http://localhost:6333/collections/idearq/points?wait=true \"HTTP/1.1 200 OK\"\n",
      "2025-07-18 11:43:28,205 - INFO - HTTP Request: PUT http://localhost:6333/collections/idearq/points?wait=true \"HTTP/1.1 200 OK\"\n",
      "2025-07-18 11:43:31,251 - INFO - HTTP Request: PUT http://localhost:6333/collections/idearq/points?wait=true \"HTTP/1.1 200 OK\"\n",
      "2025-07-18 11:43:33,975 - INFO - HTTP Request: PUT http://localhost:6333/collections/idearq/points?wait=true \"HTTP/1.1 200 OK\"\n",
      "2025-07-18 11:43:36,797 - INFO - HTTP Request: PUT http://localhost:6333/collections/idearq/points?wait=true \"HTTP/1.1 200 OK\"\n",
      "2025-07-18 11:43:39,711 - INFO - HTTP Request: PUT http://localhost:6333/collections/idearq/points?wait=true \"HTTP/1.1 200 OK\"\n",
      "2025-07-18 11:43:42,327 - INFO - HTTP Request: PUT http://localhost:6333/collections/idearq/points?wait=true \"HTTP/1.1 200 OK\"\n",
      "2025-07-18 11:43:45,103 - INFO - HTTP Request: PUT http://localhost:6333/collections/idearq/points?wait=true \"HTTP/1.1 200 OK\"\n",
      "2025-07-18 11:43:47,675 - INFO - HTTP Request: PUT http://localhost:6333/collections/idearq/points?wait=true \"HTTP/1.1 200 OK\"\n",
      "2025-07-18 11:43:50,512 - INFO - HTTP Request: PUT http://localhost:6333/collections/idearq/points?wait=true \"HTTP/1.1 200 OK\"\n",
      "2025-07-18 11:43:53,012 - INFO - HTTP Request: PUT http://localhost:6333/collections/idearq/points?wait=true \"HTTP/1.1 200 OK\"\n",
      "2025-07-18 11:43:55,540 - INFO - HTTP Request: PUT http://localhost:6333/collections/idearq/points?wait=true \"HTTP/1.1 200 OK\"\n",
      "2025-07-18 11:43:58,138 - INFO - HTTP Request: PUT http://localhost:6333/collections/idearq/points?wait=true \"HTTP/1.1 200 OK\"\n",
      "2025-07-18 11:44:01,427 - INFO - HTTP Request: PUT http://localhost:6333/collections/idearq/points?wait=true \"HTTP/1.1 200 OK\"\n",
      "2025-07-18 11:44:04,548 - INFO - HTTP Request: PUT http://localhost:6333/collections/idearq/points?wait=true \"HTTP/1.1 200 OK\"\n",
      "2025-07-18 11:44:07,136 - INFO - HTTP Request: PUT http://localhost:6333/collections/idearq/points?wait=true \"HTTP/1.1 200 OK\"\n",
      "2025-07-18 11:44:10,356 - INFO - HTTP Request: PUT http://localhost:6333/collections/idearq/points?wait=true \"HTTP/1.1 200 OK\"\n",
      "2025-07-18 11:44:13,204 - INFO - HTTP Request: PUT http://localhost:6333/collections/idearq/points?wait=true \"HTTP/1.1 200 OK\"\n",
      "2025-07-18 11:44:16,156 - INFO - HTTP Request: PUT http://localhost:6333/collections/idearq/points?wait=true \"HTTP/1.1 200 OK\"\n",
      "2025-07-18 11:44:19,527 - INFO - HTTP Request: PUT http://localhost:6333/collections/idearq/points?wait=true \"HTTP/1.1 200 OK\"\n",
      "2025-07-18 11:44:22,939 - INFO - HTTP Request: PUT http://localhost:6333/collections/idearq/points?wait=true \"HTTP/1.1 200 OK\"\n",
      "2025-07-18 11:44:26,248 - INFO - HTTP Request: PUT http://localhost:6333/collections/idearq/points?wait=true \"HTTP/1.1 200 OK\"\n",
      "2025-07-18 11:44:29,268 - INFO - HTTP Request: PUT http://localhost:6333/collections/idearq/points?wait=true \"HTTP/1.1 200 OK\"\n",
      "2025-07-18 11:44:32,684 - INFO - HTTP Request: PUT http://localhost:6333/collections/idearq/points?wait=true \"HTTP/1.1 200 OK\"\n",
      "2025-07-18 11:44:35,737 - INFO - HTTP Request: PUT http://localhost:6333/collections/idearq/points?wait=true \"HTTP/1.1 200 OK\"\n",
      "2025-07-18 11:44:38,943 - INFO - HTTP Request: PUT http://localhost:6333/collections/idearq/points?wait=true \"HTTP/1.1 200 OK\"\n",
      "2025-07-18 11:44:41,663 - INFO - HTTP Request: PUT http://localhost:6333/collections/idearq/points?wait=true \"HTTP/1.1 200 OK\"\n",
      "2025-07-18 11:44:44,493 - INFO - HTTP Request: PUT http://localhost:6333/collections/idearq/points?wait=true \"HTTP/1.1 200 OK\"\n",
      "2025-07-18 11:44:47,456 - INFO - HTTP Request: PUT http://localhost:6333/collections/idearq/points?wait=true \"HTTP/1.1 200 OK\"\n",
      "2025-07-18 11:44:50,553 - INFO - HTTP Request: PUT http://localhost:6333/collections/idearq/points?wait=true \"HTTP/1.1 200 OK\"\n",
      "2025-07-18 11:44:53,316 - INFO - HTTP Request: PUT http://localhost:6333/collections/idearq/points?wait=true \"HTTP/1.1 200 OK\"\n",
      "2025-07-18 11:44:55,947 - INFO - HTTP Request: PUT http://localhost:6333/collections/idearq/points?wait=true \"HTTP/1.1 200 OK\"\n",
      "2025-07-18 11:44:58,862 - INFO - HTTP Request: PUT http://localhost:6333/collections/idearq/points?wait=true \"HTTP/1.1 200 OK\"\n",
      "2025-07-18 11:45:01,548 - INFO - HTTP Request: PUT http://localhost:6333/collections/idearq/points?wait=true \"HTTP/1.1 200 OK\"\n",
      "2025-07-18 11:45:04,200 - INFO - HTTP Request: PUT http://localhost:6333/collections/idearq/points?wait=true \"HTTP/1.1 200 OK\"\n",
      "2025-07-18 11:45:06,920 - INFO - HTTP Request: PUT http://localhost:6333/collections/idearq/points?wait=true \"HTTP/1.1 200 OK\"\n",
      "2025-07-18 11:45:09,640 - INFO - HTTP Request: PUT http://localhost:6333/collections/idearq/points?wait=true \"HTTP/1.1 200 OK\"\n",
      "2025-07-18 11:45:12,377 - INFO - HTTP Request: PUT http://localhost:6333/collections/idearq/points?wait=true \"HTTP/1.1 200 OK\"\n",
      "2025-07-18 11:45:15,020 - INFO - HTTP Request: PUT http://localhost:6333/collections/idearq/points?wait=true \"HTTP/1.1 200 OK\"\n",
      "2025-07-18 11:45:17,769 - INFO - HTTP Request: PUT http://localhost:6333/collections/idearq/points?wait=true \"HTTP/1.1 200 OK\"\n",
      "2025-07-18 11:45:20,690 - INFO - HTTP Request: PUT http://localhost:6333/collections/idearq/points?wait=true \"HTTP/1.1 200 OK\"\n",
      "2025-07-18 11:45:23,510 - INFO - HTTP Request: PUT http://localhost:6333/collections/idearq/points?wait=true \"HTTP/1.1 200 OK\"\n",
      "2025-07-18 11:45:26,171 - INFO - HTTP Request: PUT http://localhost:6333/collections/idearq/points?wait=true \"HTTP/1.1 200 OK\"\n",
      "2025-07-18 11:45:28,991 - INFO - HTTP Request: PUT http://localhost:6333/collections/idearq/points?wait=true \"HTTP/1.1 200 OK\"\n",
      "2025-07-18 11:45:31,734 - INFO - HTTP Request: PUT http://localhost:6333/collections/idearq/points?wait=true \"HTTP/1.1 200 OK\"\n",
      "2025-07-18 11:45:34,481 - INFO - HTTP Request: PUT http://localhost:6333/collections/idearq/points?wait=true \"HTTP/1.1 200 OK\"\n",
      "2025-07-18 11:45:37,185 - INFO - HTTP Request: PUT http://localhost:6333/collections/idearq/points?wait=true \"HTTP/1.1 200 OK\"\n",
      "2025-07-18 11:45:40,039 - INFO - HTTP Request: PUT http://localhost:6333/collections/idearq/points?wait=true \"HTTP/1.1 200 OK\"\n",
      "2025-07-18 11:45:42,780 - INFO - HTTP Request: PUT http://localhost:6333/collections/idearq/points?wait=true \"HTTP/1.1 200 OK\"\n",
      "2025-07-18 11:45:45,525 - INFO - HTTP Request: PUT http://localhost:6333/collections/idearq/points?wait=true \"HTTP/1.1 200 OK\"\n",
      "2025-07-18 11:45:48,467 - INFO - HTTP Request: PUT http://localhost:6333/collections/idearq/points?wait=true \"HTTP/1.1 200 OK\"\n",
      "2025-07-18 11:45:51,371 - INFO - HTTP Request: PUT http://localhost:6333/collections/idearq/points?wait=true \"HTTP/1.1 200 OK\"\n",
      "2025-07-18 11:45:54,615 - INFO - HTTP Request: PUT http://localhost:6333/collections/idearq/points?wait=true \"HTTP/1.1 200 OK\"\n",
      "2025-07-18 11:45:57,954 - INFO - HTTP Request: PUT http://localhost:6333/collections/idearq/points?wait=true \"HTTP/1.1 200 OK\"\n",
      "2025-07-18 11:46:00,940 - INFO - HTTP Request: PUT http://localhost:6333/collections/idearq/points?wait=true \"HTTP/1.1 200 OK\"\n",
      "2025-07-18 11:46:03,704 - INFO - HTTP Request: PUT http://localhost:6333/collections/idearq/points?wait=true \"HTTP/1.1 200 OK\"\n",
      "2025-07-18 11:46:06,206 - INFO - HTTP Request: PUT http://localhost:6333/collections/idearq/points?wait=true \"HTTP/1.1 200 OK\"\n",
      "2025-07-18 11:46:08,934 - INFO - HTTP Request: PUT http://localhost:6333/collections/idearq/points?wait=true \"HTTP/1.1 200 OK\"\n",
      "2025-07-18 11:46:11,470 - INFO - HTTP Request: PUT http://localhost:6333/collections/idearq/points?wait=true \"HTTP/1.1 200 OK\"\n",
      "2025-07-18 11:46:14,045 - INFO - HTTP Request: PUT http://localhost:6333/collections/idearq/points?wait=true \"HTTP/1.1 200 OK\"\n",
      "2025-07-18 11:46:16,560 - INFO - HTTP Request: PUT http://localhost:6333/collections/idearq/points?wait=true \"HTTP/1.1 200 OK\"\n",
      "2025-07-18 11:46:19,375 - INFO - HTTP Request: PUT http://localhost:6333/collections/idearq/points?wait=true \"HTTP/1.1 200 OK\"\n",
      "2025-07-18 11:46:21,944 - INFO - HTTP Request: PUT http://localhost:6333/collections/idearq/points?wait=true \"HTTP/1.1 200 OK\"\n",
      "2025-07-18 11:46:24,559 - INFO - HTTP Request: PUT http://localhost:6333/collections/idearq/points?wait=true \"HTTP/1.1 200 OK\"\n",
      "2025-07-18 11:46:27,111 - INFO - HTTP Request: PUT http://localhost:6333/collections/idearq/points?wait=true \"HTTP/1.1 200 OK\"\n",
      "2025-07-18 11:46:29,788 - INFO - HTTP Request: PUT http://localhost:6333/collections/idearq/points?wait=true \"HTTP/1.1 200 OK\"\n",
      "2025-07-18 11:46:32,397 - INFO - HTTP Request: PUT http://localhost:6333/collections/idearq/points?wait=true \"HTTP/1.1 200 OK\"\n",
      "2025-07-18 11:46:34,971 - INFO - HTTP Request: PUT http://localhost:6333/collections/idearq/points?wait=true \"HTTP/1.1 200 OK\"\n",
      "2025-07-18 11:46:37,479 - INFO - HTTP Request: PUT http://localhost:6333/collections/idearq/points?wait=true \"HTTP/1.1 200 OK\"\n",
      "2025-07-18 11:46:40,182 - INFO - HTTP Request: PUT http://localhost:6333/collections/idearq/points?wait=true \"HTTP/1.1 200 OK\"\n",
      "2025-07-18 11:46:42,752 - INFO - HTTP Request: PUT http://localhost:6333/collections/idearq/points?wait=true \"HTTP/1.1 200 OK\"\n",
      "2025-07-18 11:46:45,529 - INFO - HTTP Request: PUT http://localhost:6333/collections/idearq/points?wait=true \"HTTP/1.1 200 OK\"\n",
      "2025-07-18 11:46:48,247 - INFO - HTTP Request: PUT http://localhost:6333/collections/idearq/points?wait=true \"HTTP/1.1 200 OK\"\n",
      "2025-07-18 11:46:51,313 - INFO - HTTP Request: PUT http://localhost:6333/collections/idearq/points?wait=true \"HTTP/1.1 200 OK\"\n",
      "2025-07-18 11:46:53,880 - INFO - HTTP Request: PUT http://localhost:6333/collections/idearq/points?wait=true \"HTTP/1.1 200 OK\"\n",
      "2025-07-18 11:46:56,416 - INFO - HTTP Request: PUT http://localhost:6333/collections/idearq/points?wait=true \"HTTP/1.1 200 OK\"\n",
      "2025-07-18 11:46:59,119 - INFO - HTTP Request: PUT http://localhost:6333/collections/idearq/points?wait=true \"HTTP/1.1 200 OK\"\n",
      "2025-07-18 11:47:01,943 - INFO - HTTP Request: PUT http://localhost:6333/collections/idearq/points?wait=true \"HTTP/1.1 200 OK\"\n",
      "2025-07-18 11:47:04,637 - INFO - HTTP Request: PUT http://localhost:6333/collections/idearq/points?wait=true \"HTTP/1.1 200 OK\"\n",
      "2025-07-18 11:47:07,460 - INFO - HTTP Request: PUT http://localhost:6333/collections/idearq/points?wait=true \"HTTP/1.1 200 OK\"\n",
      "2025-07-18 11:47:10,174 - INFO - HTTP Request: PUT http://localhost:6333/collections/idearq/points?wait=true \"HTTP/1.1 200 OK\"\n",
      "2025-07-18 11:47:12,778 - INFO - HTTP Request: PUT http://localhost:6333/collections/idearq/points?wait=true \"HTTP/1.1 200 OK\"\n",
      "2025-07-18 11:47:15,398 - INFO - HTTP Request: PUT http://localhost:6333/collections/idearq/points?wait=true \"HTTP/1.1 200 OK\"\n",
      "2025-07-18 11:47:18,117 - INFO - HTTP Request: PUT http://localhost:6333/collections/idearq/points?wait=true \"HTTP/1.1 200 OK\"\n",
      "2025-07-18 11:47:21,328 - INFO - HTTP Request: PUT http://localhost:6333/collections/idearq/points?wait=true \"HTTP/1.1 200 OK\"\n",
      "2025-07-18 11:47:24,107 - INFO - HTTP Request: PUT http://localhost:6333/collections/idearq/points?wait=true \"HTTP/1.1 200 OK\"\n",
      "2025-07-18 11:47:26,694 - INFO - HTTP Request: PUT http://localhost:6333/collections/idearq/points?wait=true \"HTTP/1.1 200 OK\"\n",
      "2025-07-18 11:47:29,562 - INFO - HTTP Request: PUT http://localhost:6333/collections/idearq/points?wait=true \"HTTP/1.1 200 OK\"\n",
      "2025-07-18 11:47:32,425 - INFO - HTTP Request: PUT http://localhost:6333/collections/idearq/points?wait=true \"HTTP/1.1 200 OK\"\n",
      "2025-07-18 11:47:34,953 - INFO - HTTP Request: PUT http://localhost:6333/collections/idearq/points?wait=true \"HTTP/1.1 200 OK\"\n",
      "2025-07-18 11:47:37,653 - INFO - HTTP Request: PUT http://localhost:6333/collections/idearq/points?wait=true \"HTTP/1.1 200 OK\"\n",
      "2025-07-18 11:47:40,263 - INFO - HTTP Request: PUT http://localhost:6333/collections/idearq/points?wait=true \"HTTP/1.1 200 OK\"\n",
      "2025-07-18 11:47:42,793 - INFO - HTTP Request: PUT http://localhost:6333/collections/idearq/points?wait=true \"HTTP/1.1 200 OK\"\n",
      "2025-07-18 11:47:45,421 - INFO - HTTP Request: PUT http://localhost:6333/collections/idearq/points?wait=true \"HTTP/1.1 200 OK\"\n",
      "2025-07-18 11:47:48,199 - INFO - HTTP Request: PUT http://localhost:6333/collections/idearq/points?wait=true \"HTTP/1.1 200 OK\"\n",
      "2025-07-18 11:47:51,191 - INFO - HTTP Request: PUT http://localhost:6333/collections/idearq/points?wait=true \"HTTP/1.1 200 OK\"\n",
      "2025-07-18 11:47:53,848 - INFO - HTTP Request: PUT http://localhost:6333/collections/idearq/points?wait=true \"HTTP/1.1 200 OK\"\n",
      "2025-07-18 11:47:56,685 - INFO - HTTP Request: PUT http://localhost:6333/collections/idearq/points?wait=true \"HTTP/1.1 200 OK\"\n",
      "2025-07-18 11:47:59,421 - INFO - HTTP Request: PUT http://localhost:6333/collections/idearq/points?wait=true \"HTTP/1.1 200 OK\"\n",
      "2025-07-18 11:48:02,518 - INFO - HTTP Request: PUT http://localhost:6333/collections/idearq/points?wait=true \"HTTP/1.1 200 OK\"\n",
      "2025-07-18 11:48:05,304 - INFO - HTTP Request: PUT http://localhost:6333/collections/idearq/points?wait=true \"HTTP/1.1 200 OK\"\n",
      "2025-07-18 11:48:07,907 - INFO - HTTP Request: PUT http://localhost:6333/collections/idearq/points?wait=true \"HTTP/1.1 200 OK\"\n",
      "2025-07-18 11:48:10,617 - INFO - HTTP Request: PUT http://localhost:6333/collections/idearq/points?wait=true \"HTTP/1.1 200 OK\"\n",
      "2025-07-18 11:48:13,326 - INFO - HTTP Request: PUT http://localhost:6333/collections/idearq/points?wait=true \"HTTP/1.1 200 OK\"\n",
      "2025-07-18 11:48:15,932 - INFO - HTTP Request: PUT http://localhost:6333/collections/idearq/points?wait=true \"HTTP/1.1 200 OK\"\n",
      "2025-07-18 11:48:18,744 - INFO - HTTP Request: PUT http://localhost:6333/collections/idearq/points?wait=true \"HTTP/1.1 200 OK\"\n",
      "2025-07-18 11:48:21,608 - INFO - HTTP Request: PUT http://localhost:6333/collections/idearq/points?wait=true \"HTTP/1.1 200 OK\"\n",
      "2025-07-18 11:48:24,503 - INFO - HTTP Request: PUT http://localhost:6333/collections/idearq/points?wait=true \"HTTP/1.1 200 OK\"\n",
      "2025-07-18 11:48:27,602 - INFO - HTTP Request: PUT http://localhost:6333/collections/idearq/points?wait=true \"HTTP/1.1 200 OK\"\n",
      "2025-07-18 11:48:30,423 - INFO - HTTP Request: PUT http://localhost:6333/collections/idearq/points?wait=true \"HTTP/1.1 200 OK\"\n",
      "2025-07-18 11:48:33,449 - INFO - HTTP Request: PUT http://localhost:6333/collections/idearq/points?wait=true \"HTTP/1.1 200 OK\"\n",
      "2025-07-18 11:48:36,306 - INFO - HTTP Request: PUT http://localhost:6333/collections/idearq/points?wait=true \"HTTP/1.1 200 OK\"\n",
      "2025-07-18 11:48:39,210 - INFO - HTTP Request: PUT http://localhost:6333/collections/idearq/points?wait=true \"HTTP/1.1 200 OK\"\n",
      "2025-07-18 11:48:41,980 - INFO - HTTP Request: PUT http://localhost:6333/collections/idearq/points?wait=true \"HTTP/1.1 200 OK\"\n",
      "2025-07-18 11:48:44,789 - INFO - HTTP Request: PUT http://localhost:6333/collections/idearq/points?wait=true \"HTTP/1.1 200 OK\"\n",
      "2025-07-18 11:48:47,542 - INFO - HTTP Request: PUT http://localhost:6333/collections/idearq/points?wait=true \"HTTP/1.1 200 OK\"\n",
      "2025-07-18 11:48:50,469 - INFO - HTTP Request: PUT http://localhost:6333/collections/idearq/points?wait=true \"HTTP/1.1 200 OK\"\n",
      "2025-07-18 11:48:53,236 - INFO - HTTP Request: PUT http://localhost:6333/collections/idearq/points?wait=true \"HTTP/1.1 200 OK\"\n",
      "2025-07-18 11:48:55,855 - INFO - HTTP Request: PUT http://localhost:6333/collections/idearq/points?wait=true \"HTTP/1.1 200 OK\"\n",
      "2025-07-18 11:48:58,590 - INFO - HTTP Request: PUT http://localhost:6333/collections/idearq/points?wait=true \"HTTP/1.1 200 OK\"\n",
      "2025-07-18 11:49:01,413 - INFO - HTTP Request: PUT http://localhost:6333/collections/idearq/points?wait=true \"HTTP/1.1 200 OK\"\n",
      "2025-07-18 11:49:04,155 - INFO - HTTP Request: PUT http://localhost:6333/collections/idearq/points?wait=true \"HTTP/1.1 200 OK\"\n",
      "2025-07-18 11:49:06,731 - INFO - HTTP Request: PUT http://localhost:6333/collections/idearq/points?wait=true \"HTTP/1.1 200 OK\"\n",
      "2025-07-18 11:49:09,420 - INFO - HTTP Request: PUT http://localhost:6333/collections/idearq/points?wait=true \"HTTP/1.1 200 OK\"\n",
      "2025-07-18 11:49:12,099 - INFO - HTTP Request: PUT http://localhost:6333/collections/idearq/points?wait=true \"HTTP/1.1 200 OK\"\n",
      "2025-07-18 11:49:14,813 - INFO - HTTP Request: PUT http://localhost:6333/collections/idearq/points?wait=true \"HTTP/1.1 200 OK\"\n",
      "2025-07-18 11:49:17,579 - INFO - HTTP Request: PUT http://localhost:6333/collections/idearq/points?wait=true \"HTTP/1.1 200 OK\"\n",
      "2025-07-18 11:49:20,689 - INFO - HTTP Request: PUT http://localhost:6333/collections/idearq/points?wait=true \"HTTP/1.1 200 OK\"\n",
      "2025-07-18 11:49:23,517 - INFO - HTTP Request: PUT http://localhost:6333/collections/idearq/points?wait=true \"HTTP/1.1 200 OK\"\n",
      "2025-07-18 11:49:26,085 - INFO - HTTP Request: PUT http://localhost:6333/collections/idearq/points?wait=true \"HTTP/1.1 200 OK\"\n",
      "2025-07-18 11:49:28,683 - INFO - HTTP Request: PUT http://localhost:6333/collections/idearq/points?wait=true \"HTTP/1.1 200 OK\"\n",
      "2025-07-18 11:49:31,239 - INFO - HTTP Request: PUT http://localhost:6333/collections/idearq/points?wait=true \"HTTP/1.1 200 OK\"\n",
      "2025-07-18 11:49:33,961 - INFO - HTTP Request: PUT http://localhost:6333/collections/idearq/points?wait=true \"HTTP/1.1 200 OK\"\n",
      "2025-07-18 11:49:36,495 - INFO - HTTP Request: PUT http://localhost:6333/collections/idearq/points?wait=true \"HTTP/1.1 200 OK\"\n",
      "2025-07-18 11:49:39,402 - INFO - HTTP Request: PUT http://localhost:6333/collections/idearq/points?wait=true \"HTTP/1.1 200 OK\"\n",
      "2025-07-18 11:49:42,347 - INFO - HTTP Request: PUT http://localhost:6333/collections/idearq/points?wait=true \"HTTP/1.1 200 OK\"\n",
      "2025-07-18 11:49:45,221 - INFO - HTTP Request: PUT http://localhost:6333/collections/idearq/points?wait=true \"HTTP/1.1 200 OK\"\n",
      "2025-07-18 11:49:48,343 - INFO - HTTP Request: PUT http://localhost:6333/collections/idearq/points?wait=true \"HTTP/1.1 200 OK\"\n",
      "2025-07-18 11:49:51,392 - INFO - HTTP Request: PUT http://localhost:6333/collections/idearq/points?wait=true \"HTTP/1.1 200 OK\"\n",
      "2025-07-18 11:49:54,157 - INFO - HTTP Request: PUT http://localhost:6333/collections/idearq/points?wait=true \"HTTP/1.1 200 OK\"\n",
      "2025-07-18 11:49:56,665 - INFO - HTTP Request: PUT http://localhost:6333/collections/idearq/points?wait=true \"HTTP/1.1 200 OK\"\n",
      "2025-07-18 11:49:59,333 - INFO - HTTP Request: PUT http://localhost:6333/collections/idearq/points?wait=true \"HTTP/1.1 200 OK\"\n",
      "2025-07-18 11:50:01,895 - INFO - HTTP Request: PUT http://localhost:6333/collections/idearq/points?wait=true \"HTTP/1.1 200 OK\"\n",
      "2025-07-18 11:50:04,473 - INFO - HTTP Request: PUT http://localhost:6333/collections/idearq/points?wait=true \"HTTP/1.1 200 OK\"\n",
      "2025-07-18 11:50:07,009 - INFO - HTTP Request: PUT http://localhost:6333/collections/idearq/points?wait=true \"HTTP/1.1 200 OK\"\n",
      "2025-07-18 11:50:09,605 - INFO - HTTP Request: PUT http://localhost:6333/collections/idearq/points?wait=true \"HTTP/1.1 200 OK\"\n",
      "2025-07-18 11:50:12,210 - INFO - HTTP Request: PUT http://localhost:6333/collections/idearq/points?wait=true \"HTTP/1.1 200 OK\"\n",
      "2025-07-18 11:50:14,762 - INFO - HTTP Request: PUT http://localhost:6333/collections/idearq/points?wait=true \"HTTP/1.1 200 OK\"\n",
      "2025-07-18 11:50:17,331 - INFO - HTTP Request: PUT http://localhost:6333/collections/idearq/points?wait=true \"HTTP/1.1 200 OK\"\n",
      "2025-07-18 11:50:20,245 - INFO - HTTP Request: PUT http://localhost:6333/collections/idearq/points?wait=true \"HTTP/1.1 200 OK\"\n",
      "2025-07-18 11:50:22,909 - INFO - HTTP Request: PUT http://localhost:6333/collections/idearq/points?wait=true \"HTTP/1.1 200 OK\"\n",
      "2025-07-18 11:50:25,646 - INFO - HTTP Request: PUT http://localhost:6333/collections/idearq/points?wait=true \"HTTP/1.1 200 OK\"\n",
      "2025-07-18 11:50:28,240 - INFO - HTTP Request: PUT http://localhost:6333/collections/idearq/points?wait=true \"HTTP/1.1 200 OK\"\n",
      "2025-07-18 11:50:30,834 - INFO - HTTP Request: PUT http://localhost:6333/collections/idearq/points?wait=true \"HTTP/1.1 200 OK\"\n",
      "2025-07-18 11:50:33,630 - INFO - HTTP Request: PUT http://localhost:6333/collections/idearq/points?wait=true \"HTTP/1.1 200 OK\"\n",
      "2025-07-18 11:50:36,685 - INFO - HTTP Request: PUT http://localhost:6333/collections/idearq/points?wait=true \"HTTP/1.1 200 OK\"\n",
      "2025-07-18 11:50:39,426 - INFO - HTTP Request: PUT http://localhost:6333/collections/idearq/points?wait=true \"HTTP/1.1 200 OK\"\n",
      "2025-07-18 11:50:42,042 - INFO - HTTP Request: PUT http://localhost:6333/collections/idearq/points?wait=true \"HTTP/1.1 200 OK\"\n",
      "2025-07-18 11:50:44,684 - INFO - HTTP Request: PUT http://localhost:6333/collections/idearq/points?wait=true \"HTTP/1.1 200 OK\"\n",
      "2025-07-18 11:50:47,163 - INFO - HTTP Request: PUT http://localhost:6333/collections/idearq/points?wait=true \"HTTP/1.1 200 OK\"\n",
      "2025-07-18 11:50:49,983 - INFO - HTTP Request: PUT http://localhost:6333/collections/idearq/points?wait=true \"HTTP/1.1 200 OK\"\n",
      "2025-07-18 11:50:52,563 - INFO - HTTP Request: PUT http://localhost:6333/collections/idearq/points?wait=true \"HTTP/1.1 200 OK\"\n",
      "2025-07-18 11:50:55,164 - INFO - HTTP Request: PUT http://localhost:6333/collections/idearq/points?wait=true \"HTTP/1.1 200 OK\"\n",
      "2025-07-18 11:50:57,566 - INFO - HTTP Request: PUT http://localhost:6333/collections/idearq/points?wait=true \"HTTP/1.1 200 OK\"\n",
      "2025-07-18 11:50:59,954 - INFO - HTTP Request: PUT http://localhost:6333/collections/idearq/points?wait=true \"HTTP/1.1 200 OK\"\n",
      "2025-07-18 11:51:02,543 - INFO - HTTP Request: PUT http://localhost:6333/collections/idearq/points?wait=true \"HTTP/1.1 200 OK\"\n",
      "2025-07-18 11:51:05,150 - INFO - HTTP Request: PUT http://localhost:6333/collections/idearq/points?wait=true \"HTTP/1.1 200 OK\"\n",
      "2025-07-18 11:51:07,895 - INFO - HTTP Request: PUT http://localhost:6333/collections/idearq/points?wait=true \"HTTP/1.1 200 OK\"\n",
      "2025-07-18 11:51:10,794 - INFO - HTTP Request: PUT http://localhost:6333/collections/idearq/points?wait=true \"HTTP/1.1 200 OK\"\n",
      "2025-07-18 11:51:13,382 - INFO - HTTP Request: PUT http://localhost:6333/collections/idearq/points?wait=true \"HTTP/1.1 200 OK\"\n",
      "2025-07-18 11:51:15,991 - INFO - HTTP Request: PUT http://localhost:6333/collections/idearq/points?wait=true \"HTTP/1.1 200 OK\"\n",
      "2025-07-18 11:51:18,635 - INFO - HTTP Request: PUT http://localhost:6333/collections/idearq/points?wait=true \"HTTP/1.1 200 OK\"\n",
      "2025-07-18 11:51:21,363 - INFO - HTTP Request: PUT http://localhost:6333/collections/idearq/points?wait=true \"HTTP/1.1 200 OK\"\n",
      "2025-07-18 11:51:24,023 - INFO - HTTP Request: PUT http://localhost:6333/collections/idearq/points?wait=true \"HTTP/1.1 200 OK\"\n",
      "2025-07-18 11:51:26,656 - INFO - HTTP Request: PUT http://localhost:6333/collections/idearq/points?wait=true \"HTTP/1.1 200 OK\"\n",
      "2025-07-18 11:51:29,331 - INFO - HTTP Request: PUT http://localhost:6333/collections/idearq/points?wait=true \"HTTP/1.1 200 OK\"\n",
      "2025-07-18 11:51:32,042 - INFO - HTTP Request: PUT http://localhost:6333/collections/idearq/points?wait=true \"HTTP/1.1 200 OK\"\n",
      "2025-07-18 11:51:34,643 - INFO - HTTP Request: PUT http://localhost:6333/collections/idearq/points?wait=true \"HTTP/1.1 200 OK\"\n",
      "2025-07-18 11:51:37,415 - INFO - HTTP Request: PUT http://localhost:6333/collections/idearq/points?wait=true \"HTTP/1.1 200 OK\"\n",
      "2025-07-18 11:51:40,226 - INFO - HTTP Request: PUT http://localhost:6333/collections/idearq/points?wait=true \"HTTP/1.1 200 OK\"\n",
      "2025-07-18 11:51:43,158 - INFO - HTTP Request: PUT http://localhost:6333/collections/idearq/points?wait=true \"HTTP/1.1 200 OK\"\n",
      "2025-07-18 11:51:46,064 - INFO - HTTP Request: PUT http://localhost:6333/collections/idearq/points?wait=true \"HTTP/1.1 200 OK\"\n",
      "2025-07-18 11:51:49,002 - INFO - HTTP Request: PUT http://localhost:6333/collections/idearq/points?wait=true \"HTTP/1.1 200 OK\"\n",
      "2025-07-18 11:51:51,711 - INFO - HTTP Request: PUT http://localhost:6333/collections/idearq/points?wait=true \"HTTP/1.1 200 OK\"\n",
      "2025-07-18 11:51:54,420 - INFO - HTTP Request: PUT http://localhost:6333/collections/idearq/points?wait=true \"HTTP/1.1 200 OK\"\n",
      "2025-07-18 11:51:57,077 - INFO - HTTP Request: PUT http://localhost:6333/collections/idearq/points?wait=true \"HTTP/1.1 200 OK\"\n",
      "2025-07-18 11:51:59,754 - INFO - HTTP Request: PUT http://localhost:6333/collections/idearq/points?wait=true \"HTTP/1.1 200 OK\"\n",
      "2025-07-18 11:52:02,708 - INFO - HTTP Request: PUT http://localhost:6333/collections/idearq/points?wait=true \"HTTP/1.1 200 OK\"\n",
      "2025-07-18 11:52:05,185 - INFO - HTTP Request: PUT http://localhost:6333/collections/idearq/points?wait=true \"HTTP/1.1 200 OK\"\n",
      "2025-07-18 11:52:07,764 - INFO - HTTP Request: PUT http://localhost:6333/collections/idearq/points?wait=true \"HTTP/1.1 200 OK\"\n",
      "2025-07-18 11:52:10,306 - INFO - HTTP Request: PUT http://localhost:6333/collections/idearq/points?wait=true \"HTTP/1.1 200 OK\"\n",
      "2025-07-18 11:52:12,928 - INFO - HTTP Request: PUT http://localhost:6333/collections/idearq/points?wait=true \"HTTP/1.1 200 OK\"\n",
      "2025-07-18 11:52:15,493 - INFO - HTTP Request: PUT http://localhost:6333/collections/idearq/points?wait=true \"HTTP/1.1 200 OK\"\n",
      "2025-07-18 11:52:18,368 - INFO - HTTP Request: PUT http://localhost:6333/collections/idearq/points?wait=true \"HTTP/1.1 200 OK\"\n",
      "2025-07-18 11:52:21,113 - INFO - HTTP Request: PUT http://localhost:6333/collections/idearq/points?wait=true \"HTTP/1.1 200 OK\"\n",
      "2025-07-18 11:52:23,738 - INFO - HTTP Request: PUT http://localhost:6333/collections/idearq/points?wait=true \"HTTP/1.1 200 OK\"\n",
      "2025-07-18 11:52:26,450 - INFO - HTTP Request: PUT http://localhost:6333/collections/idearq/points?wait=true \"HTTP/1.1 200 OK\"\n",
      "2025-07-18 11:52:29,276 - INFO - HTTP Request: PUT http://localhost:6333/collections/idearq/points?wait=true \"HTTP/1.1 200 OK\"\n",
      "2025-07-18 11:52:31,837 - INFO - HTTP Request: PUT http://localhost:6333/collections/idearq/points?wait=true \"HTTP/1.1 200 OK\"\n",
      "2025-07-18 11:52:34,373 - INFO - HTTP Request: PUT http://localhost:6333/collections/idearq/points?wait=true \"HTTP/1.1 200 OK\"\n",
      "2025-07-18 11:52:37,017 - INFO - HTTP Request: PUT http://localhost:6333/collections/idearq/points?wait=true \"HTTP/1.1 200 OK\"\n",
      "2025-07-18 11:52:40,045 - INFO - HTTP Request: PUT http://localhost:6333/collections/idearq/points?wait=true \"HTTP/1.1 200 OK\"\n",
      "2025-07-18 11:52:43,037 - INFO - HTTP Request: PUT http://localhost:6333/collections/idearq/points?wait=true \"HTTP/1.1 200 OK\"\n",
      "2025-07-18 11:52:45,753 - INFO - HTTP Request: PUT http://localhost:6333/collections/idearq/points?wait=true \"HTTP/1.1 200 OK\"\n",
      "2025-07-18 11:52:48,818 - INFO - HTTP Request: PUT http://localhost:6333/collections/idearq/points?wait=true \"HTTP/1.1 200 OK\"\n",
      "2025-07-18 11:52:51,600 - INFO - HTTP Request: PUT http://localhost:6333/collections/idearq/points?wait=true \"HTTP/1.1 200 OK\"\n",
      "2025-07-18 11:52:54,247 - INFO - HTTP Request: PUT http://localhost:6333/collections/idearq/points?wait=true \"HTTP/1.1 200 OK\"\n",
      "2025-07-18 11:52:56,735 - INFO - HTTP Request: PUT http://localhost:6333/collections/idearq/points?wait=true \"HTTP/1.1 200 OK\"\n",
      "2025-07-18 11:52:59,342 - INFO - HTTP Request: PUT http://localhost:6333/collections/idearq/points?wait=true \"HTTP/1.1 200 OK\"\n",
      "2025-07-18 11:53:01,870 - INFO - HTTP Request: PUT http://localhost:6333/collections/idearq/points?wait=true \"HTTP/1.1 200 OK\"\n",
      "2025-07-18 11:53:04,435 - INFO - HTTP Request: PUT http://localhost:6333/collections/idearq/points?wait=true \"HTTP/1.1 200 OK\"\n",
      "2025-07-18 11:53:06,953 - INFO - HTTP Request: PUT http://localhost:6333/collections/idearq/points?wait=true \"HTTP/1.1 200 OK\"\n",
      "2025-07-18 11:53:09,624 - INFO - HTTP Request: PUT http://localhost:6333/collections/idearq/points?wait=true \"HTTP/1.1 200 OK\"\n",
      "2025-07-18 11:53:12,212 - INFO - HTTP Request: PUT http://localhost:6333/collections/idearq/points?wait=true \"HTTP/1.1 200 OK\"\n",
      "2025-07-18 11:53:14,802 - INFO - HTTP Request: PUT http://localhost:6333/collections/idearq/points?wait=true \"HTTP/1.1 200 OK\"\n",
      "2025-07-18 11:53:17,296 - INFO - HTTP Request: PUT http://localhost:6333/collections/idearq/points?wait=true \"HTTP/1.1 200 OK\"\n",
      "2025-07-18 11:53:20,063 - INFO - HTTP Request: PUT http://localhost:6333/collections/idearq/points?wait=true \"HTTP/1.1 200 OK\"\n",
      "2025-07-18 11:53:22,652 - INFO - HTTP Request: PUT http://localhost:6333/collections/idearq/points?wait=true \"HTTP/1.1 200 OK\"\n",
      "2025-07-18 11:53:25,320 - INFO - HTTP Request: PUT http://localhost:6333/collections/idearq/points?wait=true \"HTTP/1.1 200 OK\"\n",
      "2025-07-18 11:53:27,875 - INFO - HTTP Request: PUT http://localhost:6333/collections/idearq/points?wait=true \"HTTP/1.1 200 OK\"\n",
      "2025-07-18 11:53:30,569 - INFO - HTTP Request: PUT http://localhost:6333/collections/idearq/points?wait=true \"HTTP/1.1 200 OK\"\n",
      "2025-07-18 11:53:33,110 - INFO - HTTP Request: PUT http://localhost:6333/collections/idearq/points?wait=true \"HTTP/1.1 200 OK\"\n",
      "2025-07-18 11:53:35,691 - INFO - HTTP Request: PUT http://localhost:6333/collections/idearq/points?wait=true \"HTTP/1.1 200 OK\"\n",
      "2025-07-18 11:53:38,273 - INFO - HTTP Request: PUT http://localhost:6333/collections/idearq/points?wait=true \"HTTP/1.1 200 OK\"\n",
      "2025-07-18 11:53:40,843 - INFO - HTTP Request: PUT http://localhost:6333/collections/idearq/points?wait=true \"HTTP/1.1 200 OK\"\n",
      "2025-07-18 11:53:43,565 - INFO - HTTP Request: PUT http://localhost:6333/collections/idearq/points?wait=true \"HTTP/1.1 200 OK\"\n",
      "2025-07-18 11:53:46,192 - INFO - HTTP Request: PUT http://localhost:6333/collections/idearq/points?wait=true \"HTTP/1.1 200 OK\"\n",
      "2025-07-18 11:53:49,067 - INFO - HTTP Request: PUT http://localhost:6333/collections/idearq/points?wait=true \"HTTP/1.1 200 OK\"\n",
      "2025-07-18 11:53:51,699 - INFO - HTTP Request: PUT http://localhost:6333/collections/idearq/points?wait=true \"HTTP/1.1 200 OK\"\n",
      "2025-07-18 11:53:54,353 - INFO - HTTP Request: PUT http://localhost:6333/collections/idearq/points?wait=true \"HTTP/1.1 200 OK\"\n",
      "2025-07-18 11:53:56,876 - INFO - HTTP Request: PUT http://localhost:6333/collections/idearq/points?wait=true \"HTTP/1.1 200 OK\"\n",
      "2025-07-18 11:53:59,522 - INFO - HTTP Request: PUT http://localhost:6333/collections/idearq/points?wait=true \"HTTP/1.1 200 OK\"\n",
      "2025-07-18 11:54:02,191 - INFO - HTTP Request: PUT http://localhost:6333/collections/idearq/points?wait=true \"HTTP/1.1 200 OK\"\n",
      "2025-07-18 11:54:04,768 - INFO - HTTP Request: PUT http://localhost:6333/collections/idearq/points?wait=true \"HTTP/1.1 200 OK\"\n",
      "2025-07-18 11:54:07,306 - INFO - HTTP Request: PUT http://localhost:6333/collections/idearq/points?wait=true \"HTTP/1.1 200 OK\"\n",
      "2025-07-18 11:54:10,005 - INFO - HTTP Request: PUT http://localhost:6333/collections/idearq/points?wait=true \"HTTP/1.1 200 OK\"\n",
      "2025-07-18 11:54:12,553 - INFO - HTTP Request: PUT http://localhost:6333/collections/idearq/points?wait=true \"HTTP/1.1 200 OK\"\n",
      "2025-07-18 11:54:15,122 - INFO - HTTP Request: PUT http://localhost:6333/collections/idearq/points?wait=true \"HTTP/1.1 200 OK\"\n",
      "2025-07-18 11:54:17,594 - INFO - HTTP Request: PUT http://localhost:6333/collections/idearq/points?wait=true \"HTTP/1.1 200 OK\"\n",
      "2025-07-18 11:54:20,443 - INFO - HTTP Request: PUT http://localhost:6333/collections/idearq/points?wait=true \"HTTP/1.1 200 OK\"\n",
      "2025-07-18 11:54:23,284 - INFO - HTTP Request: PUT http://localhost:6333/collections/idearq/points?wait=true \"HTTP/1.1 200 OK\"\n",
      "2025-07-18 11:54:26,331 - INFO - HTTP Request: PUT http://localhost:6333/collections/idearq/points?wait=true \"HTTP/1.1 200 OK\"\n",
      "2025-07-18 11:54:28,917 - INFO - HTTP Request: PUT http://localhost:6333/collections/idearq/points?wait=true \"HTTP/1.1 200 OK\"\n",
      "2025-07-18 11:54:31,519 - INFO - HTTP Request: PUT http://localhost:6333/collections/idearq/points?wait=true \"HTTP/1.1 200 OK\"\n",
      "2025-07-18 11:54:34,104 - INFO - HTTP Request: PUT http://localhost:6333/collections/idearq/points?wait=true \"HTTP/1.1 200 OK\"\n",
      "2025-07-18 11:54:36,716 - INFO - HTTP Request: PUT http://localhost:6333/collections/idearq/points?wait=true \"HTTP/1.1 200 OK\"\n",
      "2025-07-18 11:54:39,314 - INFO - HTTP Request: PUT http://localhost:6333/collections/idearq/points?wait=true \"HTTP/1.1 200 OK\"\n",
      "2025-07-18 11:54:42,162 - INFO - HTTP Request: PUT http://localhost:6333/collections/idearq/points?wait=true \"HTTP/1.1 200 OK\"\n",
      "2025-07-18 11:54:44,778 - INFO - HTTP Request: PUT http://localhost:6333/collections/idearq/points?wait=true \"HTTP/1.1 200 OK\"\n",
      "2025-07-18 11:54:47,281 - INFO - HTTP Request: PUT http://localhost:6333/collections/idearq/points?wait=true \"HTTP/1.1 200 OK\"\n",
      "2025-07-18 11:54:50,182 - INFO - HTTP Request: PUT http://localhost:6333/collections/idearq/points?wait=true \"HTTP/1.1 200 OK\"\n",
      "2025-07-18 11:54:52,920 - INFO - HTTP Request: PUT http://localhost:6333/collections/idearq/points?wait=true \"HTTP/1.1 200 OK\"\n",
      "2025-07-18 11:54:55,580 - INFO - HTTP Request: PUT http://localhost:6333/collections/idearq/points?wait=true \"HTTP/1.1 200 OK\"\n",
      "2025-07-18 11:54:58,175 - INFO - HTTP Request: PUT http://localhost:6333/collections/idearq/points?wait=true \"HTTP/1.1 200 OK\"\n",
      "2025-07-18 11:55:00,843 - INFO - HTTP Request: PUT http://localhost:6333/collections/idearq/points?wait=true \"HTTP/1.1 200 OK\"\n",
      "2025-07-18 11:55:03,406 - INFO - HTTP Request: PUT http://localhost:6333/collections/idearq/points?wait=true \"HTTP/1.1 200 OK\"\n",
      "2025-07-18 11:55:05,921 - INFO - HTTP Request: PUT http://localhost:6333/collections/idearq/points?wait=true \"HTTP/1.1 200 OK\"\n",
      "2025-07-18 11:55:08,479 - INFO - HTTP Request: PUT http://localhost:6333/collections/idearq/points?wait=true \"HTTP/1.1 200 OK\"\n",
      "2025-07-18 11:55:11,245 - INFO - HTTP Request: PUT http://localhost:6333/collections/idearq/points?wait=true \"HTTP/1.1 200 OK\"\n",
      "2025-07-18 11:55:13,796 - INFO - HTTP Request: PUT http://localhost:6333/collections/idearq/points?wait=true \"HTTP/1.1 200 OK\"\n",
      "2025-07-18 11:55:16,386 - INFO - HTTP Request: PUT http://localhost:6333/collections/idearq/points?wait=true \"HTTP/1.1 200 OK\"\n",
      "2025-07-18 11:55:19,046 - INFO - HTTP Request: PUT http://localhost:6333/collections/idearq/points?wait=true \"HTTP/1.1 200 OK\"\n",
      "2025-07-18 11:55:21,719 - INFO - HTTP Request: PUT http://localhost:6333/collections/idearq/points?wait=true \"HTTP/1.1 200 OK\"\n",
      "2025-07-18 11:55:24,305 - INFO - HTTP Request: PUT http://localhost:6333/collections/idearq/points?wait=true \"HTTP/1.1 200 OK\"\n",
      "2025-07-18 11:55:27,218 - INFO - HTTP Request: PUT http://localhost:6333/collections/idearq/points?wait=true \"HTTP/1.1 200 OK\"\n",
      "2025-07-18 11:55:30,052 - INFO - HTTP Request: PUT http://localhost:6333/collections/idearq/points?wait=true \"HTTP/1.1 200 OK\"\n",
      "2025-07-18 11:55:33,067 - INFO - HTTP Request: PUT http://localhost:6333/collections/idearq/points?wait=true \"HTTP/1.1 200 OK\"\n",
      "2025-07-18 11:55:35,745 - INFO - HTTP Request: PUT http://localhost:6333/collections/idearq/points?wait=true \"HTTP/1.1 200 OK\"\n",
      "2025-07-18 11:55:38,425 - INFO - HTTP Request: PUT http://localhost:6333/collections/idearq/points?wait=true \"HTTP/1.1 200 OK\"\n",
      "2025-07-18 11:55:41,286 - INFO - HTTP Request: PUT http://localhost:6333/collections/idearq/points?wait=true \"HTTP/1.1 200 OK\"\n",
      "2025-07-18 11:55:44,152 - INFO - HTTP Request: PUT http://localhost:6333/collections/idearq/points?wait=true \"HTTP/1.1 200 OK\"\n",
      "2025-07-18 11:55:46,925 - INFO - HTTP Request: PUT http://localhost:6333/collections/idearq/points?wait=true \"HTTP/1.1 200 OK\"\n",
      "2025-07-18 11:55:49,619 - INFO - HTTP Request: PUT http://localhost:6333/collections/idearq/points?wait=true \"HTTP/1.1 200 OK\"\n",
      "2025-07-18 11:55:52,278 - INFO - HTTP Request: PUT http://localhost:6333/collections/idearq/points?wait=true \"HTTP/1.1 200 OK\"\n",
      "2025-07-18 11:55:54,811 - INFO - HTTP Request: PUT http://localhost:6333/collections/idearq/points?wait=true \"HTTP/1.1 200 OK\"\n",
      "2025-07-18 11:55:57,493 - INFO - HTTP Request: PUT http://localhost:6333/collections/idearq/points?wait=true \"HTTP/1.1 200 OK\"\n",
      "2025-07-18 11:56:00,212 - INFO - HTTP Request: PUT http://localhost:6333/collections/idearq/points?wait=true \"HTTP/1.1 200 OK\"\n",
      "2025-07-18 11:56:02,940 - INFO - HTTP Request: PUT http://localhost:6333/collections/idearq/points?wait=true \"HTTP/1.1 200 OK\"\n",
      "2025-07-18 11:56:05,476 - INFO - HTTP Request: PUT http://localhost:6333/collections/idearq/points?wait=true \"HTTP/1.1 200 OK\"\n",
      "2025-07-18 11:56:08,087 - INFO - HTTP Request: PUT http://localhost:6333/collections/idearq/points?wait=true \"HTTP/1.1 200 OK\"\n",
      "2025-07-18 11:56:10,670 - INFO - HTTP Request: PUT http://localhost:6333/collections/idearq/points?wait=true \"HTTP/1.1 200 OK\"\n",
      "2025-07-18 11:56:13,316 - INFO - HTTP Request: PUT http://localhost:6333/collections/idearq/points?wait=true \"HTTP/1.1 200 OK\"\n",
      "2025-07-18 11:56:15,901 - INFO - HTTP Request: PUT http://localhost:6333/collections/idearq/points?wait=true \"HTTP/1.1 200 OK\"\n",
      "2025-07-18 11:56:18,484 - INFO - HTTP Request: PUT http://localhost:6333/collections/idearq/points?wait=true \"HTTP/1.1 200 OK\"\n",
      "2025-07-18 11:56:21,103 - INFO - HTTP Request: PUT http://localhost:6333/collections/idearq/points?wait=true \"HTTP/1.1 200 OK\"\n",
      "2025-07-18 11:56:23,722 - INFO - HTTP Request: PUT http://localhost:6333/collections/idearq/points?wait=true \"HTTP/1.1 200 OK\"\n",
      "2025-07-18 11:56:26,313 - INFO - HTTP Request: PUT http://localhost:6333/collections/idearq/points?wait=true \"HTTP/1.1 200 OK\"\n",
      "2025-07-18 11:56:28,965 - INFO - HTTP Request: PUT http://localhost:6333/collections/idearq/points?wait=true \"HTTP/1.1 200 OK\"\n",
      "2025-07-18 11:56:31,513 - INFO - HTTP Request: PUT http://localhost:6333/collections/idearq/points?wait=true \"HTTP/1.1 200 OK\"\n",
      "2025-07-18 11:56:34,106 - INFO - HTTP Request: PUT http://localhost:6333/collections/idearq/points?wait=true \"HTTP/1.1 200 OK\"\n",
      "2025-07-18 11:56:36,697 - INFO - HTTP Request: PUT http://localhost:6333/collections/idearq/points?wait=true \"HTTP/1.1 200 OK\"\n",
      "2025-07-18 11:56:39,367 - INFO - HTTP Request: PUT http://localhost:6333/collections/idearq/points?wait=true \"HTTP/1.1 200 OK\"\n",
      "2025-07-18 11:56:41,933 - INFO - HTTP Request: PUT http://localhost:6333/collections/idearq/points?wait=true \"HTTP/1.1 200 OK\"\n",
      "2025-07-18 11:56:44,610 - INFO - HTTP Request: PUT http://localhost:6333/collections/idearq/points?wait=true \"HTTP/1.1 200 OK\"\n",
      "2025-07-18 11:56:47,158 - INFO - HTTP Request: PUT http://localhost:6333/collections/idearq/points?wait=true \"HTTP/1.1 200 OK\"\n",
      "2025-07-18 11:56:50,118 - INFO - HTTP Request: PUT http://localhost:6333/collections/idearq/points?wait=true \"HTTP/1.1 200 OK\"\n",
      "2025-07-18 11:56:52,693 - INFO - HTTP Request: PUT http://localhost:6333/collections/idearq/points?wait=true \"HTTP/1.1 200 OK\"\n",
      "2025-07-18 11:56:55,238 - INFO - HTTP Request: PUT http://localhost:6333/collections/idearq/points?wait=true \"HTTP/1.1 200 OK\"\n",
      "2025-07-18 11:56:57,850 - INFO - HTTP Request: PUT http://localhost:6333/collections/idearq/points?wait=true \"HTTP/1.1 200 OK\"\n",
      "2025-07-18 11:57:00,443 - INFO - HTTP Request: PUT http://localhost:6333/collections/idearq/points?wait=true \"HTTP/1.1 200 OK\"\n",
      "2025-07-18 11:57:02,855 - INFO - HTTP Request: PUT http://localhost:6333/collections/idearq/points?wait=true \"HTTP/1.1 200 OK\"\n",
      "2025-07-18 11:57:05,417 - INFO - HTTP Request: PUT http://localhost:6333/collections/idearq/points?wait=true \"HTTP/1.1 200 OK\"\n",
      "2025-07-18 11:57:08,085 - INFO - HTTP Request: PUT http://localhost:6333/collections/idearq/points?wait=true \"HTTP/1.1 200 OK\"\n",
      "2025-07-18 11:57:10,821 - INFO - HTTP Request: PUT http://localhost:6333/collections/idearq/points?wait=true \"HTTP/1.1 200 OK\"\n",
      "2025-07-18 11:57:13,482 - INFO - HTTP Request: PUT http://localhost:6333/collections/idearq/points?wait=true \"HTTP/1.1 200 OK\"\n",
      "2025-07-18 11:57:16,025 - INFO - HTTP Request: PUT http://localhost:6333/collections/idearq/points?wait=true \"HTTP/1.1 200 OK\"\n",
      "2025-07-18 11:57:18,662 - INFO - HTTP Request: PUT http://localhost:6333/collections/idearq/points?wait=true \"HTTP/1.1 200 OK\"\n",
      "2025-07-18 11:57:21,413 - INFO - HTTP Request: PUT http://localhost:6333/collections/idearq/points?wait=true \"HTTP/1.1 200 OK\"\n",
      "2025-07-18 11:57:24,044 - INFO - HTTP Request: PUT http://localhost:6333/collections/idearq/points?wait=true \"HTTP/1.1 200 OK\"\n",
      "2025-07-18 11:57:26,534 - INFO - HTTP Request: PUT http://localhost:6333/collections/idearq/points?wait=true \"HTTP/1.1 200 OK\"\n",
      "2025-07-18 11:57:29,171 - INFO - HTTP Request: PUT http://localhost:6333/collections/idearq/points?wait=true \"HTTP/1.1 200 OK\"\n",
      "2025-07-18 11:57:31,713 - INFO - HTTP Request: PUT http://localhost:6333/collections/idearq/points?wait=true \"HTTP/1.1 200 OK\"\n",
      "2025-07-18 11:57:34,323 - INFO - HTTP Request: PUT http://localhost:6333/collections/idearq/points?wait=true \"HTTP/1.1 200 OK\"\n",
      "2025-07-18 11:57:36,843 - INFO - HTTP Request: PUT http://localhost:6333/collections/idearq/points?wait=true \"HTTP/1.1 200 OK\"\n",
      "2025-07-18 11:57:39,471 - INFO - HTTP Request: PUT http://localhost:6333/collections/idearq/points?wait=true \"HTTP/1.1 200 OK\"\n",
      "2025-07-18 11:57:42,106 - INFO - HTTP Request: PUT http://localhost:6333/collections/idearq/points?wait=true \"HTTP/1.1 200 OK\"\n",
      "2025-07-18 11:57:44,857 - INFO - HTTP Request: PUT http://localhost:6333/collections/idearq/points?wait=true \"HTTP/1.1 200 OK\"\n",
      "2025-07-18 11:57:47,383 - INFO - HTTP Request: PUT http://localhost:6333/collections/idearq/points?wait=true \"HTTP/1.1 200 OK\"\n",
      "2025-07-18 11:57:50,252 - INFO - HTTP Request: PUT http://localhost:6333/collections/idearq/points?wait=true \"HTTP/1.1 200 OK\"\n",
      "2025-07-18 11:57:52,804 - INFO - HTTP Request: PUT http://localhost:6333/collections/idearq/points?wait=true \"HTTP/1.1 200 OK\"\n",
      "2025-07-18 11:57:55,649 - INFO - HTTP Request: PUT http://localhost:6333/collections/idearq/points?wait=true \"HTTP/1.1 200 OK\"\n",
      "2025-07-18 11:57:59,042 - INFO - HTTP Request: PUT http://localhost:6333/collections/idearq/points?wait=true \"HTTP/1.1 200 OK\"\n",
      "2025-07-18 11:58:02,677 - INFO - HTTP Request: PUT http://localhost:6333/collections/idearq/points?wait=true \"HTTP/1.1 200 OK\"\n",
      "2025-07-18 11:58:06,417 - INFO - HTTP Request: PUT http://localhost:6333/collections/idearq/points?wait=true \"HTTP/1.1 200 OK\"\n",
      "2025-07-18 11:58:09,096 - INFO - HTTP Request: PUT http://localhost:6333/collections/idearq/points?wait=true \"HTTP/1.1 200 OK\"\n",
      "2025-07-18 11:58:11,848 - INFO - HTTP Request: PUT http://localhost:6333/collections/idearq/points?wait=true \"HTTP/1.1 200 OK\"\n",
      "2025-07-18 11:58:15,057 - INFO - HTTP Request: PUT http://localhost:6333/collections/idearq/points?wait=true \"HTTP/1.1 200 OK\"\n",
      "2025-07-18 11:58:18,147 - INFO - HTTP Request: PUT http://localhost:6333/collections/idearq/points?wait=true \"HTTP/1.1 200 OK\"\n",
      "2025-07-18 11:58:21,169 - INFO - HTTP Request: PUT http://localhost:6333/collections/idearq/points?wait=true \"HTTP/1.1 200 OK\"\n",
      "2025-07-18 11:58:23,921 - INFO - HTTP Request: PUT http://localhost:6333/collections/idearq/points?wait=true \"HTTP/1.1 200 OK\"\n",
      "2025-07-18 11:58:26,797 - INFO - HTTP Request: PUT http://localhost:6333/collections/idearq/points?wait=true \"HTTP/1.1 200 OK\"\n",
      "2025-07-18 11:58:29,629 - INFO - HTTP Request: PUT http://localhost:6333/collections/idearq/points?wait=true \"HTTP/1.1 200 OK\"\n",
      "2025-07-18 11:58:32,403 - INFO - HTTP Request: PUT http://localhost:6333/collections/idearq/points?wait=true \"HTTP/1.1 200 OK\"\n",
      "2025-07-18 11:58:36,126 - INFO - HTTP Request: PUT http://localhost:6333/collections/idearq/points?wait=true \"HTTP/1.1 200 OK\"\n",
      "2025-07-18 11:58:39,287 - INFO - HTTP Request: PUT http://localhost:6333/collections/idearq/points?wait=true \"HTTP/1.1 200 OK\"\n",
      "2025-07-18 11:58:43,223 - INFO - HTTP Request: PUT http://localhost:6333/collections/idearq/points?wait=true \"HTTP/1.1 200 OK\"\n",
      "2025-07-18 11:58:46,570 - INFO - HTTP Request: PUT http://localhost:6333/collections/idearq/points?wait=true \"HTTP/1.1 200 OK\"\n",
      "2025-07-18 11:58:49,981 - INFO - HTTP Request: PUT http://localhost:6333/collections/idearq/points?wait=true \"HTTP/1.1 200 OK\"\n",
      "2025-07-18 11:58:52,953 - INFO - HTTP Request: PUT http://localhost:6333/collections/idearq/points?wait=true \"HTTP/1.1 200 OK\"\n",
      "2025-07-18 11:58:55,675 - INFO - HTTP Request: PUT http://localhost:6333/collections/idearq/points?wait=true \"HTTP/1.1 200 OK\"\n",
      "2025-07-18 11:58:58,567 - INFO - HTTP Request: PUT http://localhost:6333/collections/idearq/points?wait=true \"HTTP/1.1 200 OK\"\n",
      "2025-07-18 11:59:01,500 - INFO - HTTP Request: PUT http://localhost:6333/collections/idearq/points?wait=true \"HTTP/1.1 200 OK\"\n",
      "2025-07-18 11:59:04,423 - INFO - HTTP Request: PUT http://localhost:6333/collections/idearq/points?wait=true \"HTTP/1.1 200 OK\"\n",
      "2025-07-18 11:59:07,226 - INFO - HTTP Request: PUT http://localhost:6333/collections/idearq/points?wait=true \"HTTP/1.1 200 OK\"\n",
      "2025-07-18 11:59:09,975 - INFO - HTTP Request: PUT http://localhost:6333/collections/idearq/points?wait=true \"HTTP/1.1 200 OK\"\n",
      "2025-07-18 11:59:12,760 - INFO - HTTP Request: PUT http://localhost:6333/collections/idearq/points?wait=true \"HTTP/1.1 200 OK\"\n",
      "2025-07-18 11:59:15,462 - INFO - HTTP Request: PUT http://localhost:6333/collections/idearq/points?wait=true \"HTTP/1.1 200 OK\"\n",
      "2025-07-18 11:59:18,377 - INFO - HTTP Request: PUT http://localhost:6333/collections/idearq/points?wait=true \"HTTP/1.1 200 OK\"\n",
      "2025-07-18 11:59:21,576 - INFO - HTTP Request: PUT http://localhost:6333/collections/idearq/points?wait=true \"HTTP/1.1 200 OK\"\n",
      "2025-07-18 11:59:24,463 - INFO - HTTP Request: PUT http://localhost:6333/collections/idearq/points?wait=true \"HTTP/1.1 200 OK\"\n",
      "2025-07-18 11:59:27,372 - INFO - HTTP Request: PUT http://localhost:6333/collections/idearq/points?wait=true \"HTTP/1.1 200 OK\"\n",
      "2025-07-18 11:59:30,086 - INFO - HTTP Request: PUT http://localhost:6333/collections/idearq/points?wait=true \"HTTP/1.1 200 OK\"\n",
      "2025-07-18 11:59:32,951 - INFO - HTTP Request: PUT http://localhost:6333/collections/idearq/points?wait=true \"HTTP/1.1 200 OK\"\n",
      "2025-07-18 11:59:35,625 - INFO - HTTP Request: PUT http://localhost:6333/collections/idearq/points?wait=true \"HTTP/1.1 200 OK\"\n",
      "2025-07-18 11:59:38,405 - INFO - HTTP Request: PUT http://localhost:6333/collections/idearq/points?wait=true \"HTTP/1.1 200 OK\"\n",
      "2025-07-18 11:59:41,183 - INFO - HTTP Request: PUT http://localhost:6333/collections/idearq/points?wait=true \"HTTP/1.1 200 OK\"\n",
      "2025-07-18 11:59:44,165 - INFO - HTTP Request: PUT http://localhost:6333/collections/idearq/points?wait=true \"HTTP/1.1 200 OK\"\n",
      "2025-07-18 11:59:46,986 - INFO - HTTP Request: PUT http://localhost:6333/collections/idearq/points?wait=true \"HTTP/1.1 200 OK\"\n",
      "2025-07-18 11:59:49,935 - INFO - HTTP Request: PUT http://localhost:6333/collections/idearq/points?wait=true \"HTTP/1.1 200 OK\"\n",
      "2025-07-18 11:59:52,758 - INFO - HTTP Request: PUT http://localhost:6333/collections/idearq/points?wait=true \"HTTP/1.1 200 OK\"\n",
      "2025-07-18 11:59:55,498 - INFO - HTTP Request: PUT http://localhost:6333/collections/idearq/points?wait=true \"HTTP/1.1 200 OK\"\n",
      "2025-07-18 11:59:58,319 - INFO - HTTP Request: PUT http://localhost:6333/collections/idearq/points?wait=true \"HTTP/1.1 200 OK\"\n",
      "2025-07-18 12:00:01,058 - INFO - HTTP Request: PUT http://localhost:6333/collections/idearq/points?wait=true \"HTTP/1.1 200 OK\"\n",
      "2025-07-18 12:00:03,883 - INFO - HTTP Request: PUT http://localhost:6333/collections/idearq/points?wait=true \"HTTP/1.1 200 OK\"\n",
      "2025-07-18 12:00:06,583 - INFO - HTTP Request: PUT http://localhost:6333/collections/idearq/points?wait=true \"HTTP/1.1 200 OK\"\n",
      "2025-07-18 12:00:09,437 - INFO - HTTP Request: PUT http://localhost:6333/collections/idearq/points?wait=true \"HTTP/1.1 200 OK\"\n",
      "2025-07-18 12:00:12,265 - INFO - HTTP Request: PUT http://localhost:6333/collections/idearq/points?wait=true \"HTTP/1.1 200 OK\"\n",
      "2025-07-18 12:00:15,015 - INFO - HTTP Request: PUT http://localhost:6333/collections/idearq/points?wait=true \"HTTP/1.1 200 OK\"\n",
      "2025-07-18 12:00:17,795 - INFO - HTTP Request: PUT http://localhost:6333/collections/idearq/points?wait=true \"HTTP/1.1 200 OK\"\n",
      "2025-07-18 12:00:20,794 - INFO - HTTP Request: PUT http://localhost:6333/collections/idearq/points?wait=true \"HTTP/1.1 200 OK\"\n",
      "2025-07-18 12:00:23,697 - INFO - HTTP Request: PUT http://localhost:6333/collections/idearq/points?wait=true \"HTTP/1.1 200 OK\"\n",
      "2025-07-18 12:00:26,479 - INFO - HTTP Request: PUT http://localhost:6333/collections/idearq/points?wait=true \"HTTP/1.1 200 OK\"\n",
      "2025-07-18 12:00:29,528 - INFO - HTTP Request: PUT http://localhost:6333/collections/idearq/points?wait=true \"HTTP/1.1 200 OK\"\n",
      "2025-07-18 12:00:32,479 - INFO - HTTP Request: PUT http://localhost:6333/collections/idearq/points?wait=true \"HTTP/1.1 200 OK\"\n",
      "2025-07-18 12:00:35,383 - INFO - HTTP Request: PUT http://localhost:6333/collections/idearq/points?wait=true \"HTTP/1.1 200 OK\"\n",
      "2025-07-18 12:00:38,120 - INFO - HTTP Request: PUT http://localhost:6333/collections/idearq/points?wait=true \"HTTP/1.1 200 OK\"\n",
      "2025-07-18 12:00:40,968 - INFO - HTTP Request: PUT http://localhost:6333/collections/idearq/points?wait=true \"HTTP/1.1 200 OK\"\n",
      "2025-07-18 12:00:43,866 - INFO - HTTP Request: PUT http://localhost:6333/collections/idearq/points?wait=true \"HTTP/1.1 200 OK\"\n",
      "2025-07-18 12:00:46,560 - INFO - HTTP Request: PUT http://localhost:6333/collections/idearq/points?wait=true \"HTTP/1.1 200 OK\"\n",
      "2025-07-18 12:00:49,690 - INFO - HTTP Request: PUT http://localhost:6333/collections/idearq/points?wait=true \"HTTP/1.1 200 OK\"\n",
      "2025-07-18 12:00:52,527 - INFO - HTTP Request: PUT http://localhost:6333/collections/idearq/points?wait=true \"HTTP/1.1 200 OK\"\n",
      "2025-07-18 12:00:55,343 - INFO - HTTP Request: PUT http://localhost:6333/collections/idearq/points?wait=true \"HTTP/1.1 200 OK\"\n",
      "2025-07-18 12:00:58,132 - INFO - HTTP Request: PUT http://localhost:6333/collections/idearq/points?wait=true \"HTTP/1.1 200 OK\"\n",
      "2025-07-18 12:01:01,084 - INFO - HTTP Request: PUT http://localhost:6333/collections/idearq/points?wait=true \"HTTP/1.1 200 OK\"\n",
      "2025-07-18 12:01:03,913 - INFO - HTTP Request: PUT http://localhost:6333/collections/idearq/points?wait=true \"HTTP/1.1 200 OK\"\n",
      "2025-07-18 12:01:06,654 - INFO - HTTP Request: PUT http://localhost:6333/collections/idearq/points?wait=true \"HTTP/1.1 200 OK\"\n",
      "2025-07-18 12:01:09,577 - INFO - HTTP Request: PUT http://localhost:6333/collections/idearq/points?wait=true \"HTTP/1.1 200 OK\"\n",
      "2025-07-18 12:01:12,369 - INFO - HTTP Request: PUT http://localhost:6333/collections/idearq/points?wait=true \"HTTP/1.1 200 OK\"\n",
      "2025-07-18 12:01:15,186 - INFO - HTTP Request: PUT http://localhost:6333/collections/idearq/points?wait=true \"HTTP/1.1 200 OK\"\n",
      "2025-07-18 12:01:18,025 - INFO - HTTP Request: PUT http://localhost:6333/collections/idearq/points?wait=true \"HTTP/1.1 200 OK\"\n",
      "2025-07-18 12:01:21,164 - INFO - HTTP Request: PUT http://localhost:6333/collections/idearq/points?wait=true \"HTTP/1.1 200 OK\"\n",
      "2025-07-18 12:01:24,083 - INFO - HTTP Request: PUT http://localhost:6333/collections/idearq/points?wait=true \"HTTP/1.1 200 OK\"\n",
      "2025-07-18 12:01:26,933 - INFO - HTTP Request: PUT http://localhost:6333/collections/idearq/points?wait=true \"HTTP/1.1 200 OK\"\n",
      "2025-07-18 12:01:29,856 - INFO - HTTP Request: PUT http://localhost:6333/collections/idearq/points?wait=true \"HTTP/1.1 200 OK\"\n",
      "2025-07-18 12:01:32,670 - INFO - HTTP Request: PUT http://localhost:6333/collections/idearq/points?wait=true \"HTTP/1.1 200 OK\"\n",
      "2025-07-18 12:01:35,489 - INFO - HTTP Request: PUT http://localhost:6333/collections/idearq/points?wait=true \"HTTP/1.1 200 OK\"\n",
      "2025-07-18 12:01:38,414 - INFO - HTTP Request: PUT http://localhost:6333/collections/idearq/points?wait=true \"HTTP/1.1 200 OK\"\n",
      "2025-07-18 12:01:41,543 - INFO - HTTP Request: PUT http://localhost:6333/collections/idearq/points?wait=true \"HTTP/1.1 200 OK\"\n",
      "2025-07-18 12:01:44,483 - INFO - HTTP Request: PUT http://localhost:6333/collections/idearq/points?wait=true \"HTTP/1.1 200 OK\"\n",
      "2025-07-18 12:01:47,218 - INFO - HTTP Request: PUT http://localhost:6333/collections/idearq/points?wait=true \"HTTP/1.1 200 OK\"\n",
      "2025-07-18 12:01:50,271 - INFO - HTTP Request: PUT http://localhost:6333/collections/idearq/points?wait=true \"HTTP/1.1 200 OK\"\n",
      "2025-07-18 12:01:53,146 - INFO - HTTP Request: PUT http://localhost:6333/collections/idearq/points?wait=true \"HTTP/1.1 200 OK\"\n",
      "2025-07-18 12:01:55,953 - INFO - HTTP Request: PUT http://localhost:6333/collections/idearq/points?wait=true \"HTTP/1.1 200 OK\"\n",
      "2025-07-18 12:01:58,663 - INFO - HTTP Request: PUT http://localhost:6333/collections/idearq/points?wait=true \"HTTP/1.1 200 OK\"\n",
      "2025-07-18 12:02:01,511 - INFO - HTTP Request: PUT http://localhost:6333/collections/idearq/points?wait=true \"HTTP/1.1 200 OK\"\n",
      "2025-07-18 12:02:04,338 - INFO - HTTP Request: PUT http://localhost:6333/collections/idearq/points?wait=true \"HTTP/1.1 200 OK\"\n",
      "2025-07-18 12:02:07,112 - INFO - HTTP Request: PUT http://localhost:6333/collections/idearq/points?wait=true \"HTTP/1.1 200 OK\"\n",
      "2025-07-18 12:02:07,125 - INFO - Ingesta completada\n"
     ]
    }
   ],
   "source": [
    "from langchain_qdrant import Qdrant\n",
    "\n",
    "QDRANT_URL = \"http://localhost:6333\"\n",
    "COLLECTION_NAME = \"idearq\"\n",
    "\n",
    "# Configura el logger si no lo has hecho en una celda anterior.\n",
    "logging.basicConfig(level=logging.INFO, format='%(asctime)s - %(levelname)s - %(message)s')\n",
    "\n",
    "# 3. CREAR EL OBJETO 'vector_store' \n",
    "# Primero, nos conectamos al cliente de Qdrant \n",
    "client = QdrantClient(url=QDRANT_URL)\n",
    "\n",
    "# Ahora, creamos la variable 'vector_store', que es el objeto de LangChain\n",
    "# Este objeto \"envuelve\" al cliente y sabe cómo usar la función de embeddings\n",
    "logging.info(f\"Conectando a la colección '{COLLECTION_NAME}' a través de LangChain...\")\n",
    "vector_store = Qdrant(\n",
    "    client=client,\n",
    "    collection_name=COLLECTION_NAME,\n",
    "    embeddings=embeddings,\n",
    ")\n",
    "logging.info(\"Objeto 'vector_store' listo para la ingesta\")\n",
    "\n",
    "# 4. INGESTA DE DOCUMENTOS \n",
    "logging.info(f\"Iniciando la ingesta de {len(all_splits)} chunks...\")\n",
    "\n",
    "vector_store.add_documents(all_splits)\n",
    "\n",
    "logging.info(\"Ingesta completada\")\n"
   ]
  },
  {
   "cell_type": "code",
   "execution_count": 22,
   "id": "dd59f1a1",
   "metadata": {},
   "outputs": [
    {
     "data": {
      "text/plain": [
       "{'producer': 'iText 4.2.0 by 1T3XT',\n",
       " 'creator': 'Arbortext Advanced Print Publisher 10.0.1465/W Unicode',\n",
       " 'creationdate': '2017-02-09T08:18:37+05:30',\n",
       " 'source': 'pdf_articulos_idearq\\\\1000_oms_2017.pdf',\n",
       " 'file_path': 'pdf_articulos_idearq\\\\1000_oms_2017.pdf',\n",
       " 'total_pages': 12,\n",
       " 'format': 'PDF 1.4',\n",
       " 'title': 'First Evidence of Collective Human Inhumation from the Cardial Neolithic (Cova Bonica, Barcelona, NE Iberian Peninsula)',\n",
       " 'author': 'F. Xavier Oms',\n",
       " 'subject': 'Journal of Field Archaeology, 2016. doi:10.1080/00934690.2016.1260407',\n",
       " 'keywords': '',\n",
       " 'moddate': '2017-02-20T04:16:48-08:00',\n",
       " 'trapped': '',\n",
       " 'modDate': \"D:20170220041648-08'00'\",\n",
       " 'creationDate': \"D:20170209081837+05'30'\",\n",
       " 'start_index': 0,\n",
       " 'section': 'beginning'}"
      ]
     },
     "execution_count": 22,
     "metadata": {},
     "output_type": "execute_result"
    }
   ],
   "source": [
    "total_documents = len(all_splits)\n",
    "third = total_documents // 3\n",
    "\n",
    "for i, document in enumerate(all_splits):\n",
    "    if i < third:\n",
    "        document.metadata[\"section\"] = \"beginning\"\n",
    "    elif i < 2 * third:\n",
    "        document.metadata[\"section\"] = \"middle\"\n",
    "    else:\n",
    "        document.metadata[\"section\"] = \"end\"\n",
    "\n",
    "\n",
    "all_splits[0].metadata"
   ]
  },
  {
   "cell_type": "code",
   "execution_count": null,
   "id": "5a9bd0df",
   "metadata": {},
   "outputs": [],
   "source": [
    "from langchain_core.vectorstores import InMemoryVectorStore\n",
    "\n",
    "vector_store = InMemoryVectorStore(embeddings)\n",
    "_ = vector_store.add_documents(all_splits)"
   ]
  },
  {
   "cell_type": "code",
   "execution_count": 2,
   "id": "81873858",
   "metadata": {},
   "outputs": [
    {
     "name": "stdout",
     "output_type": "stream",
     "text": [
      "\n",
      "--- Verificación en Qdrant ---\n",
      "Información de la colección 'idearq':\n",
      " - Número TOTAL de vectores en la colección: 50687\n"
     ]
    }
   ],
   "source": [
    "# Verficación\n",
    "\n",
    "from qdrant_client import QdrantClient\n",
    "client = QdrantClient(url=\"http://localhost:6333\")\n",
    "\n",
    "COLLECTION_NAME = \"idearq\" \n",
    "\n",
    "print(\"\\n--- Verificación en Qdrant ---\")\n",
    "print(f\"Información de la colección '{COLLECTION_NAME}':\")\n",
    "\n",
    "# Usamos client.count() para obtener el número exacto de vectores\n",
    "try:\n",
    "    count_result = client.count(\n",
    "        collection_name=COLLECTION_NAME, \n",
    "        exact=True\n",
    "    )\n",
    "    \n",
    "    total_vectors = count_result.count\n",
    "    \n",
    "    if 'all_splits' in locals():\n",
    "      print(f\" - Chunks procesados en esta ejecución: {len(all_splits)}\")\n",
    "\n",
    "    print(f\" - Número TOTAL de vectores en la colección: {total_vectors}\")\n",
    "\n",
    "except Exception as e:\n",
    "    print(f\"No se pudo obtener el conteo de la colección '{COLLECTION_NAME}'. Error: {e}\")\n"
   ]
  },
  {
   "cell_type": "markdown",
   "id": "255acf46",
   "metadata": {},
   "source": [
    "### __Usage__"
   ]
  },
  {
   "cell_type": "code",
   "execution_count": null,
   "id": "06fde5b6",
   "metadata": {},
   "outputs": [
    {
     "name": "stderr",
     "output_type": "stream",
     "text": [
      "2025-07-16 14:05:12,491 - INFO - HTTP Request: POST http://localhost:6333/collections/idearq/points/query \"HTTP/1.1 200 OK\"\n"
     ]
    },
    {
     "name": "stdout",
     "output_type": "stream",
     "text": [
      "Búsqueda para: 'Fortificación ibérica de Giribaile'\n",
      "\n",
      "--- Resultado 1 ---\n",
      "acerca de aspectos relacionados con el supuesto carácter unitario del sistema defensivo y \n",
      "Figura 1.  Localización de Giribaile, en el pago de Cástulo.\n",
      "\fL. M. Gutiérrez et al. ¿La fortificación ibérica de Giribaile? Caracterización formal e interpretación arquitectónica\n",
      "38\n",
      "PYRENAE, vol. 52 núm. 2 (2021)  ISSN: 0079-8215  EISSN: 2339-9171  (p. 35-60)\n",
      "fijar criterios descriptivos precisos sobre la técnica de ejecución de los distintos elementos \n",
      "que lo conforman. \n",
      "Hasta ahora, el tramo más destacado de la defensa de Giribaile había concitado un \n",
      "interés muy limitado: la reseña realizada por Pierre Moret (1996: 518-519), como parte de \n",
      "su catálogo sobre fortificaciones protohistóricas de la península ibérica; un apartado general \n",
      "en el artículo dedicado al análisis de la topografía antigua de Giribaile (Gutiérrez, 2008: \n",
      "129-131); parte de la publicación de las actas de la 8ª edición del Coloquio Internacional del\n",
      "\n",
      "Metadatos: {'producer': 'Adobe PDF Library 15.0', 'creator': 'Adobe InDesign CC 2015 (Macintosh)', 'creationdate': '2021-06-21T17:24:32+02:00', 'source': 'pdf_articulos_idearq\\\\1148_Fortificacion_2021.pdf', 'file_path': 'pdf_articulos_idearq\\\\1148_Fortificacion_2021.pdf', 'total_pages': 26, 'format': 'PDF 1.4', 'title': '¿La fortificación ibérica de Giribaile? Caracterización formal e interpretación arquitectónica de la muralla de cajones', 'author': 'Gutiérrez Soler, Luis María', 'subject': '', 'keywords': 'EDAD DEL HIERRO, PROTOHISTORIA MEDITERRÁNEA, GUADALQUIVIR, POLIORCÉTICA, SIERRA MORENA, SEGUNDA GUERRA PÚNICA', 'moddate': '2021-06-21T17:27:12+02:00', 'trapped': '', 'modDate': \"D:20210621172712+02'00'\", 'creationDate': \"D:20210621172432+02'00'\", 'start_index': 6526, '_id': '6893b244-a8ce-4757-b8cc-028655b23e30', '_collection_name': 'idearq'}\n",
      "----------------\n",
      "\n",
      "--- Resultado 2 ---\n",
      "Montpellier, 13-32.\n",
      "BELLÓN, J. P., LECHUGA, M. A., LÓPEZ, J. L. \n",
      "y MARTÍNEZ, V., 2015a, La conquista de \n",
      "Andalucía oriental: de Baria a Cástulo, \n",
      "en M. BENDALA (coord.), Los Escipiones. Roma \n",
      "conquista Hispania. Exposición celebrada en el Museo \n",
      "Arqueológico Regional (Alcalá de Henares, de febrero a \n",
      "septiembre de 2016), Museo Arqueológico Regional \n",
      "de la Comunidad de Madrid, Alcalá de Henares, \n",
      "181-203.\n",
      "Bibliografía\n",
      "\f57\n",
      "L. M. Gutiérrez et al.\n",
      "¿La fortificación ibérica de Giribaile? Caracterización formal e interpretación arquitectónica\n",
      "PYRENAE, vol. 52 núm. 1 (2021)  ISSN: 0079-8215  EISSN: 2339-9171  (p. 35-60)\n",
      "BELLÓN, J. P., RUIZ, A., MOLINOS, M., \n",
      "RUEDA, C., GÓMEZ, F. y QUESADA, F., 2015b, \n",
      "Conclusiones y propuestas sobre el desarrollo de \n",
      "la batalla de Baecula, en J. P. BELLÓN, A. RUIZ, \n",
      "M. MOLINOS, C. RUEDA y F. GÓMEZ (eds.), \n",
      "La Segunda Guerra Púnica en la península ibérica. \n",
      "Baecula: arqueología de una batalla, Universidad de \n",
      "Jaén, Torredonjimeno, 537-599.\n",
      "\n",
      "Metadatos: {'producer': 'Adobe PDF Library 15.0', 'creator': 'Adobe InDesign CC 2015 (Macintosh)', 'creationdate': '2021-06-21T17:24:32+02:00', 'source': 'pdf_articulos_idearq\\\\1148_Fortificacion_2021.pdf', 'file_path': 'pdf_articulos_idearq\\\\1148_Fortificacion_2021.pdf', 'total_pages': 26, 'format': 'PDF 1.4', 'title': '¿La fortificación ibérica de Giribaile? Caracterización formal e interpretación arquitectónica de la muralla de cajones', 'author': 'Gutiérrez Soler, Luis María', 'subject': '', 'keywords': 'EDAD DEL HIERRO, PROTOHISTORIA MEDITERRÁNEA, GUADALQUIVIR, POLIORCÉTICA, SIERRA MORENA, SEGUNDA GUERRA PÚNICA', 'moddate': '2021-06-21T17:27:12+02:00', 'trapped': '', 'modDate': \"D:20210621172712+02'00'\", 'creationDate': \"D:20210621172432+02'00'\", 'start_index': 62145, '_id': '95cca141-1fe5-4836-8beb-4c7569638c93', '_collection_name': 'idearq'}\n",
      "----------------\n",
      "\n",
      "--- Resultado 3 ---\n",
      "asentarse la base de la realidad arqueológica sobre la posible presencia de un espacio \n",
      "de culto en el oppidum de Giribaile. La aparente configuración topográfica en terraza, \n",
      "propia de los santuarios del territorio de Cástulo, reforzaba esta interpretación.\n",
      "El muestreo arqueológico superficial realizado en esta primera terraza (Rueda Galán \n",
      "et al., 2008, p. 33), documentó una mezcla de materiales pertenecientes a diferentes \n",
      "periodos, que son evidencia de la amplitud y de la continuidad histórica de la ocupa­\n",
      "ción de la meseta de Giribaile. Durante la excavación del año 2014, esta larga secuencia\n",
      "\f76\n",
      "74-102\n",
      "ISSN: 1133-4525\n",
      "ISSN-e: 2255-3924\n",
      "SPAL 30.2\n",
      "(2021)\n",
      "Ritualidad en el área de servicio de la cueva santuario del oppidum de Giribaile\n",
      "María Alejo Armijo et al.\n",
      "https://dx.doi.org/10.12795/spal.2021.i30.18\n",
      "fue confirmada gracias al registro y documentación de niveles desde el periodo visi­\n",
      "godo-emiral hasta alcanzar las construcciones más superficiales contemporáneas que\n",
      "\n",
      "Metadatos: {'producer': 'Adobe PDF Library 16.0', 'creator': 'Adobe InDesign 16.4 (Macintosh)', 'creationdate': '2021-10-01T12:38:16+02:00', 'source': 'pdf_articulos_idearq\\\\1143_Ritualidad_2021.pdf', 'file_path': 'pdf_articulos_idearq\\\\1143_Ritualidad_2021.pdf', 'total_pages': 29, 'format': 'PDF 1.6', 'title': 'Ritualidad en el área de servicio de la cueva santuario del oppidum de Giribaile', 'author': 'Alejo Armijo', 'subject': 'SPAL Revista de Prehistoria y Arqueología (2021), 30.2, 74-102    https://dx.doi.org/10.12795/spal.2021.i30.18', 'keywords': 'Protohistoria Mediterránea; Hierro II; Cultura Ibérica; Andalucía; Guadalquivir; arqueología del culto; paisaje sacro.', 'moddate': '2021-10-07T10:14:41+02:00', 'trapped': '', 'modDate': \"D:20211007101441+02'00'\", 'creationDate': \"D:20211001123816+02'00'\", 'start_index': 6981, '_id': '422c8069-55f0-4663-aa2b-5204c5ed1e63', '_collection_name': 'idearq'}\n",
      "----------------\n",
      "\n",
      "--- Resultado 4 ---\n",
      "La ratificación de la cronología propuesta en Giribaile, a partir de la lectura de la \n",
      "estratigrafía que proporciona la muralla, anticipa una posible presencia púnica efectiva \n",
      "sobre el territorio, de la que ya teníamos constancia a través de las fuentes escritas. La \n",
      "ocupación de una localización destacada en un área de fuertes intereses geoestratégicos \n",
      "por sus alianzas políticas con Cástulo da sentido a la implantación de nuevos patrones de \n",
      "referencia arquitectónicos y urbanísticos. Giribaile muestra elementos de cultura material \n",
      "desconcertantes en el estado actual de nuestros conocimientos sobre la cultura ibérica, \n",
      "entre los que cabe citar la utilización de ladrillos procesados en frío y el diseño del lienzo \n",
      "de módulos de cajones que conforma el dispositivo de tipo barrera.\n",
      "Giribaile es, por el momento, el primero de los sitios arqueológicos del Alto \n",
      "Guadalquivir que ofrece oportunidades de investigación directa sobre un contexto indí­\n",
      "\n",
      "Metadatos: {'producer': 'Adobe PDF Library 15.0', 'creator': 'Adobe InDesign CC 2015 (Macintosh)', 'creationdate': '2021-06-21T17:24:32+02:00', 'source': 'pdf_articulos_idearq\\\\1148_Fortificacion_2021.pdf', 'file_path': 'pdf_articulos_idearq\\\\1148_Fortificacion_2021.pdf', 'total_pages': 26, 'format': 'PDF 1.4', 'title': '¿La fortificación ibérica de Giribaile? Caracterización formal e interpretación arquitectónica de la muralla de cajones', 'author': 'Gutiérrez Soler, Luis María', 'subject': '', 'keywords': 'EDAD DEL HIERRO, PROTOHISTORIA MEDITERRÁNEA, GUADALQUIVIR, POLIORCÉTICA, SIERRA MORENA, SEGUNDA GUERRA PÚNICA', 'moddate': '2021-06-21T17:27:12+02:00', 'trapped': '', 'modDate': \"D:20210621172712+02'00'\", 'creationDate': \"D:20210621172432+02'00'\", 'start_index': 58123, '_id': '133e5162-feb2-4779-87f5-c3a33b5b3c6f', '_collection_name': 'idearq'}\n",
      "----------------\n",
      "\n"
     ]
    }
   ],
   "source": [
    "# Devuelve los k documentos cuyos vectores son matemáticamente más cercanos (más similares) al vector de la pregunta\n",
    "query = \"Fortificación ibérica de Giribaile\"\n",
    "\n",
    "# Búsqueda de similitud\n",
    "results = vector_store.similarity_search(query)\n",
    "\n",
    "print(f\"Búsqueda para: '{query}'\\n\")\n",
    "\n",
    "if not results:\n",
    "    print(\"No se encontraron documentos relevantes.\")\n",
    "else:\n",
    "    # Iteramos sobre los resultados para verlos todos\n",
    "    for i, doc in enumerate(results):\n",
    "        print(f\"--- Resultado {i+1} ---\")\n",
    "        \n",
    "        print(doc.page_content)\n",
    "        \n",
    "        # Metadatos asociados\n",
    "        if doc.metadata:\n",
    "            print(f\"\\nMetadatos: {doc.metadata}\")\n",
    "            \n",
    "        print(\"-\" * (15 + len(str(i+1)))) \n",
    "        \n",
    "        print() \n"
   ]
  },
  {
   "cell_type": "code",
   "execution_count": null,
   "id": "dee15b9f",
   "metadata": {},
   "outputs": [
    {
     "name": "stderr",
     "output_type": "stream",
     "text": [
      "2025-07-16 14:05:31,558 - INFO - HTTP Request: POST http://localhost:6333/collections/idearq/points/query \"HTTP/1.1 200 OK\"\n"
     ]
    },
    {
     "name": "stdout",
     "output_type": "stream",
     "text": [
      "Score: 0.7372005\n",
      "\n",
      "page_content='acerca de aspectos relacionados con el supuesto carácter unitario del sistema defensivo y \n",
      "Figura 1.  Localización de Giribaile, en el pago de Cástulo.\n",
      "\fL. M. Gutiérrez et al. ¿La fortificación ibérica de Giribaile? Caracterización formal e interpretación arquitectónica\n",
      "38\n",
      "PYRENAE, vol. 52 núm. 2 (2021)  ISSN: 0079-8215  EISSN: 2339-9171  (p. 35-60)\n",
      "fijar criterios descriptivos precisos sobre la técnica de ejecución de los distintos elementos \n",
      "que lo conforman. \n",
      "Hasta ahora, el tramo más destacado de la defensa de Giribaile había concitado un \n",
      "interés muy limitado: la reseña realizada por Pierre Moret (1996: 518-519), como parte de \n",
      "su catálogo sobre fortificaciones protohistóricas de la península ibérica; un apartado general \n",
      "en el artículo dedicado al análisis de la topografía antigua de Giribaile (Gutiérrez, 2008: \n",
      "129-131); parte de la publicación de las actas de la 8ª edición del Coloquio Internacional del' metadata={'producer': 'Adobe PDF Library 15.0', 'creator': 'Adobe InDesign CC 2015 (Macintosh)', 'creationdate': '2021-06-21T17:24:32+02:00', 'source': 'pdf_articulos_idearq\\\\1148_Fortificacion_2021.pdf', 'file_path': 'pdf_articulos_idearq\\\\1148_Fortificacion_2021.pdf', 'total_pages': 26, 'format': 'PDF 1.4', 'title': '¿La fortificación ibérica de Giribaile? Caracterización formal e interpretación arquitectónica de la muralla de cajones', 'author': 'Gutiérrez Soler, Luis María', 'subject': '', 'keywords': 'EDAD DEL HIERRO, PROTOHISTORIA MEDITERRÁNEA, GUADALQUIVIR, POLIORCÉTICA, SIERRA MORENA, SEGUNDA GUERRA PÚNICA', 'moddate': '2021-06-21T17:27:12+02:00', 'trapped': '', 'modDate': \"D:20210621172712+02'00'\", 'creationDate': \"D:20210621172432+02'00'\", 'start_index': 6526, '_id': '6893b244-a8ce-4757-b8cc-028655b23e30', '_collection_name': 'idearq'}\n"
     ]
    }
   ],
   "source": [
    "results = vector_store.similarity_search_with_score(\"Fortificación ibérica de Giribaile\")\n",
    "doc, score = results[0]\n",
    "print(f\"Score: {score}\\n\")\n",
    "print(doc)"
   ]
  },
  {
   "cell_type": "markdown",
   "id": "f1a20df8",
   "metadata": {},
   "source": [
    "## __Retrieval and Generation__"
   ]
  },
  {
   "cell_type": "markdown",
   "id": "494865d4",
   "metadata": {},
   "source": [
    "Descargar prompts específicos: https://smith.langchain.com/hub/rlm/rag-prompt?_gl=1"
   ]
  },
  {
   "cell_type": "code",
   "execution_count": 23,
   "id": "0d5b2a4b",
   "metadata": {},
   "outputs": [
    {
     "name": "stdout",
     "output_type": "stream",
     "text": [
      "You are an assistant for question-answering tasks. Use the following pieces of retrieved context to answer the question. If you don't know the answer, just say that you don't know. Use three sentences maximum and keep the answer concise.\n",
      "Question: (question goes here) \n",
      "Context: (context goes here) \n",
      "Answer:\n"
     ]
    }
   ],
   "source": [
    "from langchain import hub\n",
    "\n",
    "prompt = hub.pull(\"rlm/rag-prompt\")\n",
    "\n",
    "example_messages = prompt.invoke(\n",
    "    {\"context\": \"(context goes here)\", \"question\": \"(question goes here)\"}\n",
    ").to_messages()\n",
    "\n",
    "assert len(example_messages) == 1\n",
    "print(example_messages[0].content)"
   ]
  },
  {
   "cell_type": "markdown",
   "id": "ec73e5c0",
   "metadata": {},
   "source": [
    "Usaremos __LangGraph__ para integrar los pasos de retrieval y generation en una sola palicación (orquestar flujos de trabajo). Esto traerá varias ventajas:\n",
    "\n",
    "- Podemos definir nuestra lógica de aplicación una vez y admitir automáticamente múltiples modos de invocación, incluidas llamadas de transmisión, asíncronas y por lotes.\n",
    "- LangSmith rastreará automáticamente los pasos de nuestra aplicación en conjunto.\n",
    "Podemos agregar fácilmente características clave a nuestra aplicación, incluida la persistencia, con cambios mínimos en el código."
   ]
  },
  {
   "cell_type": "markdown",
   "id": "2a927c4d",
   "metadata": {},
   "source": [
    "To use LangGraph, we need to define three things:\n",
    "\n",
    "- The state of our application;\n",
    "- The nodes of our application (i.e., application steps);\n",
    "- The \"control flow\" of our application (e.g., the ordering of the steps)."
   ]
  },
  {
   "cell_type": "markdown",
   "id": "ddfd34a0",
   "metadata": {},
   "source": [
    "LangGraph permite difinir la lógica de la aplicación como un grafo (un conjunto de nodos y conexiones). Permite crear flujos complejos con condiciones, bucles y paralelismo.  \n",
    "LangSmith es una plataforma para visualizar, depurar y monitorizar las trazas de tus ejecuciones de LangChain. Cuando ejecutemos el grafo, LangSmith mostrará un diagrama de cómo fluyeron los datos, qué tardó cada paso, etc. "
   ]
  },
  {
   "cell_type": "markdown",
   "id": "7f669d2a",
   "metadata": {},
   "source": [
    "### __State__"
   ]
  },
  {
   "cell_type": "markdown",
   "id": "ff84dac6",
   "metadata": {},
   "source": [
    "The state of our application controls what data is input to the application, transferred between steps, and output by the application. It is typically a TypedDict, but can also be a __Pydantic BaseModel__. El estado es el objeto que va a ir pasando de nodo en nodo, acumulando información."
   ]
  },
  {
   "cell_type": "code",
   "execution_count": 3,
   "id": "8ba4bf19",
   "metadata": {},
   "outputs": [],
   "source": [
    "# Versión con Pydantic \n",
    "from pydantic import BaseModel, Field\n",
    "from langchain_core.documents import Document\n",
    "import sys\n",
    "from typing import List, Optional\n",
    "\n",
    "class AnswerWithSources(BaseModel):\n",
    "    \"\"\"Una respuesta a la pregunta, con sus fuentes.\"\"\"\n",
    "    answer: str = Field(description=\"La respuesta concisa y directa a la pregunta del usuario.\")\n",
    "    sources: List[str] = Field(\n",
    "        description=\"Lista de las fuentes (metadata['source']) de los documentos usados para construir la respuesta.\"\n",
    "    )\n",
    "\n",
    "class State(BaseModel):\n",
    "    \"\"\"\n",
    "    Representa el estado de nuestro grafo usando un modelo Pydantic.\n",
    "    \n",
    "    Atributos:\n",
    "        question: La pregunta del usuario.\n",
    "        context: La lista de documentos recuperados.\n",
    "        answer: La respuesta estructurada generada por el LLM.\n",
    "    \"\"\"\n",
    "    question: str\n",
    "    context: List[Document] = Field(default_factory=list)\n",
    "    answer: Optional[AnswerWithSources] = None"
   ]
  },
  {
   "cell_type": "markdown",
   "id": "92699e65",
   "metadata": {},
   "source": [
    "### __Nodes (application steps)__\n",
    "\n",
    "Let's start with a simple sequence of two steps: retrieval and generation."
   ]
  },
  {
   "cell_type": "code",
   "execution_count": 4,
   "id": "2bdc921f",
   "metadata": {},
   "outputs": [],
   "source": [
    "def retrieve(state: State):\n",
    "    \"\"\"\n",
    "    Recupera documentos de la base de datos vectorial basándose en la pregunta\n",
    "    y añade información de depuración a la consola.\n",
    "    \"\"\"\n",
    "    print(\"--- Ejecutando nodo: retrieve ---\")\n",
    "    question = state.question\n",
    "    print(f\"Buscando documentos para la pregunta: '{question}'\")\n",
    "\n",
    "    retrieved_docs_with_scores = vector_store.similarity_search_with_score(\n",
    "        question, \n",
    "        k=6\n",
    "    )\n",
    "\n",
    "    if not retrieved_docs_with_scores:\n",
    "        print(\"ADVERTENCIA: No se encontraron documentos relevantes\", file=sys.stderr)\n",
    "        # No es necesario devolver nada si no hay cambios, pero por claridad lo hacemos.\n",
    "        return {\"context\": []}\n",
    "\n",
    "    print(f\"Se encontraron {len(retrieved_docs_with_scores)} documentos\")\n",
    "    \n",
    "    best_doc, best_score = retrieved_docs_with_scores[0]\n",
    "    print(f\"Documento más similar (score: {best_score:.4f}):\")\n",
    "    print(f\"  Fuente: {best_doc.metadata.get('source', 'N/A')}\")\n",
    "    print(f\"  Contenido (inicio): '{best_doc.page_content[:250].strip()}...'\")\n",
    "\n",
    "    retrieved_docs = [doc for doc, score in retrieved_docs_with_scores]\n",
    "    \n",
    "    # LangGraph tomará este diccionario y actualizará el modelo Pydantic 'State'\n",
    "    return {\"context\": retrieved_docs}\n",
    "\n",
    "\n",
    "def generate(state: State):\n",
    "    \"\"\"Genera una respuesta estructurada usando el contexto recuperado y la pregunta.\"\"\"\n",
    "    print(\"\\n--- Ejecutando nodo: generate ---\")\n",
    "    context = state.context\n",
    "\n",
    "    if not context:\n",
    "        print(\"ADVERTENCIA: No hay contexto para generar una respuesta\", file=sys.stderr)\n",
    "        # Devolvemos una respuesta vacía que cumple con el esquema Pydantic\n",
    "        return {\"answer\": AnswerWithSources(answer=\"No se recuperó suficiente información para responder.\", sources=[])}\n",
    "\n",
    "    docs_content = \"\\n\\n\".join([doc.page_content for doc in context])\n",
    "    structured_llm = llm.with_structured_output(AnswerWithSources)\n",
    "\n",
    "    print(\"Generando respuesta estructurada del LLM...\")\n",
    "    messages = prompt.invoke({\"question\": state.question, \"context\": docs_content})\n",
    "    response = structured_llm.invoke(messages)\n",
    "\n",
    "    return {\"answer\": response}"
   ]
  },
  {
   "cell_type": "markdown",
   "id": "db248312",
   "metadata": {},
   "source": [
    "Our retrieval step simply runs a similarity search using the input question, and the generation step formats the retrieved context and original question into a prompt for the chat model."
   ]
  },
  {
   "cell_type": "markdown",
   "id": "63d3356c",
   "metadata": {},
   "source": [
    "### __Control flow__\n",
    "\n",
    "Finally, we compile our application into a single graph object. In this case, we are just connecting the retrieval and generation steps into a single sequence."
   ]
  },
  {
   "cell_type": "code",
   "execution_count": 5,
   "id": "0f79245e",
   "metadata": {},
   "outputs": [],
   "source": [
    "from langgraph.graph import START, END, StateGraph\n",
    "\n",
    "graph_builder = StateGraph(State)\n",
    "graph_builder.add_node(\"retrieve\", retrieve)\n",
    "graph_builder.add_node(\"generate\", generate)\n",
    "graph_builder.set_entry_point(\"retrieve\")\n",
    "graph_builder.add_edge(\"retrieve\", \"generate\")\n",
    "graph_builder.add_edge(\"generate\", END)\n",
    "graph = graph_builder.compile()"
   ]
  },
  {
   "cell_type": "markdown",
   "id": "528eb2fa",
   "metadata": {},
   "source": [
    "LangGraph also comes with built-in utilities for visualizing the control flow of your application:"
   ]
  },
  {
   "cell_type": "code",
   "execution_count": 6,
   "id": "5d007cff",
   "metadata": {},
   "outputs": [
    {
     "data": {
      "image/png": "[encoded data removed]",
      "text/plain": [
       "<IPython.core.display.Image object>"
      ]
     },
     "metadata": {},
     "output_type": "display_data"
    }
   ],
   "source": [
    "from IPython.display import Image, display\n",
    "\n",
    "display(Image(graph.get_graph().draw_mermaid_png()))"
   ]
  },
  {
   "cell_type": "markdown",
   "id": "6ea4469f",
   "metadata": {},
   "source": [
    "### __Usage__"
   ]
  },
  {
   "cell_type": "markdown",
   "id": "bc755ccd",
   "metadata": {},
   "source": [
    "LangGraph supports multiple invocation modes, including sync, async, and streaming."
   ]
  },
  {
   "cell_type": "markdown",
   "id": "d44523ef",
   "metadata": {},
   "source": [
    "Invoke"
   ]
  },
  {
   "cell_type": "code",
   "execution_count": null,
   "id": "5daeb4fd",
   "metadata": {},
   "outputs": [
    {
     "name": "stderr",
     "output_type": "stream",
     "text": [
      "2025-07-16 14:48:22,646 - INFO - HTTP Request: POST http://localhost:6333/collections/idearq/points/query \"HTTP/1.1 200 OK\"\n"
     ]
    },
    {
     "name": "stdout",
     "output_type": "stream",
     "text": [
      "--- Ejecutando nodo: retrieve ---\n",
      "Buscando documentos para la pregunta: 'Dame información sobre la fortificación ibérica de Giribaile'\n",
      "Se encontraron 6 documentos\n",
      "Documento más similar (score: 0.7195):\n",
      "  Fuente: pdf_articulos_idearq\\1148_Fortificacion_2021.pdf\n",
      "  Contenido (inicio): 'acerca de aspectos relacionados con el supuesto carácter unitario del sistema defensivo y \n",
      "Figura 1.  Localización de Giribaile, en el pago de Cástulo.\n",
      "\fL. M. Gutiérrez et al. ¿La fortificación ibérica de Giribaile? Caracterización formal e interpret...'\n",
      "\n",
      "--- Ejecutando nodo: generate ---\n",
      "Generando respuesta del LLM...\n"
     ]
    },
    {
     "name": "stderr",
     "output_type": "stream",
     "text": [
      "2025-07-16 14:48:43,308 - INFO - HTTP Request: POST http://127.0.0.1:11434/api/generate \"HTTP/1.1 200 OK\"\n"
     ]
    },
    {
     "name": "stdout",
     "output_type": "stream",
     "text": [
      "Context: [Document(metadata={'producer': 'Adobe PDF Library 15.0', 'creator': 'Adobe InDesign CC 2015 (Macintosh)', 'creationdate': '2021-06-21T17:24:32+02:00', 'source': 'pdf_articulos_idearq\\\\1148_Fortificacion_2021.pdf', 'file_path': 'pdf_articulos_idearq\\\\1148_Fortificacion_2021.pdf', 'total_pages': 26, 'format': 'PDF 1.4', 'title': '¿La fortificación ibérica de Giribaile? Caracterización formal e interpretación arquitectónica de la muralla de cajones', 'author': 'Gutiérrez Soler, Luis María', 'subject': '', 'keywords': 'EDAD DEL HIERRO, PROTOHISTORIA MEDITERRÁNEA, GUADALQUIVIR, POLIORCÉTICA, SIERRA MORENA, SEGUNDA GUERRA PÚNICA', 'moddate': '2021-06-21T17:27:12+02:00', 'trapped': '', 'modDate': \"D:20210621172712+02'00'\", 'creationDate': \"D:20210621172432+02'00'\", 'start_index': 6526, '_id': '6893b244-a8ce-4757-b8cc-028655b23e30', '_collection_name': 'idearq'}, page_content='acerca de aspectos relacionados con el supuesto carácter unitario del sistema defensivo y \\nFigura 1.\\u2003 Localización de Giribaile, en el pago de Cástulo.\\n\\x0cL. M. Gutiérrez et al. ¿La fortificación ibérica de Giribaile? Caracterización formal e interpretación arquitectónica\\n38\\nPYRENAE, vol. 52 núm. 2 (2021)\\u2002 ISSN: 0079-8215\\u2002 EISSN: 2339-9171\\u2002 (p. 35-60)\\nfijar criterios descriptivos precisos sobre la técnica de ejecución de los distintos elementos \\nque lo conforman. \\nHasta ahora, el tramo más destacado de la defensa de Giribaile había concitado un \\ninterés muy limitado: la reseña realizada por Pierre Moret (1996: 518-519), como parte de \\nsu catálogo sobre fortificaciones protohistóricas de la península ibérica; un apartado general \\nen el artículo dedicado al análisis de la topografía antigua de Giribaile (Gutiérrez, 2008: \\n129-131); parte de la publicación de las actas de la 8ª edición del Coloquio Internacional del'), Document(metadata={'producer': 'Adobe PDF Library 15.0', 'creator': 'Adobe InDesign CC 2015 (Macintosh)', 'creationdate': '2021-06-21T17:24:32+02:00', 'source': 'pdf_articulos_idearq\\\\1148_Fortificacion_2021.pdf', 'file_path': 'pdf_articulos_idearq\\\\1148_Fortificacion_2021.pdf', 'total_pages': 26, 'format': 'PDF 1.4', 'title': '¿La fortificación ibérica de Giribaile? Caracterización formal e interpretación arquitectónica de la muralla de cajones', 'author': 'Gutiérrez Soler, Luis María', 'subject': '', 'keywords': 'EDAD DEL HIERRO, PROTOHISTORIA MEDITERRÁNEA, GUADALQUIVIR, POLIORCÉTICA, SIERRA MORENA, SEGUNDA GUERRA PÚNICA', 'moddate': '2021-06-21T17:27:12+02:00', 'trapped': '', 'modDate': \"D:20210621172712+02'00'\", 'creationDate': \"D:20210621172432+02'00'\", 'start_index': 62145, '_id': '95cca141-1fe5-4836-8beb-4c7569638c93', '_collection_name': 'idearq'}, page_content='Montpellier, 13-32.\\nBELLÓN, J. P., LECHUGA, M. A., LÓPEZ, J. L. \\ny MARTÍNEZ, V., 2015a, La conquista de \\nAndalucía oriental: de Baria a Cástulo, \\nen M. BENDALA (coord.), Los Escipiones. Roma \\nconquista Hispania. Exposición celebrada en el Museo \\nArqueológico Regional (Alcalá de Henares, de febrero a \\nseptiembre de 2016), Museo Arqueológico Regional \\nde la Comunidad de Madrid, Alcalá de Henares, \\n181-203.\\nBibliografía\\n\\x0c57\\nL. M. Gutiérrez et al.\\n¿La fortificación ibérica de Giribaile? Caracterización formal e interpretación arquitectónica\\nPYRENAE, vol. 52 núm. 1 (2021)\\u2002 ISSN: 0079-8215\\u2002 EISSN: 2339-9171\\u2002 (p. 35-60)\\nBELLÓN, J. P., RUIZ, A., MOLINOS, M., \\nRUEDA, C., GÓMEZ, F. y QUESADA, F., 2015b, \\nConclusiones y propuestas sobre el desarrollo de \\nla batalla de Baecula, en J. P. BELLÓN, A. RUIZ, \\nM. MOLINOS, C. RUEDA y F. GÓMEZ (eds.), \\nLa Segunda Guerra Púnica en la península ibérica. \\nBaecula: arqueología de una batalla, Universidad de \\nJaén, Torredonjimeno, 537-599.'), Document(metadata={'producer': 'Adobe PDF Library 15.0', 'creator': 'Adobe InDesign CC 2015 (Macintosh)', 'creationdate': '2021-06-21T17:24:32+02:00', 'source': 'pdf_articulos_idearq\\\\1148_Fortificacion_2021.pdf', 'file_path': 'pdf_articulos_idearq\\\\1148_Fortificacion_2021.pdf', 'total_pages': 26, 'format': 'PDF 1.4', 'title': '¿La fortificación ibérica de Giribaile? Caracterización formal e interpretación arquitectónica de la muralla de cajones', 'author': 'Gutiérrez Soler, Luis María', 'subject': '', 'keywords': 'EDAD DEL HIERRO, PROTOHISTORIA MEDITERRÁNEA, GUADALQUIVIR, POLIORCÉTICA, SIERRA MORENA, SEGUNDA GUERRA PÚNICA', 'moddate': '2021-06-21T17:27:12+02:00', 'trapped': '', 'modDate': \"D:20210621172712+02'00'\", 'creationDate': \"D:20210621172432+02'00'\", 'start_index': 30791, '_id': '0ebaad7a-3503-4991-8dbc-01af7002f158', '_collection_name': 'idearq'}, page_content='sitios arqueológicos citados comparten un mismo contexto histórico-cultural, pero muestran \\nsustanciales diferencias en cuanto a su arquitectura de representación, destacando los présta\\xad\\nmos de tipo helenístico-oriental adoptados en el caso de Giribaile —a saber, la construcción \\nde una muralla de cajones y la utilización de refuerzos ataludados interiores—. \\nSi bien el aparejo y, en parte, la técnica de ejecución entroncan con la tradición y la \\nmanera de construir ibérica, el diseño y la concepción programática de la defensa principal\\n\\x0cL. M. Gutiérrez et al. ¿La fortificación ibérica de Giribaile? Caracterización formal e interpretación arquitectónica\\n48\\nPYRENAE, vol. 52 núm. 2 (2021)\\u2002 ISSN: 0079-8215\\u2002 EISSN: 2339-9171\\u2002 (p. 35-60)\\ny su metrología responden a un modo de concebir la protección que podría tener un origen \\nmediterráneo. Los cajones de la muralla, basados en un rectángulo de 8\\u2006×\\u20065 m, remiten'), Document(metadata={'producer': 'Adobe PDF Library 16.0', 'creator': 'Adobe InDesign 16.4 (Macintosh)', 'creationdate': '2021-10-01T12:38:16+02:00', 'source': 'pdf_articulos_idearq\\\\1143_Ritualidad_2021.pdf', 'file_path': 'pdf_articulos_idearq\\\\1143_Ritualidad_2021.pdf', 'total_pages': 29, 'format': 'PDF 1.6', 'title': 'Ritualidad en el área de servicio de la cueva santuario del oppidum de Giribaile', 'author': 'Alejo Armijo', 'subject': 'SPAL Revista de Prehistoria y Arqueología (2021), 30.2, 74-102    https://dx.doi.org/10.12795/spal.2021.i30.18', 'keywords': 'Protohistoria Mediterránea; Hierro II; Cultura Ibérica; Andalucía; Guadalquivir; arqueología del culto; paisaje sacro.', 'moddate': '2021-10-07T10:14:41+02:00', 'trapped': '', 'modDate': \"D:20211007101441+02'00'\", 'creationDate': \"D:20211001123816+02'00'\", 'start_index': 6981, '_id': '422c8069-55f0-4663-aa2b-5204c5ed1e63', '_collection_name': 'idearq'}, page_content='asentarse la base de la realidad arqueológica sobre la posible presencia de un espacio \\nde culto en el oppidum de Giribaile. La aparente configuración topográfica en terraza, \\npropia de los santuarios del territorio de Cástulo, reforzaba esta interpretación.\\nEl muestreo arqueológico superficial realizado en esta primera terraza (Rueda Galán \\net al., 2008, p.\\xa033), documentó una mezcla de materiales pertenecientes a diferentes \\nperiodos, que son evidencia de la amplitud y de la continuidad histórica de la ocupa\\xad\\nción de la meseta de Giribaile. Durante la excavación del año 2014, esta larga secuencia\\n\\x0c76\\n74-102\\nISSN: 1133-4525\\nISSN-e: 2255-3924\\nSPAL 30.2\\n(2021)\\nRitualidad en el área de servicio de la cueva santuario del oppidum de Giribaile\\nMaría Alejo Armijo et al.\\nhttps://dx.doi.org/10.12795/spal.2021.i30.18\\nfue confirmada gracias al registro y documentación de niveles desde el periodo visi\\xad\\ngodo-emiral hasta alcanzar las construcciones más superficiales contemporáneas que'), Document(metadata={'producer': 'Adobe PDF Library 15.0', 'creator': 'Adobe InDesign CC 2015 (Macintosh)', 'creationdate': '2021-06-21T17:24:32+02:00', 'source': 'pdf_articulos_idearq\\\\1148_Fortificacion_2021.pdf', 'file_path': 'pdf_articulos_idearq\\\\1148_Fortificacion_2021.pdf', 'total_pages': 26, 'format': 'PDF 1.4', 'title': '¿La fortificación ibérica de Giribaile? Caracterización formal e interpretación arquitectónica de la muralla de cajones', 'author': 'Gutiérrez Soler, Luis María', 'subject': '', 'keywords': 'EDAD DEL HIERRO, PROTOHISTORIA MEDITERRÁNEA, GUADALQUIVIR, POLIORCÉTICA, SIERRA MORENA, SEGUNDA GUERRA PÚNICA', 'moddate': '2021-06-21T17:27:12+02:00', 'trapped': '', 'modDate': \"D:20210621172712+02'00'\", 'creationDate': \"D:20210621172432+02'00'\", 'start_index': 56527, '_id': '79cbd6b8-123c-4ae1-ae7b-be6064ee97ef', '_collection_name': 'idearq'}, page_content='PYRENAE, vol. 52 núm. 2 (2021)\\u2002 ISSN: 0079-8215\\u2002 EISSN: 2339-9171\\u2002 (p. 35-60)\\nGiribaile representa un caso de estudio concreto, en el que la factura local detecta una \\nactuación por parte de la comunidad ibérica, aplicando soluciones arquitectónicas utiliza\\xad\\ndas en diferentes contextos mediterráneos en el ámbito de un proyecto programático de \\nprestigio. El dispositivo de tipo barrera es expresión propagandística del poder de Giribaile \\ny, por ende, de la misma Cástulo. El mensaje se transmite a través de la monumentalidad \\ndel diseño general y no tanto en el aspecto formal del aparejo constructivo empleado. \\n9. Conclusión \\nGiribaile representa un caso particular de ciudad fortificada en el Alto Guadalquivir y el \\nproyecto financiado sobre poliorcética tiene que ver con el estudio y análisis de la singu\\xad\\nlaridad del elemento más monumental de la fortificación de la meseta. Desde un punto \\nde vista histórico, esta investigación va mucho más allá del desarrollo de un proyecto de'), Document(metadata={'producer': 'Adobe PDF Library 15.0', 'creator': 'Adobe InDesign CC 2015 (Macintosh)', 'creationdate': '2021-06-21T17:24:32+02:00', 'source': 'pdf_articulos_idearq\\\\1148_Fortificacion_2021.pdf', 'file_path': 'pdf_articulos_idearq\\\\1148_Fortificacion_2021.pdf', 'total_pages': 26, 'format': 'PDF 1.4', 'title': '¿La fortificación ibérica de Giribaile? Caracterización formal e interpretación arquitectónica de la muralla de cajones', 'author': 'Gutiérrez Soler, Luis María', 'subject': '', 'keywords': 'EDAD DEL HIERRO, PROTOHISTORIA MEDITERRÁNEA, GUADALQUIVIR, POLIORCÉTICA, SIERRA MORENA, SEGUNDA GUERRA PÚNICA', 'moddate': '2021-06-21T17:27:12+02:00', 'trapped': '', 'modDate': \"D:20210621172712+02'00'\", 'creationDate': \"D:20210621172432+02'00'\", 'start_index': 58123, '_id': '133e5162-feb2-4779-87f5-c3a33b5b3c6f', '_collection_name': 'idearq'}, page_content='La ratificación de la cronología propuesta en Giribaile, a partir de la lectura de la \\nestratigrafía que proporciona la muralla, anticipa una posible presencia púnica efectiva \\nsobre el territorio, de la que ya teníamos constancia a través de las fuentes escritas. La \\nocupación de una localización destacada en un área de fuertes intereses geoestratégicos \\npor sus alianzas políticas con Cástulo da sentido a la implantación de nuevos patrones de \\nreferencia arquitectónicos y urbanísticos. Giribaile muestra elementos de cultura material \\ndesconcertantes en el estado actual de nuestros conocimientos sobre la cultura ibérica, \\nentre los que cabe citar la utilización de ladrillos procesados en frío y el diseño del lienzo \\nde módulos de cajones que conforma el dispositivo de tipo barrera.\\nGiribaile es, por el momento, el primero de los sitios arqueológicos del Alto \\nGuadalquivir que ofrece oportunidades de investigación directa sobre un contexto indí\\xad')]\n",
      "\n",
      "\n",
      "Answer: Lo siento, pero no puedo proporcionar información específica sobre la fortificación ibérica de Giribaile.\n"
     ]
    }
   ],
   "source": [
    "result = graph.invoke({\"question\": \"Dame información sobre la fortificación ibérica de Giribaile\"})\n",
    "\n",
    "print(f'Context: {result[\"context\"]}\\n\\n')\n",
    "print(f'Answer: {result[\"answer\"]}')"
   ]
  },
  {
   "cell_type": "markdown",
   "id": "df01b493",
   "metadata": {},
   "source": [
    "Esta respuesta lleva a pensar que se necesita utilizar otro prompt."
   ]
  },
  {
   "cell_type": "code",
   "execution_count": 12,
   "id": "2916d788",
   "metadata": {},
   "outputs": [
    {
     "name": "stdout",
     "output_type": "stream",
     "text": [
      "--- Estructura del nuevo prompt ---\n",
      "\n",
      "Eres un asistente experto en arqueología, historia e información geoespacial.\n",
      "Tu tarea es responder a la pregunta del usuario basándote **única y exclusivamente** en el siguiente contexto proporcionado.\n",
      "\n",
      "No utilices ningún conocimiento previo. Si la información no se encuentra en el contexto, responde exactamente: \n",
      "\"La información solicitada no se encuentra en los documentos proporcionados.\"\n",
      "\n",
      "Contexto:\n",
      "Aquí irían los documentos sobre Giribaile...\n",
      "\n",
      "Pregunta:\n",
      "¿Qué sabes sobre la fortificación ibérica de Giribaile?\n",
      "\n",
      "Respuesta concisa y útil:\n",
      "\n"
     ]
    }
   ],
   "source": [
    "from langchain_core.prompts import ChatPromptTemplate\n",
    "\n",
    "template = \"\"\"\n",
    "Eres un asistente experto en arqueología, historia e información geoespacial.\n",
    "Tu tarea es responder a la pregunta del usuario basándote **única y exclusivamente** en el siguiente contexto proporcionado.\n",
    "\n",
    "No utilices ningún conocimiento previo. Si la información no se encuentra en el contexto, responde exactamente: \n",
    "\"La información solicitada no se encuentra en los documentos proporcionados.\"\n",
    "\n",
    "Contexto:\n",
    "{context}\n",
    "\n",
    "Pregunta:\n",
    "{question}\n",
    "\n",
    "Respuesta concisa y útil:\n",
    "\"\"\"\n",
    "\n",
    "prompt = ChatPromptTemplate.from_template(template)\n",
    "\n",
    "example_messages = prompt.invoke(\n",
    "    {\"context\": \"Aquí irían los documentos sobre Giribaile...\", \"question\": \"¿Qué sabes sobre la fortificación ibérica de Giribaile?\"}\n",
    ").to_messages()\n",
    "\n",
    "print(\"--- Estructura del nuevo prompt ---\")\n",
    "print(example_messages[0].content)\n"
   ]
  },
  {
   "cell_type": "code",
   "execution_count": 16,
   "id": "0764b140",
   "metadata": {},
   "outputs": [
    {
     "name": "stdout",
     "output_type": "stream",
     "text": [
      "Modelo de Embeddings inicializado\n"
     ]
    }
   ],
   "source": [
    "# Modelo de Embeddings\n",
    "embeddings = HuggingFaceEmbeddings(model_name=\"sentence-transformers/all-MiniLM-L6-v2\")\n",
    "print(\"Modelo de Embeddings inicializado\")"
   ]
  },
  {
   "cell_type": "code",
   "execution_count": 17,
   "id": "b3e680df",
   "metadata": {},
   "outputs": [
    {
     "name": "stdout",
     "output_type": "stream",
     "text": [
      "Conexión a Qdrant establecida con éxito\n"
     ]
    },
    {
     "name": "stderr",
     "output_type": "stream",
     "text": [
      "C:\\Users\\elevi\\AppData\\Local\\Temp\\ipykernel_11680\\446272639.py:4: LangChainDeprecationWarning: The class `Qdrant` was deprecated in LangChain 0.1.2 and will be removed in 0.5.0. Use :class:`~QdrantVectorStore` instead.\n",
      "  vector_store = Qdrant(\n"
     ]
    }
   ],
   "source": [
    "from langchain_qdrant import Qdrant\n",
    "\n",
    "client = QdrantClient(url=\"http://localhost:6333\")\n",
    "vector_store = Qdrant(\n",
    "    client=client, \n",
    "    collection_name=\"idearq\", \n",
    "    embeddings=embeddings,\n",
    ")\n",
    "print(\"Conexión a Qdrant establecida con éxito\")"
   ]
  },
  {
   "cell_type": "code",
   "execution_count": 18,
   "id": "4a628882",
   "metadata": {},
   "outputs": [
    {
     "name": "stdout",
     "output_type": "stream",
     "text": [
      "--- Ejecutando nodo: retrieve ---\n",
      "Buscando documentos para la pregunta: 'Dame información sobre la fortificación ibérica de Giribaile'\n",
      "Se encontraron 6 documentos\n",
      "Documento más similar (score: 0.0000):\n",
      "  Fuente: pdf_articulos_idearq\\1000_oms_2017.pdf\n",
      "  Contenido (inicio): 'Lab. reference\n",
      "δ13\n",
      "BP\n",
      "Var.\n",
      "Cal BC 2σ\n",
      "References\n",
      "Bonica IV2\n",
      "Catalonia\n",
      "Spain\n",
      "6\n",
      "Human bone\n",
      "OxA-29639\n",
      "19.19\n",
      "6351\n",
      "35\n",
      "5466–5226\n",
      "Present study\n",
      "Bonica IV2\n",
      "Catalonia\n",
      "Spain\n",
      "Human bone\n",
      "Beta-384726\n",
      "18.7\n",
      "6390\n",
      "30\n",
      "5468–5316\n",
      "Present study\n",
      "Bonica IV2\n",
      "Catalonia\n",
      "Spain...'\n",
      "\n",
      "--- Ejecutando nodo: generate ---\n"
     ]
    },
    {
     "ename": "NotImplementedError",
     "evalue": "",
     "output_type": "error",
     "traceback": [
      "\u001b[31m---------------------------------------------------------------------------\u001b[39m",
      "\u001b[31mNotImplementedError\u001b[39m                       Traceback (most recent call last)",
      "\u001b[36mCell\u001b[39m\u001b[36m \u001b[39m\u001b[32mIn[18]\u001b[39m\u001b[32m, line 1\u001b[39m\n\u001b[32m----> \u001b[39m\u001b[32m1\u001b[39m result = \u001b[43mgraph\u001b[49m\u001b[43m.\u001b[49m\u001b[43minvoke\u001b[49m\u001b[43m(\u001b[49m\u001b[43m{\u001b[49m\u001b[33;43m\"\u001b[39;49m\u001b[33;43mquestion\u001b[39;49m\u001b[33;43m\"\u001b[39;49m\u001b[43m:\u001b[49m\u001b[43m \u001b[49m\u001b[33;43m\"\u001b[39;49m\u001b[33;43mDame información sobre la fortificación ibérica de Giribaile\u001b[39;49m\u001b[33;43m\"\u001b[39;49m\u001b[43m}\u001b[49m\u001b[43m)\u001b[49m\n\u001b[32m      3\u001b[39m \u001b[38;5;28mprint\u001b[39m(\u001b[33mf\u001b[39m\u001b[33m'\u001b[39m\u001b[33mContext: \u001b[39m\u001b[38;5;132;01m{\u001b[39;00mresult[\u001b[33m\"\u001b[39m\u001b[33mcontext\u001b[39m\u001b[33m\"\u001b[39m]\u001b[38;5;132;01m}\u001b[39;00m\u001b[38;5;130;01m\\n\u001b[39;00m\u001b[38;5;130;01m\\n\u001b[39;00m\u001b[33m'\u001b[39m)\n\u001b[32m      4\u001b[39m \u001b[38;5;28mprint\u001b[39m(\u001b[33mf\u001b[39m\u001b[33m'\u001b[39m\u001b[33mAnswer: \u001b[39m\u001b[38;5;132;01m{\u001b[39;00mresult[\u001b[33m\"\u001b[39m\u001b[33manswer\u001b[39m\u001b[33m\"\u001b[39m]\u001b[38;5;132;01m}\u001b[39;00m\u001b[33m'\u001b[39m)\n",
      "\u001b[36mFile \u001b[39m\u001b[32me:\\ANACONDA\\envs\\rag\\Lib\\site-packages\\langgraph\\pregel\\__init__.py:2844\u001b[39m, in \u001b[36mPregel.invoke\u001b[39m\u001b[34m(self, input, config, stream_mode, print_mode, output_keys, interrupt_before, interrupt_after, **kwargs)\u001b[39m\n\u001b[32m   2841\u001b[39m chunks: \u001b[38;5;28mlist\u001b[39m[\u001b[38;5;28mdict\u001b[39m[\u001b[38;5;28mstr\u001b[39m, Any] | Any] = []\n\u001b[32m   2842\u001b[39m interrupts: \u001b[38;5;28mlist\u001b[39m[Interrupt] = []\n\u001b[32m-> \u001b[39m\u001b[32m2844\u001b[39m \u001b[43m\u001b[49m\u001b[38;5;28;43;01mfor\u001b[39;49;00m\u001b[43m \u001b[49m\u001b[43mchunk\u001b[49m\u001b[43m \u001b[49m\u001b[38;5;129;43;01min\u001b[39;49;00m\u001b[43m \u001b[49m\u001b[38;5;28;43mself\u001b[39;49m\u001b[43m.\u001b[49m\u001b[43mstream\u001b[49m\u001b[43m(\u001b[49m\n\u001b[32m   2845\u001b[39m \u001b[43m    \u001b[49m\u001b[38;5;28;43minput\u001b[39;49m\u001b[43m,\u001b[49m\n\u001b[32m   2846\u001b[39m \u001b[43m    \u001b[49m\u001b[43mconfig\u001b[49m\u001b[43m,\u001b[49m\n\u001b[32m   2847\u001b[39m \u001b[43m    \u001b[49m\u001b[43mstream_mode\u001b[49m\u001b[43m=\u001b[49m\u001b[43m[\u001b[49m\u001b[33;43m\"\u001b[39;49m\u001b[33;43mupdates\u001b[39;49m\u001b[33;43m\"\u001b[39;49m\u001b[43m,\u001b[49m\u001b[43m \u001b[49m\u001b[33;43m\"\u001b[39;49m\u001b[33;43mvalues\u001b[39;49m\u001b[33;43m\"\u001b[39;49m\u001b[43m]\u001b[49m\n\u001b[32m   2848\u001b[39m \u001b[43m    \u001b[49m\u001b[38;5;28;43;01mif\u001b[39;49;00m\u001b[43m \u001b[49m\u001b[43mstream_mode\u001b[49m\u001b[43m \u001b[49m\u001b[43m==\u001b[49m\u001b[43m \u001b[49m\u001b[33;43m\"\u001b[39;49m\u001b[33;43mvalues\u001b[39;49m\u001b[33;43m\"\u001b[39;49m\n\u001b[32m   2849\u001b[39m \u001b[43m    \u001b[49m\u001b[38;5;28;43;01melse\u001b[39;49;00m\u001b[43m \u001b[49m\u001b[43mstream_mode\u001b[49m\u001b[43m,\u001b[49m\n\u001b[32m   2850\u001b[39m \u001b[43m    \u001b[49m\u001b[43mprint_mode\u001b[49m\u001b[43m=\u001b[49m\u001b[43mprint_mode\u001b[49m\u001b[43m,\u001b[49m\n\u001b[32m   2851\u001b[39m \u001b[43m    \u001b[49m\u001b[43moutput_keys\u001b[49m\u001b[43m=\u001b[49m\u001b[43moutput_keys\u001b[49m\u001b[43m,\u001b[49m\n\u001b[32m   2852\u001b[39m \u001b[43m    \u001b[49m\u001b[43minterrupt_before\u001b[49m\u001b[43m=\u001b[49m\u001b[43minterrupt_before\u001b[49m\u001b[43m,\u001b[49m\n\u001b[32m   2853\u001b[39m \u001b[43m    \u001b[49m\u001b[43minterrupt_after\u001b[49m\u001b[43m=\u001b[49m\u001b[43minterrupt_after\u001b[49m\u001b[43m,\u001b[49m\n\u001b[32m   2854\u001b[39m \u001b[43m    \u001b[49m\u001b[43m*\u001b[49m\u001b[43m*\u001b[49m\u001b[43mkwargs\u001b[49m\u001b[43m,\u001b[49m\n\u001b[32m   2855\u001b[39m \u001b[43m\u001b[49m\u001b[43m)\u001b[49m\u001b[43m:\u001b[49m\n\u001b[32m   2856\u001b[39m \u001b[43m    \u001b[49m\u001b[38;5;28;43;01mif\u001b[39;49;00m\u001b[43m \u001b[49m\u001b[43mstream_mode\u001b[49m\u001b[43m \u001b[49m\u001b[43m==\u001b[49m\u001b[43m \u001b[49m\u001b[33;43m\"\u001b[39;49m\u001b[33;43mvalues\u001b[39;49m\u001b[33;43m\"\u001b[39;49m\u001b[43m:\u001b[49m\n\u001b[32m   2857\u001b[39m \u001b[43m        \u001b[49m\u001b[38;5;28;43;01mif\u001b[39;49;00m\u001b[43m \u001b[49m\u001b[38;5;28;43mlen\u001b[39;49m\u001b[43m(\u001b[49m\u001b[43mchunk\u001b[49m\u001b[43m)\u001b[49m\u001b[43m \u001b[49m\u001b[43m==\u001b[49m\u001b[43m \u001b[49m\u001b[32;43m2\u001b[39;49m\u001b[43m:\u001b[49m\n",
      "\u001b[36mFile \u001b[39m\u001b[32me:\\ANACONDA\\envs\\rag\\Lib\\site-packages\\langgraph\\pregel\\__init__.py:2534\u001b[39m, in \u001b[36mPregel.stream\u001b[39m\u001b[34m(self, input, config, stream_mode, print_mode, output_keys, interrupt_before, interrupt_after, checkpoint_during, debug, subgraphs)\u001b[39m\n\u001b[32m   2532\u001b[39m \u001b[38;5;28;01mfor\u001b[39;00m task \u001b[38;5;129;01min\u001b[39;00m loop.match_cached_writes():\n\u001b[32m   2533\u001b[39m     loop.output_writes(task.id, task.writes, cached=\u001b[38;5;28;01mTrue\u001b[39;00m)\n\u001b[32m-> \u001b[39m\u001b[32m2534\u001b[39m \u001b[43m\u001b[49m\u001b[38;5;28;43;01mfor\u001b[39;49;00m\u001b[43m \u001b[49m\u001b[43m_\u001b[49m\u001b[43m \u001b[49m\u001b[38;5;129;43;01min\u001b[39;49;00m\u001b[43m \u001b[49m\u001b[43mrunner\u001b[49m\u001b[43m.\u001b[49m\u001b[43mtick\u001b[49m\u001b[43m(\u001b[49m\n\u001b[32m   2535\u001b[39m \u001b[43m    \u001b[49m\u001b[43m[\u001b[49m\u001b[43mt\u001b[49m\u001b[43m \u001b[49m\u001b[38;5;28;43;01mfor\u001b[39;49;00m\u001b[43m \u001b[49m\u001b[43mt\u001b[49m\u001b[43m \u001b[49m\u001b[38;5;129;43;01min\u001b[39;49;00m\u001b[43m \u001b[49m\u001b[43mloop\u001b[49m\u001b[43m.\u001b[49m\u001b[43mtasks\u001b[49m\u001b[43m.\u001b[49m\u001b[43mvalues\u001b[49m\u001b[43m(\u001b[49m\u001b[43m)\u001b[49m\u001b[43m \u001b[49m\u001b[38;5;28;43;01mif\u001b[39;49;00m\u001b[43m \u001b[49m\u001b[38;5;129;43;01mnot\u001b[39;49;00m\u001b[43m \u001b[49m\u001b[43mt\u001b[49m\u001b[43m.\u001b[49m\u001b[43mwrites\u001b[49m\u001b[43m]\u001b[49m\u001b[43m,\u001b[49m\n\u001b[32m   2536\u001b[39m \u001b[43m    \u001b[49m\u001b[43mtimeout\u001b[49m\u001b[43m=\u001b[49m\u001b[38;5;28;43mself\u001b[39;49m\u001b[43m.\u001b[49m\u001b[43mstep_timeout\u001b[49m\u001b[43m,\u001b[49m\n\u001b[32m   2537\u001b[39m \u001b[43m    \u001b[49m\u001b[43mget_waiter\u001b[49m\u001b[43m=\u001b[49m\u001b[43mget_waiter\u001b[49m\u001b[43m,\u001b[49m\n\u001b[32m   2538\u001b[39m \u001b[43m    \u001b[49m\u001b[43mschedule_task\u001b[49m\u001b[43m=\u001b[49m\u001b[43mloop\u001b[49m\u001b[43m.\u001b[49m\u001b[43maccept_push\u001b[49m\u001b[43m,\u001b[49m\n\u001b[32m   2539\u001b[39m \u001b[43m\u001b[49m\u001b[43m)\u001b[49m\u001b[43m:\u001b[49m\n\u001b[32m   2540\u001b[39m \u001b[43m    \u001b[49m\u001b[38;5;66;43;03m# emit output\u001b[39;49;00m\n\u001b[32m   2541\u001b[39m \u001b[43m    \u001b[49m\u001b[38;5;28;43;01myield from\u001b[39;49;00m\u001b[43m \u001b[49m\u001b[43m_output\u001b[49m\u001b[43m(\u001b[49m\n\u001b[32m   2542\u001b[39m \u001b[43m        \u001b[49m\u001b[43mstream_mode\u001b[49m\u001b[43m,\u001b[49m\u001b[43m \u001b[49m\u001b[43mprint_mode\u001b[49m\u001b[43m,\u001b[49m\u001b[43m \u001b[49m\u001b[43msubgraphs\u001b[49m\u001b[43m,\u001b[49m\u001b[43m \u001b[49m\u001b[43mstream\u001b[49m\u001b[43m.\u001b[49m\u001b[43mget\u001b[49m\u001b[43m,\u001b[49m\u001b[43m \u001b[49m\u001b[43mqueue\u001b[49m\u001b[43m.\u001b[49m\u001b[43mEmpty\u001b[49m\n\u001b[32m   2543\u001b[39m \u001b[43m    \u001b[49m\u001b[43m)\u001b[49m\n\u001b[32m   2544\u001b[39m loop.after_tick()\n",
      "\u001b[36mFile \u001b[39m\u001b[32me:\\ANACONDA\\envs\\rag\\Lib\\site-packages\\langgraph\\pregel\\runner.py:162\u001b[39m, in \u001b[36mPregelRunner.tick\u001b[39m\u001b[34m(self, tasks, reraise, timeout, retry_policy, get_waiter, schedule_task)\u001b[39m\n\u001b[32m    160\u001b[39m t = tasks[\u001b[32m0\u001b[39m]\n\u001b[32m    161\u001b[39m \u001b[38;5;28;01mtry\u001b[39;00m:\n\u001b[32m--> \u001b[39m\u001b[32m162\u001b[39m     \u001b[43mrun_with_retry\u001b[49m\u001b[43m(\u001b[49m\n\u001b[32m    163\u001b[39m \u001b[43m        \u001b[49m\u001b[43mt\u001b[49m\u001b[43m,\u001b[49m\n\u001b[32m    164\u001b[39m \u001b[43m        \u001b[49m\u001b[43mretry_policy\u001b[49m\u001b[43m,\u001b[49m\n\u001b[32m    165\u001b[39m \u001b[43m        \u001b[49m\u001b[43mconfigurable\u001b[49m\u001b[43m=\u001b[49m\u001b[43m{\u001b[49m\n\u001b[32m    166\u001b[39m \u001b[43m            \u001b[49m\u001b[43mCONFIG_KEY_CALL\u001b[49m\u001b[43m:\u001b[49m\u001b[43m \u001b[49m\u001b[43mpartial\u001b[49m\u001b[43m(\u001b[49m\n\u001b[32m    167\u001b[39m \u001b[43m                \u001b[49m\u001b[43m_call\u001b[49m\u001b[43m,\u001b[49m\n\u001b[32m    168\u001b[39m \u001b[43m                \u001b[49m\u001b[43mweakref\u001b[49m\u001b[43m.\u001b[49m\u001b[43mref\u001b[49m\u001b[43m(\u001b[49m\u001b[43mt\u001b[49m\u001b[43m)\u001b[49m\u001b[43m,\u001b[49m\n\u001b[32m    169\u001b[39m \u001b[43m                \u001b[49m\u001b[43mretry_policy\u001b[49m\u001b[43m=\u001b[49m\u001b[43mretry_policy\u001b[49m\u001b[43m,\u001b[49m\n\u001b[32m    170\u001b[39m \u001b[43m                \u001b[49m\u001b[43mfutures\u001b[49m\u001b[43m=\u001b[49m\u001b[43mweakref\u001b[49m\u001b[43m.\u001b[49m\u001b[43mref\u001b[49m\u001b[43m(\u001b[49m\u001b[43mfutures\u001b[49m\u001b[43m)\u001b[49m\u001b[43m,\u001b[49m\n\u001b[32m    171\u001b[39m \u001b[43m                \u001b[49m\u001b[43mschedule_task\u001b[49m\u001b[43m=\u001b[49m\u001b[43mschedule_task\u001b[49m\u001b[43m,\u001b[49m\n\u001b[32m    172\u001b[39m \u001b[43m                \u001b[49m\u001b[43msubmit\u001b[49m\u001b[43m=\u001b[49m\u001b[38;5;28;43mself\u001b[39;49m\u001b[43m.\u001b[49m\u001b[43msubmit\u001b[49m\u001b[43m,\u001b[49m\n\u001b[32m    173\u001b[39m \u001b[43m            \u001b[49m\u001b[43m)\u001b[49m\u001b[43m,\u001b[49m\n\u001b[32m    174\u001b[39m \u001b[43m        \u001b[49m\u001b[43m}\u001b[49m\u001b[43m,\u001b[49m\n\u001b[32m    175\u001b[39m \u001b[43m    \u001b[49m\u001b[43m)\u001b[49m\n\u001b[32m    176\u001b[39m     \u001b[38;5;28mself\u001b[39m.commit(t, \u001b[38;5;28;01mNone\u001b[39;00m)\n\u001b[32m    177\u001b[39m \u001b[38;5;28;01mexcept\u001b[39;00m \u001b[38;5;167;01mException\u001b[39;00m \u001b[38;5;28;01mas\u001b[39;00m exc:\n",
      "\u001b[36mFile \u001b[39m\u001b[32me:\\ANACONDA\\envs\\rag\\Lib\\site-packages\\langgraph\\pregel\\retry.py:42\u001b[39m, in \u001b[36mrun_with_retry\u001b[39m\u001b[34m(task, retry_policy, configurable)\u001b[39m\n\u001b[32m     40\u001b[39m     task.writes.clear()\n\u001b[32m     41\u001b[39m     \u001b[38;5;66;03m# run the task\u001b[39;00m\n\u001b[32m---> \u001b[39m\u001b[32m42\u001b[39m     \u001b[38;5;28;01mreturn\u001b[39;00m \u001b[43mtask\u001b[49m\u001b[43m.\u001b[49m\u001b[43mproc\u001b[49m\u001b[43m.\u001b[49m\u001b[43minvoke\u001b[49m\u001b[43m(\u001b[49m\u001b[43mtask\u001b[49m\u001b[43m.\u001b[49m\u001b[43minput\u001b[49m\u001b[43m,\u001b[49m\u001b[43m \u001b[49m\u001b[43mconfig\u001b[49m\u001b[43m)\u001b[49m\n\u001b[32m     43\u001b[39m \u001b[38;5;28;01mexcept\u001b[39;00m ParentCommand \u001b[38;5;28;01mas\u001b[39;00m exc:\n\u001b[32m     44\u001b[39m     ns: \u001b[38;5;28mstr\u001b[39m = config[CONF][CONFIG_KEY_CHECKPOINT_NS]\n",
      "\u001b[36mFile \u001b[39m\u001b[32me:\\ANACONDA\\envs\\rag\\Lib\\site-packages\\langgraph\\utils\\runnable.py:623\u001b[39m, in \u001b[36mRunnableSeq.invoke\u001b[39m\u001b[34m(self, input, config, **kwargs)\u001b[39m\n\u001b[32m    621\u001b[39m     \u001b[38;5;66;03m# run in context\u001b[39;00m\n\u001b[32m    622\u001b[39m     \u001b[38;5;28;01mwith\u001b[39;00m set_config_context(config, run) \u001b[38;5;28;01mas\u001b[39;00m context:\n\u001b[32m--> \u001b[39m\u001b[32m623\u001b[39m         \u001b[38;5;28minput\u001b[39m = \u001b[43mcontext\u001b[49m\u001b[43m.\u001b[49m\u001b[43mrun\u001b[49m\u001b[43m(\u001b[49m\u001b[43mstep\u001b[49m\u001b[43m.\u001b[49m\u001b[43minvoke\u001b[49m\u001b[43m,\u001b[49m\u001b[43m \u001b[49m\u001b[38;5;28;43minput\u001b[39;49m\u001b[43m,\u001b[49m\u001b[43m \u001b[49m\u001b[43mconfig\u001b[49m\u001b[43m,\u001b[49m\u001b[43m \u001b[49m\u001b[43m*\u001b[49m\u001b[43m*\u001b[49m\u001b[43mkwargs\u001b[49m\u001b[43m)\u001b[49m\n\u001b[32m    624\u001b[39m \u001b[38;5;28;01melse\u001b[39;00m:\n\u001b[32m    625\u001b[39m     \u001b[38;5;28minput\u001b[39m = step.invoke(\u001b[38;5;28minput\u001b[39m, config)\n",
      "\u001b[36mFile \u001b[39m\u001b[32me:\\ANACONDA\\envs\\rag\\Lib\\site-packages\\langgraph\\utils\\runnable.py:377\u001b[39m, in \u001b[36mRunnableCallable.invoke\u001b[39m\u001b[34m(self, input, config, **kwargs)\u001b[39m\n\u001b[32m    375\u001b[39m         run_manager.on_chain_end(ret)\n\u001b[32m    376\u001b[39m \u001b[38;5;28;01melse\u001b[39;00m:\n\u001b[32m--> \u001b[39m\u001b[32m377\u001b[39m     ret = \u001b[38;5;28;43mself\u001b[39;49m\u001b[43m.\u001b[49m\u001b[43mfunc\u001b[49m\u001b[43m(\u001b[49m\u001b[43m*\u001b[49m\u001b[43margs\u001b[49m\u001b[43m,\u001b[49m\u001b[43m \u001b[49m\u001b[43m*\u001b[49m\u001b[43m*\u001b[49m\u001b[43mkwargs\u001b[49m\u001b[43m)\u001b[49m\n\u001b[32m    378\u001b[39m \u001b[38;5;28;01mif\u001b[39;00m \u001b[38;5;28mself\u001b[39m.recurse \u001b[38;5;129;01mand\u001b[39;00m \u001b[38;5;28misinstance\u001b[39m(ret, Runnable):\n\u001b[32m    379\u001b[39m     \u001b[38;5;28;01mreturn\u001b[39;00m ret.invoke(\u001b[38;5;28minput\u001b[39m, config)\n",
      "\u001b[36mCell\u001b[39m\u001b[36m \u001b[39m\u001b[32mIn[4]\u001b[39m\u001b[32m, line 44\u001b[39m, in \u001b[36mgenerate\u001b[39m\u001b[34m(state)\u001b[39m\n\u001b[32m     41\u001b[39m     \u001b[38;5;28;01mreturn\u001b[39;00m {\u001b[33m\"\u001b[39m\u001b[33manswer\u001b[39m\u001b[33m\"\u001b[39m: AnswerWithSources(answer=\u001b[33m\"\u001b[39m\u001b[33mNo se recuperó suficiente información para responder.\u001b[39m\u001b[33m\"\u001b[39m, sources=[])}\n\u001b[32m     43\u001b[39m docs_content = \u001b[33m\"\u001b[39m\u001b[38;5;130;01m\\n\u001b[39;00m\u001b[38;5;130;01m\\n\u001b[39;00m\u001b[33m\"\u001b[39m.join([doc.page_content \u001b[38;5;28;01mfor\u001b[39;00m doc \u001b[38;5;129;01min\u001b[39;00m context])\n\u001b[32m---> \u001b[39m\u001b[32m44\u001b[39m structured_llm = \u001b[43mllm\u001b[49m\u001b[43m.\u001b[49m\u001b[43mwith_structured_output\u001b[49m\u001b[43m(\u001b[49m\u001b[43mAnswerWithSources\u001b[49m\u001b[43m)\u001b[49m\n\u001b[32m     46\u001b[39m \u001b[38;5;28mprint\u001b[39m(\u001b[33m\"\u001b[39m\u001b[33mGenerando respuesta estructurada del LLM...\u001b[39m\u001b[33m\"\u001b[39m)\n\u001b[32m     47\u001b[39m messages = prompt.invoke({\u001b[33m\"\u001b[39m\u001b[33mquestion\u001b[39m\u001b[33m\"\u001b[39m: state.question, \u001b[33m\"\u001b[39m\u001b[33mcontext\u001b[39m\u001b[33m\"\u001b[39m: docs_content})\n",
      "\u001b[36mFile \u001b[39m\u001b[32me:\\ANACONDA\\envs\\rag\\Lib\\site-packages\\langchain_core\\language_models\\base.py:242\u001b[39m, in \u001b[36mBaseLanguageModel.with_structured_output\u001b[39m\u001b[34m(self, schema, **kwargs)\u001b[39m\n\u001b[32m    239\u001b[39m \u001b[38;5;250m\u001b[39m\u001b[33;03m\"\"\"Not implemented on this class.\"\"\"\u001b[39;00m\n\u001b[32m    240\u001b[39m \u001b[38;5;66;03m# Implement this on child class if there is a way of steering the model to\u001b[39;00m\n\u001b[32m    241\u001b[39m \u001b[38;5;66;03m# generate responses that match a given schema.\u001b[39;00m\n\u001b[32m--> \u001b[39m\u001b[32m242\u001b[39m \u001b[38;5;28;01mraise\u001b[39;00m \u001b[38;5;167;01mNotImplementedError\u001b[39;00m\n",
      "\u001b[31mNotImplementedError\u001b[39m: ",
      "During task with name 'generate' and id '13bfe86b-affb-a9de-b457-3a2b8024ad57'"
     ]
    }
   ],
   "source": [
    "result = graph.invoke({\"question\": \"Dame información sobre la fortificación ibérica de Giribaile\"})\n",
    "\n",
    "print(f'Context: {result[\"context\"]}\\n\\n')\n",
    "print(f'Answer: {result[\"answer\"]}')"
   ]
  },
  {
   "cell_type": "code",
   "execution_count": 51,
   "id": "4b666a0d",
   "metadata": {},
   "outputs": [
    {
     "name": "stdout",
     "output_type": "stream",
     "text": [
      "--- Ejecutando nodo: retrieve ---\n",
      "Buscando documentos para la pregunta: 'Dame información sobre la fortificación ibérica de Giribaile'\n"
     ]
    },
    {
     "name": "stderr",
     "output_type": "stream",
     "text": [
      "2025-07-17 14:56:59,225 - INFO - HTTP Request: POST http://localhost:6333/collections/idearq/points/query \"HTTP/1.1 500 Internal Server Error\"\n"
     ]
    },
    {
     "ename": "UnexpectedResponse",
     "evalue": "Unexpected Response: 500 (Internal Server Error)\nRaw response content:\nb'{\"status\":{\"error\":\"Service internal error: 1 of 1 read operations failed:\\\\n  Service internal error: task 181 panicked with message \\\\\"called `Result::unwrap()` on an `Err` value: OutputTooSmall {  ...'",
     "output_type": "error",
     "traceback": [
      "\u001b[31m---------------------------------------------------------------------------\u001b[39m",
      "\u001b[31mUnexpectedResponse\u001b[39m                        Traceback (most recent call last)",
      "\u001b[36mCell\u001b[39m\u001b[36m \u001b[39m\u001b[32mIn[51]\u001b[39m\u001b[32m, line 3\u001b[39m\n\u001b[32m      1\u001b[39m \u001b[38;5;28;01mimport\u001b[39;00m\u001b[38;5;250m \u001b[39m\u001b[34;01mjson\u001b[39;00m\n\u001b[32m      2\u001b[39m \u001b[38;5;66;03m# NUEVA MANERA\u001b[39;00m\n\u001b[32m----> \u001b[39m\u001b[32m3\u001b[39m result = \u001b[43mgraph\u001b[49m\u001b[43m.\u001b[49m\u001b[43minvoke\u001b[49m\u001b[43m(\u001b[49m\u001b[43m{\u001b[49m\u001b[33;43m\"\u001b[39;49m\u001b[33;43mquestion\u001b[39;49m\u001b[33;43m\"\u001b[39;49m\u001b[43m:\u001b[49m\u001b[43m \u001b[49m\u001b[33;43m\"\u001b[39;49m\u001b[33;43mDame información sobre la fortificación ibérica de Giribaile\u001b[39;49m\u001b[33;43m\"\u001b[39;49m\u001b[43m}\u001b[49m\u001b[43m)\u001b[49m\n\u001b[32m      4\u001b[39m \u001b[38;5;28mprint\u001b[39m(json.dumps(result[\u001b[33m\"\u001b[39m\u001b[33manswer\u001b[39m\u001b[33m\"\u001b[39m], indent=\u001b[32m2\u001b[39m))\n",
      "\u001b[36mFile \u001b[39m\u001b[32me:\\ANACONDA\\envs\\rag\\Lib\\site-packages\\langgraph\\pregel\\__init__.py:2844\u001b[39m, in \u001b[36mPregel.invoke\u001b[39m\u001b[34m(self, input, config, stream_mode, print_mode, output_keys, interrupt_before, interrupt_after, **kwargs)\u001b[39m\n\u001b[32m   2841\u001b[39m chunks: \u001b[38;5;28mlist\u001b[39m[\u001b[38;5;28mdict\u001b[39m[\u001b[38;5;28mstr\u001b[39m, Any] | Any] = []\n\u001b[32m   2842\u001b[39m interrupts: \u001b[38;5;28mlist\u001b[39m[Interrupt] = []\n\u001b[32m-> \u001b[39m\u001b[32m2844\u001b[39m \u001b[43m\u001b[49m\u001b[38;5;28;43;01mfor\u001b[39;49;00m\u001b[43m \u001b[49m\u001b[43mchunk\u001b[49m\u001b[43m \u001b[49m\u001b[38;5;129;43;01min\u001b[39;49;00m\u001b[43m \u001b[49m\u001b[38;5;28;43mself\u001b[39;49m\u001b[43m.\u001b[49m\u001b[43mstream\u001b[49m\u001b[43m(\u001b[49m\n\u001b[32m   2845\u001b[39m \u001b[43m    \u001b[49m\u001b[38;5;28;43minput\u001b[39;49m\u001b[43m,\u001b[49m\n\u001b[32m   2846\u001b[39m \u001b[43m    \u001b[49m\u001b[43mconfig\u001b[49m\u001b[43m,\u001b[49m\n\u001b[32m   2847\u001b[39m \u001b[43m    \u001b[49m\u001b[43mstream_mode\u001b[49m\u001b[43m=\u001b[49m\u001b[43m[\u001b[49m\u001b[33;43m\"\u001b[39;49m\u001b[33;43mupdates\u001b[39;49m\u001b[33;43m\"\u001b[39;49m\u001b[43m,\u001b[49m\u001b[43m \u001b[49m\u001b[33;43m\"\u001b[39;49m\u001b[33;43mvalues\u001b[39;49m\u001b[33;43m\"\u001b[39;49m\u001b[43m]\u001b[49m\n\u001b[32m   2848\u001b[39m \u001b[43m    \u001b[49m\u001b[38;5;28;43;01mif\u001b[39;49;00m\u001b[43m \u001b[49m\u001b[43mstream_mode\u001b[49m\u001b[43m \u001b[49m\u001b[43m==\u001b[49m\u001b[43m \u001b[49m\u001b[33;43m\"\u001b[39;49m\u001b[33;43mvalues\u001b[39;49m\u001b[33;43m\"\u001b[39;49m\n\u001b[32m   2849\u001b[39m \u001b[43m    \u001b[49m\u001b[38;5;28;43;01melse\u001b[39;49;00m\u001b[43m \u001b[49m\u001b[43mstream_mode\u001b[49m\u001b[43m,\u001b[49m\n\u001b[32m   2850\u001b[39m \u001b[43m    \u001b[49m\u001b[43mprint_mode\u001b[49m\u001b[43m=\u001b[49m\u001b[43mprint_mode\u001b[49m\u001b[43m,\u001b[49m\n\u001b[32m   2851\u001b[39m \u001b[43m    \u001b[49m\u001b[43moutput_keys\u001b[49m\u001b[43m=\u001b[49m\u001b[43moutput_keys\u001b[49m\u001b[43m,\u001b[49m\n\u001b[32m   2852\u001b[39m \u001b[43m    \u001b[49m\u001b[43minterrupt_before\u001b[49m\u001b[43m=\u001b[49m\u001b[43minterrupt_before\u001b[49m\u001b[43m,\u001b[49m\n\u001b[32m   2853\u001b[39m \u001b[43m    \u001b[49m\u001b[43minterrupt_after\u001b[49m\u001b[43m=\u001b[49m\u001b[43minterrupt_after\u001b[49m\u001b[43m,\u001b[49m\n\u001b[32m   2854\u001b[39m \u001b[43m    \u001b[49m\u001b[43m*\u001b[49m\u001b[43m*\u001b[49m\u001b[43mkwargs\u001b[49m\u001b[43m,\u001b[49m\n\u001b[32m   2855\u001b[39m \u001b[43m\u001b[49m\u001b[43m)\u001b[49m\u001b[43m:\u001b[49m\n\u001b[32m   2856\u001b[39m \u001b[43m    \u001b[49m\u001b[38;5;28;43;01mif\u001b[39;49;00m\u001b[43m \u001b[49m\u001b[43mstream_mode\u001b[49m\u001b[43m \u001b[49m\u001b[43m==\u001b[49m\u001b[43m \u001b[49m\u001b[33;43m\"\u001b[39;49m\u001b[33;43mvalues\u001b[39;49m\u001b[33;43m\"\u001b[39;49m\u001b[43m:\u001b[49m\n\u001b[32m   2857\u001b[39m \u001b[43m        \u001b[49m\u001b[38;5;28;43;01mif\u001b[39;49;00m\u001b[43m \u001b[49m\u001b[38;5;28;43mlen\u001b[39;49m\u001b[43m(\u001b[49m\u001b[43mchunk\u001b[49m\u001b[43m)\u001b[49m\u001b[43m \u001b[49m\u001b[43m==\u001b[49m\u001b[43m \u001b[49m\u001b[32;43m2\u001b[39;49m\u001b[43m:\u001b[49m\n",
      "\u001b[36mFile \u001b[39m\u001b[32me:\\ANACONDA\\envs\\rag\\Lib\\site-packages\\langgraph\\pregel\\__init__.py:2534\u001b[39m, in \u001b[36mPregel.stream\u001b[39m\u001b[34m(self, input, config, stream_mode, print_mode, output_keys, interrupt_before, interrupt_after, checkpoint_during, debug, subgraphs)\u001b[39m\n\u001b[32m   2532\u001b[39m \u001b[38;5;28;01mfor\u001b[39;00m task \u001b[38;5;129;01min\u001b[39;00m loop.match_cached_writes():\n\u001b[32m   2533\u001b[39m     loop.output_writes(task.id, task.writes, cached=\u001b[38;5;28;01mTrue\u001b[39;00m)\n\u001b[32m-> \u001b[39m\u001b[32m2534\u001b[39m \u001b[43m\u001b[49m\u001b[38;5;28;43;01mfor\u001b[39;49;00m\u001b[43m \u001b[49m\u001b[43m_\u001b[49m\u001b[43m \u001b[49m\u001b[38;5;129;43;01min\u001b[39;49;00m\u001b[43m \u001b[49m\u001b[43mrunner\u001b[49m\u001b[43m.\u001b[49m\u001b[43mtick\u001b[49m\u001b[43m(\u001b[49m\n\u001b[32m   2535\u001b[39m \u001b[43m    \u001b[49m\u001b[43m[\u001b[49m\u001b[43mt\u001b[49m\u001b[43m \u001b[49m\u001b[38;5;28;43;01mfor\u001b[39;49;00m\u001b[43m \u001b[49m\u001b[43mt\u001b[49m\u001b[43m \u001b[49m\u001b[38;5;129;43;01min\u001b[39;49;00m\u001b[43m \u001b[49m\u001b[43mloop\u001b[49m\u001b[43m.\u001b[49m\u001b[43mtasks\u001b[49m\u001b[43m.\u001b[49m\u001b[43mvalues\u001b[49m\u001b[43m(\u001b[49m\u001b[43m)\u001b[49m\u001b[43m \u001b[49m\u001b[38;5;28;43;01mif\u001b[39;49;00m\u001b[43m \u001b[49m\u001b[38;5;129;43;01mnot\u001b[39;49;00m\u001b[43m \u001b[49m\u001b[43mt\u001b[49m\u001b[43m.\u001b[49m\u001b[43mwrites\u001b[49m\u001b[43m]\u001b[49m\u001b[43m,\u001b[49m\n\u001b[32m   2536\u001b[39m \u001b[43m    \u001b[49m\u001b[43mtimeout\u001b[49m\u001b[43m=\u001b[49m\u001b[38;5;28;43mself\u001b[39;49m\u001b[43m.\u001b[49m\u001b[43mstep_timeout\u001b[49m\u001b[43m,\u001b[49m\n\u001b[32m   2537\u001b[39m \u001b[43m    \u001b[49m\u001b[43mget_waiter\u001b[49m\u001b[43m=\u001b[49m\u001b[43mget_waiter\u001b[49m\u001b[43m,\u001b[49m\n\u001b[32m   2538\u001b[39m \u001b[43m    \u001b[49m\u001b[43mschedule_task\u001b[49m\u001b[43m=\u001b[49m\u001b[43mloop\u001b[49m\u001b[43m.\u001b[49m\u001b[43maccept_push\u001b[49m\u001b[43m,\u001b[49m\n\u001b[32m   2539\u001b[39m \u001b[43m\u001b[49m\u001b[43m)\u001b[49m\u001b[43m:\u001b[49m\n\u001b[32m   2540\u001b[39m \u001b[43m    \u001b[49m\u001b[38;5;66;43;03m# emit output\u001b[39;49;00m\n\u001b[32m   2541\u001b[39m \u001b[43m    \u001b[49m\u001b[38;5;28;43;01myield from\u001b[39;49;00m\u001b[43m \u001b[49m\u001b[43m_output\u001b[49m\u001b[43m(\u001b[49m\n\u001b[32m   2542\u001b[39m \u001b[43m        \u001b[49m\u001b[43mstream_mode\u001b[49m\u001b[43m,\u001b[49m\u001b[43m \u001b[49m\u001b[43mprint_mode\u001b[49m\u001b[43m,\u001b[49m\u001b[43m \u001b[49m\u001b[43msubgraphs\u001b[49m\u001b[43m,\u001b[49m\u001b[43m \u001b[49m\u001b[43mstream\u001b[49m\u001b[43m.\u001b[49m\u001b[43mget\u001b[49m\u001b[43m,\u001b[49m\u001b[43m \u001b[49m\u001b[43mqueue\u001b[49m\u001b[43m.\u001b[49m\u001b[43mEmpty\u001b[49m\n\u001b[32m   2543\u001b[39m \u001b[43m    \u001b[49m\u001b[43m)\u001b[49m\n\u001b[32m   2544\u001b[39m loop.after_tick()\n",
      "\u001b[36mFile \u001b[39m\u001b[32me:\\ANACONDA\\envs\\rag\\Lib\\site-packages\\langgraph\\pregel\\runner.py:162\u001b[39m, in \u001b[36mPregelRunner.tick\u001b[39m\u001b[34m(self, tasks, reraise, timeout, retry_policy, get_waiter, schedule_task)\u001b[39m\n\u001b[32m    160\u001b[39m t = tasks[\u001b[32m0\u001b[39m]\n\u001b[32m    161\u001b[39m \u001b[38;5;28;01mtry\u001b[39;00m:\n\u001b[32m--> \u001b[39m\u001b[32m162\u001b[39m     \u001b[43mrun_with_retry\u001b[49m\u001b[43m(\u001b[49m\n\u001b[32m    163\u001b[39m \u001b[43m        \u001b[49m\u001b[43mt\u001b[49m\u001b[43m,\u001b[49m\n\u001b[32m    164\u001b[39m \u001b[43m        \u001b[49m\u001b[43mretry_policy\u001b[49m\u001b[43m,\u001b[49m\n\u001b[32m    165\u001b[39m \u001b[43m        \u001b[49m\u001b[43mconfigurable\u001b[49m\u001b[43m=\u001b[49m\u001b[43m{\u001b[49m\n\u001b[32m    166\u001b[39m \u001b[43m            \u001b[49m\u001b[43mCONFIG_KEY_CALL\u001b[49m\u001b[43m:\u001b[49m\u001b[43m \u001b[49m\u001b[43mpartial\u001b[49m\u001b[43m(\u001b[49m\n\u001b[32m    167\u001b[39m \u001b[43m                \u001b[49m\u001b[43m_call\u001b[49m\u001b[43m,\u001b[49m\n\u001b[32m    168\u001b[39m \u001b[43m                \u001b[49m\u001b[43mweakref\u001b[49m\u001b[43m.\u001b[49m\u001b[43mref\u001b[49m\u001b[43m(\u001b[49m\u001b[43mt\u001b[49m\u001b[43m)\u001b[49m\u001b[43m,\u001b[49m\n\u001b[32m    169\u001b[39m \u001b[43m                \u001b[49m\u001b[43mretry_policy\u001b[49m\u001b[43m=\u001b[49m\u001b[43mretry_policy\u001b[49m\u001b[43m,\u001b[49m\n\u001b[32m    170\u001b[39m \u001b[43m                \u001b[49m\u001b[43mfutures\u001b[49m\u001b[43m=\u001b[49m\u001b[43mweakref\u001b[49m\u001b[43m.\u001b[49m\u001b[43mref\u001b[49m\u001b[43m(\u001b[49m\u001b[43mfutures\u001b[49m\u001b[43m)\u001b[49m\u001b[43m,\u001b[49m\n\u001b[32m    171\u001b[39m \u001b[43m                \u001b[49m\u001b[43mschedule_task\u001b[49m\u001b[43m=\u001b[49m\u001b[43mschedule_task\u001b[49m\u001b[43m,\u001b[49m\n\u001b[32m    172\u001b[39m \u001b[43m                \u001b[49m\u001b[43msubmit\u001b[49m\u001b[43m=\u001b[49m\u001b[38;5;28;43mself\u001b[39;49m\u001b[43m.\u001b[49m\u001b[43msubmit\u001b[49m\u001b[43m,\u001b[49m\n\u001b[32m    173\u001b[39m \u001b[43m            \u001b[49m\u001b[43m)\u001b[49m\u001b[43m,\u001b[49m\n\u001b[32m    174\u001b[39m \u001b[43m        \u001b[49m\u001b[43m}\u001b[49m\u001b[43m,\u001b[49m\n\u001b[32m    175\u001b[39m \u001b[43m    \u001b[49m\u001b[43m)\u001b[49m\n\u001b[32m    176\u001b[39m     \u001b[38;5;28mself\u001b[39m.commit(t, \u001b[38;5;28;01mNone\u001b[39;00m)\n\u001b[32m    177\u001b[39m \u001b[38;5;28;01mexcept\u001b[39;00m \u001b[38;5;167;01mException\u001b[39;00m \u001b[38;5;28;01mas\u001b[39;00m exc:\n",
      "\u001b[36mFile \u001b[39m\u001b[32me:\\ANACONDA\\envs\\rag\\Lib\\site-packages\\langgraph\\pregel\\retry.py:42\u001b[39m, in \u001b[36mrun_with_retry\u001b[39m\u001b[34m(task, retry_policy, configurable)\u001b[39m\n\u001b[32m     40\u001b[39m     task.writes.clear()\n\u001b[32m     41\u001b[39m     \u001b[38;5;66;03m# run the task\u001b[39;00m\n\u001b[32m---> \u001b[39m\u001b[32m42\u001b[39m     \u001b[38;5;28;01mreturn\u001b[39;00m \u001b[43mtask\u001b[49m\u001b[43m.\u001b[49m\u001b[43mproc\u001b[49m\u001b[43m.\u001b[49m\u001b[43minvoke\u001b[49m\u001b[43m(\u001b[49m\u001b[43mtask\u001b[49m\u001b[43m.\u001b[49m\u001b[43minput\u001b[49m\u001b[43m,\u001b[49m\u001b[43m \u001b[49m\u001b[43mconfig\u001b[49m\u001b[43m)\u001b[49m\n\u001b[32m     43\u001b[39m \u001b[38;5;28;01mexcept\u001b[39;00m ParentCommand \u001b[38;5;28;01mas\u001b[39;00m exc:\n\u001b[32m     44\u001b[39m     ns: \u001b[38;5;28mstr\u001b[39m = config[CONF][CONFIG_KEY_CHECKPOINT_NS]\n",
      "\u001b[36mFile \u001b[39m\u001b[32me:\\ANACONDA\\envs\\rag\\Lib\\site-packages\\langgraph\\utils\\runnable.py:623\u001b[39m, in \u001b[36mRunnableSeq.invoke\u001b[39m\u001b[34m(self, input, config, **kwargs)\u001b[39m\n\u001b[32m    621\u001b[39m     \u001b[38;5;66;03m# run in context\u001b[39;00m\n\u001b[32m    622\u001b[39m     \u001b[38;5;28;01mwith\u001b[39;00m set_config_context(config, run) \u001b[38;5;28;01mas\u001b[39;00m context:\n\u001b[32m--> \u001b[39m\u001b[32m623\u001b[39m         \u001b[38;5;28minput\u001b[39m = \u001b[43mcontext\u001b[49m\u001b[43m.\u001b[49m\u001b[43mrun\u001b[49m\u001b[43m(\u001b[49m\u001b[43mstep\u001b[49m\u001b[43m.\u001b[49m\u001b[43minvoke\u001b[49m\u001b[43m,\u001b[49m\u001b[43m \u001b[49m\u001b[38;5;28;43minput\u001b[39;49m\u001b[43m,\u001b[49m\u001b[43m \u001b[49m\u001b[43mconfig\u001b[49m\u001b[43m,\u001b[49m\u001b[43m \u001b[49m\u001b[43m*\u001b[49m\u001b[43m*\u001b[49m\u001b[43mkwargs\u001b[49m\u001b[43m)\u001b[49m\n\u001b[32m    624\u001b[39m \u001b[38;5;28;01melse\u001b[39;00m:\n\u001b[32m    625\u001b[39m     \u001b[38;5;28minput\u001b[39m = step.invoke(\u001b[38;5;28minput\u001b[39m, config)\n",
      "\u001b[36mFile \u001b[39m\u001b[32me:\\ANACONDA\\envs\\rag\\Lib\\site-packages\\langgraph\\utils\\runnable.py:377\u001b[39m, in \u001b[36mRunnableCallable.invoke\u001b[39m\u001b[34m(self, input, config, **kwargs)\u001b[39m\n\u001b[32m    375\u001b[39m         run_manager.on_chain_end(ret)\n\u001b[32m    376\u001b[39m \u001b[38;5;28;01melse\u001b[39;00m:\n\u001b[32m--> \u001b[39m\u001b[32m377\u001b[39m     ret = \u001b[38;5;28;43mself\u001b[39;49m\u001b[43m.\u001b[49m\u001b[43mfunc\u001b[49m\u001b[43m(\u001b[49m\u001b[43m*\u001b[49m\u001b[43margs\u001b[49m\u001b[43m,\u001b[49m\u001b[43m \u001b[49m\u001b[43m*\u001b[49m\u001b[43m*\u001b[49m\u001b[43mkwargs\u001b[49m\u001b[43m)\u001b[49m\n\u001b[32m    378\u001b[39m \u001b[38;5;28;01mif\u001b[39;00m \u001b[38;5;28mself\u001b[39m.recurse \u001b[38;5;129;01mand\u001b[39;00m \u001b[38;5;28misinstance\u001b[39m(ret, Runnable):\n\u001b[32m    379\u001b[39m     \u001b[38;5;28;01mreturn\u001b[39;00m ret.invoke(\u001b[38;5;28minput\u001b[39m, config)\n",
      "\u001b[36mCell\u001b[39m\u001b[36m \u001b[39m\u001b[32mIn[47]\u001b[39m\u001b[32m, line 10\u001b[39m, in \u001b[36mretrieve\u001b[39m\u001b[34m(state)\u001b[39m\n\u001b[32m      7\u001b[39m question = state.question\n\u001b[32m      8\u001b[39m \u001b[38;5;28mprint\u001b[39m(\u001b[33mf\u001b[39m\u001b[33m\"\u001b[39m\u001b[33mBuscando documentos para la pregunta: \u001b[39m\u001b[33m'\u001b[39m\u001b[38;5;132;01m{\u001b[39;00mquestion\u001b[38;5;132;01m}\u001b[39;00m\u001b[33m'\u001b[39m\u001b[33m\"\u001b[39m)\n\u001b[32m---> \u001b[39m\u001b[32m10\u001b[39m retrieved_docs_with_scores = \u001b[43mvector_store\u001b[49m\u001b[43m.\u001b[49m\u001b[43msimilarity_search_with_score\u001b[49m\u001b[43m(\u001b[49m\n\u001b[32m     11\u001b[39m \u001b[43m    \u001b[49m\u001b[43mquestion\u001b[49m\u001b[43m,\u001b[49m\u001b[43m \u001b[49m\n\u001b[32m     12\u001b[39m \u001b[43m    \u001b[49m\u001b[43mk\u001b[49m\u001b[43m=\u001b[49m\u001b[32;43m6\u001b[39;49m\n\u001b[32m     13\u001b[39m \u001b[43m\u001b[49m\u001b[43m)\u001b[49m\n\u001b[32m     15\u001b[39m \u001b[38;5;28;01mif\u001b[39;00m \u001b[38;5;129;01mnot\u001b[39;00m retrieved_docs_with_scores:\n\u001b[32m     16\u001b[39m     \u001b[38;5;28mprint\u001b[39m(\u001b[33m\"\u001b[39m\u001b[33mADVERTENCIA: No se encontraron documentos relevantes\u001b[39m\u001b[33m\"\u001b[39m, file=sys.stderr)\n",
      "\u001b[36mFile \u001b[39m\u001b[32me:\\ANACONDA\\envs\\rag\\Lib\\site-packages\\langchain_qdrant\\qdrant.py:512\u001b[39m, in \u001b[36mQdrantVectorStore.similarity_search_with_score\u001b[39m\u001b[34m(self, query, k, filter, search_params, offset, score_threshold, consistency, hybrid_fusion, **kwargs)\u001b[39m\n\u001b[32m    510\u001b[39m \u001b[38;5;28;01mif\u001b[39;00m \u001b[38;5;28mself\u001b[39m.retrieval_mode == RetrievalMode.DENSE:\n\u001b[32m    511\u001b[39m     query_dense_embedding = \u001b[38;5;28mself\u001b[39m.embeddings.embed_query(query)\n\u001b[32m--> \u001b[39m\u001b[32m512\u001b[39m     results = \u001b[38;5;28;43mself\u001b[39;49m\u001b[43m.\u001b[49m\u001b[43mclient\u001b[49m\u001b[43m.\u001b[49m\u001b[43mquery_points\u001b[49m\u001b[43m(\u001b[49m\n\u001b[32m    513\u001b[39m \u001b[43m        \u001b[49m\u001b[43mquery\u001b[49m\u001b[43m=\u001b[49m\u001b[43mquery_dense_embedding\u001b[49m\u001b[43m,\u001b[49m\n\u001b[32m    514\u001b[39m \u001b[43m        \u001b[49m\u001b[43musing\u001b[49m\u001b[43m=\u001b[49m\u001b[38;5;28;43mself\u001b[39;49m\u001b[43m.\u001b[49m\u001b[43mvector_name\u001b[49m\u001b[43m,\u001b[49m\n\u001b[32m    515\u001b[39m \u001b[43m        \u001b[49m\u001b[43m*\u001b[49m\u001b[43m*\u001b[49m\u001b[43mquery_options\u001b[49m\u001b[43m,\u001b[49m\n\u001b[32m    516\u001b[39m \u001b[43m    \u001b[49m\u001b[43m)\u001b[49m.points\n\u001b[32m    518\u001b[39m \u001b[38;5;28;01melif\u001b[39;00m \u001b[38;5;28mself\u001b[39m.retrieval_mode == RetrievalMode.SPARSE:\n\u001b[32m    519\u001b[39m     query_sparse_embedding = \u001b[38;5;28mself\u001b[39m.sparse_embeddings.embed_query(query)\n",
      "\u001b[36mFile \u001b[39m\u001b[32me:\\ANACONDA\\envs\\rag\\Lib\\site-packages\\qdrant_client\\qdrant_client.py:593\u001b[39m, in \u001b[36mQdrantClient.query_points\u001b[39m\u001b[34m(self, collection_name, query, using, prefetch, query_filter, search_params, limit, offset, with_payload, with_vectors, score_threshold, lookup_from, consistency, shard_key_selector, timeout, **kwargs)\u001b[39m\n\u001b[32m    578\u001b[39m         \u001b[38;5;28;01melse\u001b[39;00m:\n\u001b[32m    579\u001b[39m             prefetch = (\n\u001b[32m    580\u001b[39m                 \u001b[38;5;28mnext\u001b[39m(\n\u001b[32m    581\u001b[39m                     \u001b[38;5;28miter\u001b[39m(\n\u001b[32m   (...)\u001b[39m\u001b[32m    590\u001b[39m                 \u001b[38;5;28;01melse\u001b[39;00m \u001b[38;5;28;01mNone\u001b[39;00m\n\u001b[32m    591\u001b[39m             )\n\u001b[32m--> \u001b[39m\u001b[32m593\u001b[39m \u001b[38;5;28;01mreturn\u001b[39;00m \u001b[38;5;28;43mself\u001b[39;49m\u001b[43m.\u001b[49m\u001b[43m_client\u001b[49m\u001b[43m.\u001b[49m\u001b[43mquery_points\u001b[49m\u001b[43m(\u001b[49m\n\u001b[32m    594\u001b[39m \u001b[43m    \u001b[49m\u001b[43mcollection_name\u001b[49m\u001b[43m=\u001b[49m\u001b[43mcollection_name\u001b[49m\u001b[43m,\u001b[49m\n\u001b[32m    595\u001b[39m \u001b[43m    \u001b[49m\u001b[43mquery\u001b[49m\u001b[43m=\u001b[49m\u001b[43mquery\u001b[49m\u001b[43m,\u001b[49m\n\u001b[32m    596\u001b[39m \u001b[43m    \u001b[49m\u001b[43mprefetch\u001b[49m\u001b[43m=\u001b[49m\u001b[43mprefetch\u001b[49m\u001b[43m,\u001b[49m\n\u001b[32m    597\u001b[39m \u001b[43m    \u001b[49m\u001b[43mquery_filter\u001b[49m\u001b[43m=\u001b[49m\u001b[43mquery_filter\u001b[49m\u001b[43m,\u001b[49m\n\u001b[32m    598\u001b[39m \u001b[43m    \u001b[49m\u001b[43msearch_params\u001b[49m\u001b[43m=\u001b[49m\u001b[43msearch_params\u001b[49m\u001b[43m,\u001b[49m\n\u001b[32m    599\u001b[39m \u001b[43m    \u001b[49m\u001b[43mlimit\u001b[49m\u001b[43m=\u001b[49m\u001b[43mlimit\u001b[49m\u001b[43m,\u001b[49m\n\u001b[32m    600\u001b[39m \u001b[43m    \u001b[49m\u001b[43moffset\u001b[49m\u001b[43m=\u001b[49m\u001b[43moffset\u001b[49m\u001b[43m,\u001b[49m\n\u001b[32m    601\u001b[39m \u001b[43m    \u001b[49m\u001b[43mwith_payload\u001b[49m\u001b[43m=\u001b[49m\u001b[43mwith_payload\u001b[49m\u001b[43m,\u001b[49m\n\u001b[32m    602\u001b[39m \u001b[43m    \u001b[49m\u001b[43mwith_vectors\u001b[49m\u001b[43m=\u001b[49m\u001b[43mwith_vectors\u001b[49m\u001b[43m,\u001b[49m\n\u001b[32m    603\u001b[39m \u001b[43m    \u001b[49m\u001b[43mscore_threshold\u001b[49m\u001b[43m=\u001b[49m\u001b[43mscore_threshold\u001b[49m\u001b[43m,\u001b[49m\n\u001b[32m    604\u001b[39m \u001b[43m    \u001b[49m\u001b[43musing\u001b[49m\u001b[43m=\u001b[49m\u001b[43musing\u001b[49m\u001b[43m,\u001b[49m\n\u001b[32m    605\u001b[39m \u001b[43m    \u001b[49m\u001b[43mlookup_from\u001b[49m\u001b[43m=\u001b[49m\u001b[43mlookup_from\u001b[49m\u001b[43m,\u001b[49m\n\u001b[32m    606\u001b[39m \u001b[43m    \u001b[49m\u001b[43mconsistency\u001b[49m\u001b[43m=\u001b[49m\u001b[43mconsistency\u001b[49m\u001b[43m,\u001b[49m\n\u001b[32m    607\u001b[39m \u001b[43m    \u001b[49m\u001b[43mshard_key_selector\u001b[49m\u001b[43m=\u001b[49m\u001b[43mshard_key_selector\u001b[49m\u001b[43m,\u001b[49m\n\u001b[32m    608\u001b[39m \u001b[43m    \u001b[49m\u001b[43mtimeout\u001b[49m\u001b[43m=\u001b[49m\u001b[43mtimeout\u001b[49m\u001b[43m,\u001b[49m\n\u001b[32m    609\u001b[39m \u001b[43m    \u001b[49m\u001b[43m*\u001b[49m\u001b[43m*\u001b[49m\u001b[43mkwargs\u001b[49m\u001b[43m,\u001b[49m\n\u001b[32m    610\u001b[39m \u001b[43m\u001b[49m\u001b[43m)\u001b[49m\n",
      "\u001b[36mFile \u001b[39m\u001b[32me:\\ANACONDA\\envs\\rag\\Lib\\site-packages\\qdrant_client\\qdrant_remote.py:673\u001b[39m, in \u001b[36mQdrantRemote.query_points\u001b[39m\u001b[34m(self, collection_name, query, using, prefetch, query_filter, search_params, limit, offset, with_payload, with_vectors, score_threshold, lookup_from, consistency, shard_key_selector, timeout, **kwargs)\u001b[39m\n\u001b[32m    656\u001b[39m     lookup_from = GrpcToRest.convert_lookup_location(lookup_from)\n\u001b[32m    658\u001b[39m query_request = models.QueryRequest(\n\u001b[32m    659\u001b[39m     shard_key=shard_key_selector,\n\u001b[32m    660\u001b[39m     prefetch=prefetch,\n\u001b[32m   (...)\u001b[39m\u001b[32m    670\u001b[39m     lookup_from=lookup_from,\n\u001b[32m    671\u001b[39m )\n\u001b[32m--> \u001b[39m\u001b[32m673\u001b[39m query_result = \u001b[38;5;28;43mself\u001b[39;49m\u001b[43m.\u001b[49m\u001b[43mhttp\u001b[49m\u001b[43m.\u001b[49m\u001b[43msearch_api\u001b[49m\u001b[43m.\u001b[49m\u001b[43mquery_points\u001b[49m\u001b[43m(\u001b[49m\n\u001b[32m    674\u001b[39m \u001b[43m    \u001b[49m\u001b[43mcollection_name\u001b[49m\u001b[43m=\u001b[49m\u001b[43mcollection_name\u001b[49m\u001b[43m,\u001b[49m\n\u001b[32m    675\u001b[39m \u001b[43m    \u001b[49m\u001b[43mconsistency\u001b[49m\u001b[43m=\u001b[49m\u001b[43mconsistency\u001b[49m\u001b[43m,\u001b[49m\n\u001b[32m    676\u001b[39m \u001b[43m    \u001b[49m\u001b[43mtimeout\u001b[49m\u001b[43m=\u001b[49m\u001b[43mtimeout\u001b[49m\u001b[43m,\u001b[49m\n\u001b[32m    677\u001b[39m \u001b[43m    \u001b[49m\u001b[43mquery_request\u001b[49m\u001b[43m=\u001b[49m\u001b[43mquery_request\u001b[49m\u001b[43m,\u001b[49m\n\u001b[32m    678\u001b[39m \u001b[43m\u001b[49m\u001b[43m)\u001b[49m\n\u001b[32m    680\u001b[39m result: Optional[models.QueryResponse] = query_result.result\n\u001b[32m    681\u001b[39m \u001b[38;5;28;01massert\u001b[39;00m result \u001b[38;5;129;01mis\u001b[39;00m \u001b[38;5;129;01mnot\u001b[39;00m \u001b[38;5;28;01mNone\u001b[39;00m, \u001b[33m\"\u001b[39m\u001b[33mSearch returned None\u001b[39m\u001b[33m\"\u001b[39m\n",
      "\u001b[36mFile \u001b[39m\u001b[32me:\\ANACONDA\\envs\\rag\\Lib\\site-packages\\qdrant_client\\http\\api\\search_api.py:783\u001b[39m, in \u001b[36mSyncSearchApi.query_points\u001b[39m\u001b[34m(self, collection_name, consistency, timeout, query_request)\u001b[39m\n\u001b[32m    773\u001b[39m \u001b[38;5;28;01mdef\u001b[39;00m\u001b[38;5;250m \u001b[39m\u001b[34mquery_points\u001b[39m(\n\u001b[32m    774\u001b[39m     \u001b[38;5;28mself\u001b[39m,\n\u001b[32m    775\u001b[39m     collection_name: \u001b[38;5;28mstr\u001b[39m,\n\u001b[32m   (...)\u001b[39m\u001b[32m    778\u001b[39m     query_request: m.QueryRequest = \u001b[38;5;28;01mNone\u001b[39;00m,\n\u001b[32m    779\u001b[39m ) -> m.InlineResponse20022:\n\u001b[32m    780\u001b[39m \u001b[38;5;250m    \u001b[39m\u001b[33;03m\"\"\"\u001b[39;00m\n\u001b[32m    781\u001b[39m \u001b[33;03m    Universally query points. This endpoint covers all capabilities of search, recommend, discover, filters. But also enables hybrid and multi-stage queries.\u001b[39;00m\n\u001b[32m    782\u001b[39m \u001b[33;03m    \"\"\"\u001b[39;00m\n\u001b[32m--> \u001b[39m\u001b[32m783\u001b[39m     \u001b[38;5;28;01mreturn\u001b[39;00m \u001b[38;5;28;43mself\u001b[39;49m\u001b[43m.\u001b[49m\u001b[43m_build_for_query_points\u001b[49m\u001b[43m(\u001b[49m\n\u001b[32m    784\u001b[39m \u001b[43m        \u001b[49m\u001b[43mcollection_name\u001b[49m\u001b[43m=\u001b[49m\u001b[43mcollection_name\u001b[49m\u001b[43m,\u001b[49m\n\u001b[32m    785\u001b[39m \u001b[43m        \u001b[49m\u001b[43mconsistency\u001b[49m\u001b[43m=\u001b[49m\u001b[43mconsistency\u001b[49m\u001b[43m,\u001b[49m\n\u001b[32m    786\u001b[39m \u001b[43m        \u001b[49m\u001b[43mtimeout\u001b[49m\u001b[43m=\u001b[49m\u001b[43mtimeout\u001b[49m\u001b[43m,\u001b[49m\n\u001b[32m    787\u001b[39m \u001b[43m        \u001b[49m\u001b[43mquery_request\u001b[49m\u001b[43m=\u001b[49m\u001b[43mquery_request\u001b[49m\u001b[43m,\u001b[49m\n\u001b[32m    788\u001b[39m \u001b[43m    \u001b[49m\u001b[43m)\u001b[49m\n",
      "\u001b[36mFile \u001b[39m\u001b[32me:\\ANACONDA\\envs\\rag\\Lib\\site-packages\\qdrant_client\\http\\api\\search_api.py:181\u001b[39m, in \u001b[36m_SearchApi._build_for_query_points\u001b[39m\u001b[34m(self, collection_name, consistency, timeout, query_request)\u001b[39m\n\u001b[32m    179\u001b[39m \u001b[38;5;28;01mif\u001b[39;00m \u001b[33m\"\u001b[39m\u001b[33mContent-Type\u001b[39m\u001b[33m\"\u001b[39m \u001b[38;5;129;01mnot\u001b[39;00m \u001b[38;5;129;01min\u001b[39;00m headers:\n\u001b[32m    180\u001b[39m     headers[\u001b[33m\"\u001b[39m\u001b[33mContent-Type\u001b[39m\u001b[33m\"\u001b[39m] = \u001b[33m\"\u001b[39m\u001b[33mapplication/json\u001b[39m\u001b[33m\"\u001b[39m\n\u001b[32m--> \u001b[39m\u001b[32m181\u001b[39m \u001b[38;5;28;01mreturn\u001b[39;00m \u001b[38;5;28;43mself\u001b[39;49m\u001b[43m.\u001b[49m\u001b[43mapi_client\u001b[49m\u001b[43m.\u001b[49m\u001b[43mrequest\u001b[49m\u001b[43m(\u001b[49m\n\u001b[32m    182\u001b[39m \u001b[43m    \u001b[49m\u001b[43mtype_\u001b[49m\u001b[43m=\u001b[49m\u001b[43mm\u001b[49m\u001b[43m.\u001b[49m\u001b[43mInlineResponse20022\u001b[49m\u001b[43m,\u001b[49m\n\u001b[32m    183\u001b[39m \u001b[43m    \u001b[49m\u001b[43mmethod\u001b[49m\u001b[43m=\u001b[49m\u001b[33;43m\"\u001b[39;49m\u001b[33;43mPOST\u001b[39;49m\u001b[33;43m\"\u001b[39;49m\u001b[43m,\u001b[49m\n\u001b[32m    184\u001b[39m \u001b[43m    \u001b[49m\u001b[43murl\u001b[49m\u001b[43m=\u001b[49m\u001b[33;43m\"\u001b[39;49m\u001b[33;43m/collections/\u001b[39;49m\u001b[38;5;132;43;01m{collection_name}\u001b[39;49;00m\u001b[33;43m/points/query\u001b[39;49m\u001b[33;43m\"\u001b[39;49m\u001b[43m,\u001b[49m\n\u001b[32m    185\u001b[39m \u001b[43m    \u001b[49m\u001b[43mheaders\u001b[49m\u001b[43m=\u001b[49m\u001b[43mheaders\u001b[49m\u001b[43m \u001b[49m\u001b[38;5;28;43;01mif\u001b[39;49;00m\u001b[43m \u001b[49m\u001b[43mheaders\u001b[49m\u001b[43m \u001b[49m\u001b[38;5;28;43;01melse\u001b[39;49;00m\u001b[43m \u001b[49m\u001b[38;5;28;43;01mNone\u001b[39;49;00m\u001b[43m,\u001b[49m\n\u001b[32m    186\u001b[39m \u001b[43m    \u001b[49m\u001b[43mpath_params\u001b[49m\u001b[43m=\u001b[49m\u001b[43mpath_params\u001b[49m\u001b[43m,\u001b[49m\n\u001b[32m    187\u001b[39m \u001b[43m    \u001b[49m\u001b[43mparams\u001b[49m\u001b[43m=\u001b[49m\u001b[43mquery_params\u001b[49m\u001b[43m,\u001b[49m\n\u001b[32m    188\u001b[39m \u001b[43m    \u001b[49m\u001b[43mcontent\u001b[49m\u001b[43m=\u001b[49m\u001b[43mbody\u001b[49m\u001b[43m,\u001b[49m\n\u001b[32m    189\u001b[39m \u001b[43m\u001b[49m\u001b[43m)\u001b[49m\n",
      "\u001b[36mFile \u001b[39m\u001b[32me:\\ANACONDA\\envs\\rag\\Lib\\site-packages\\qdrant_client\\http\\api_client.py:95\u001b[39m, in \u001b[36mApiClient.request\u001b[39m\u001b[34m(self, type_, method, url, path_params, **kwargs)\u001b[39m\n\u001b[32m     93\u001b[39m     kwargs[\u001b[33m\"\u001b[39m\u001b[33mtimeout\u001b[39m\u001b[33m\"\u001b[39m] = \u001b[38;5;28mint\u001b[39m(kwargs[\u001b[33m\"\u001b[39m\u001b[33mparams\u001b[39m\u001b[33m\"\u001b[39m][\u001b[33m\"\u001b[39m\u001b[33mtimeout\u001b[39m\u001b[33m\"\u001b[39m])\n\u001b[32m     94\u001b[39m request = \u001b[38;5;28mself\u001b[39m._client.build_request(method, url, **kwargs)\n\u001b[32m---> \u001b[39m\u001b[32m95\u001b[39m \u001b[38;5;28;01mreturn\u001b[39;00m \u001b[38;5;28;43mself\u001b[39;49m\u001b[43m.\u001b[49m\u001b[43msend\u001b[49m\u001b[43m(\u001b[49m\u001b[43mrequest\u001b[49m\u001b[43m,\u001b[49m\u001b[43m \u001b[49m\u001b[43mtype_\u001b[49m\u001b[43m)\u001b[49m\n",
      "\u001b[36mFile \u001b[39m\u001b[32me:\\ANACONDA\\envs\\rag\\Lib\\site-packages\\qdrant_client\\http\\api_client.py:130\u001b[39m, in \u001b[36mApiClient.send\u001b[39m\u001b[34m(self, request, type_)\u001b[39m\n\u001b[32m    128\u001b[39m     \u001b[38;5;28;01mexcept\u001b[39;00m ValidationError \u001b[38;5;28;01mas\u001b[39;00m e:\n\u001b[32m    129\u001b[39m         \u001b[38;5;28;01mraise\u001b[39;00m ResponseHandlingException(e)\n\u001b[32m--> \u001b[39m\u001b[32m130\u001b[39m \u001b[38;5;28;01mraise\u001b[39;00m UnexpectedResponse.for_response(response)\n",
      "\u001b[31mUnexpectedResponse\u001b[39m: Unexpected Response: 500 (Internal Server Error)\nRaw response content:\nb'{\"status\":{\"error\":\"Service internal error: 1 of 1 read operations failed:\\\\n  Service internal error: task 181 panicked with message \\\\\"called `Result::unwrap()` on an `Err` value: OutputTooSmall {  ...'",
      "During task with name 'retrieve' and id '5efe3ee9-3c47-4f33-794d-f681075d2f0d'"
     ]
    }
   ],
   "source": [
    "import json\n",
    "# NUEVA MANERA\n",
    "result = graph.invoke({\"question\": \"Dame información sobre la fortificación ibérica de Giribaile\"})\n",
    "print(json.dumps(result[\"answer\"], indent=2))"
   ]
  },
  {
   "cell_type": "markdown",
   "id": "d0d616a5",
   "metadata": {},
   "source": [
    "probar este modelo de embbeding: sentence-transformers/all-mpnet-base-v2"
   ]
  },
  {
   "cell_type": "markdown",
   "id": "15ee21b3",
   "metadata": {},
   "source": [
    "https://python.langchain.com/docs/how_to/graph_constructing/\n",
    "https://python.langchain.com/docs/how_to/query_multiple_queries/\n",
    "https://python.langchain.com/docs/how_to/chatbots_memory/\n",
    "https://python.langchain.com/docs/how_to/qa_citations/\n",
    "https://python.langchain.com/docs/how_to/qa_sources/\n",
    "https://python.langchain.com/docs/how_to/message_history/\n",
    "https://python.langchain.com/docs/integrations/chat/\n",
    "https://python.langchain.com/docs/how_to/message_history/"
   ]
  },
  {
   "cell_type": "code",
   "execution_count": null,
   "id": "f9dca136",
   "metadata": {},
   "outputs": [],
   "source": [
    "import os\n",
    "import sys\n",
    "import json\n",
    "import pprint\n",
    "from dotenv import load_dotenv\n",
    "from typing import List, Optional\n",
    "\n",
    "# --- LangChain y Componentes ---\n",
    "from langchain_community.embeddings import HuggingFaceEmbeddings\n",
    "from langchain_community.vectorstores import Qdrant\n",
    "from langchain_community.llms import Ollama\n",
    "from langchain_core.prompts import ChatPromptTemplate\n",
    "from langchain_core.documents import Document\n",
    "\n",
    "# --- LangGraph ---\n",
    "from langgraph.graph import START, END, StateGraph\n",
    "\n",
    "# --- Pydantic para Estructura de Datos ---\n",
    "from pydantic import BaseModel, Field\n",
    "\n",
    "# --- Cliente de Qdrant ---\n",
    "from qdrant_client import QdrantClient\n",
    "\n",
    "# Cargar variables de entorno (p. ej. LANGSMITH_API_KEY)\n",
    "load_dotenv()\n",
    "print(\"Variables de entorno cargadas.\")\n",
    "\n",
    "# --- INICIALIZAR COMPONENTES ---\n",
    "\n",
    "# 1. LLM (Asegúrate de que Ollama esté sirviendo el modelo)\n",
    "llm = Ollama(model=\"hf.co/bartowski/Llama-3.2-3B-Instruct-GGUF:Q8_0\")\n",
    "print(\"LLM inicializado.\")\n",
    "\n",
    "# 2. Modelo de Embeddings\n",
    "# Usamos HuggingFaceEmbeddings que es la integración estándar de LangChain\n",
    "embeddings = HuggingFaceEmbeddings(model_name=\"sentence-transformers/all-MiniLM-L6-v2\")\n",
    "print(\"Modelo de Embeddings inicializado.\")\n",
    "\n",
    "# 3. Conexión a la Vector Store existente en Qdrant\n",
    "# NO se crea una nueva, solo nos conectamos a la que ya tiene los datos.\n",
    "client = QdrantClient(url=\"http://localhost:6333\")\n",
    "vector_store = Qdrant(\n",
    "    client=client, \n",
    "    collection_name=\"idearq\", \n",
    "    embeddings=embeddings,\n",
    ")\n",
    "print(\"Conexión a Qdrant establecida con éxito.\")\n"
   ]
  },
  {
   "cell_type": "code",
   "execution_count": null,
   "id": "393ccd89",
   "metadata": {},
   "outputs": [],
   "source": [
    "# --- DEFINIR EL ESTADO DEL GRAFO ---\n",
    "\n",
    "class AnswerWithSources(BaseModel):\n",
    "    \"\"\"Una respuesta a la pregunta, con sus fuentes.\"\"\"\n",
    "    answer: str = Field(description=\"La respuesta concisa y directa a la pregunta del usuario.\")\n",
    "    sources: List[str] = Field(\n",
    "        description=\"Lista de las fuentes (metadata['source']) de los documentos usados para construir la respuesta.\"\n",
    "    )\n",
    "\n",
    "class State(BaseModel):\n",
    "    \"\"\"Representa el estado de nuestro grafo.\"\"\"\n",
    "    question: str\n",
    "    context: List[Document] = Field(default_factory=list)\n",
    "    answer: Optional[AnswerWithSources] = None\n",
    "\n",
    "# --- DEFINIR EL PROMPT ---\n",
    "\n",
    "template = \"\"\"\n",
    "Eres un asistente experto en arqueología, historia e información geoespacial.\n",
    "Tu tarea es responder a la pregunta del usuario basándote **única y exclusivamente** en el siguiente contexto proporcionado.\n",
    "\n",
    "No utilices ningún conocimiento previo. Si la información no se encuentra en el contexto, responde exactamente: \n",
    "\"La información solicitada no se encuentra en los documentos proporcionados.\"\n",
    "\n",
    "Contexto:\n",
    "{context}\n",
    "\n",
    "Pregunta:\n",
    "{question}\n",
    "\n",
    "Respuesta concisa y útil:\n",
    "\"\"\"\n",
    "prompt = ChatPromptTemplate.from_template(template)\n"
   ]
  },
  {
   "cell_type": "code",
   "execution_count": null,
   "id": "83bde0d3",
   "metadata": {},
   "outputs": [],
   "source": [
    "# --- DEFINIR LOS NODOS DEL GRAFO ---\n",
    "\n",
    "def retrieve(state: State):\n",
    "    \"\"\"Recupera documentos de la base de datos vectorial.\"\"\"\n",
    "    print(\"--- Ejecutando nodo: retrieve ---\")\n",
    "    question = state.question\n",
    "    \n",
    "    # Usamos el vector_store definido globalmente\n",
    "    retrieved_docs = vector_store.similarity_search(question, k=6)\n",
    "    \n",
    "    print(f\"Se encontraron {len(retrieved_docs)} documentos.\")\n",
    "    return {\"context\": retrieved_docs}\n",
    "\n",
    "def generate(state: State):\n",
    "    \"\"\"Genera una respuesta usando el contexto y la pregunta.\"\"\"\n",
    "    print(\"--- Ejecutando nodo: generate ---\")\n",
    "    context = state.context\n",
    "    question = state.question\n",
    "\n",
    "    if not context:\n",
    "        print(\"ADVERTENCIA: No hay contexto para generar una respuesta.\")\n",
    "        return {\"answer\": AnswerWithSources(answer=\"No se recuperó información para responder.\", sources=[])}\n",
    "\n",
    "    docs_content = \"\\\\n\\\\n\".join([doc.page_content for doc in context])\n",
    "    \n",
    "    # Preparamos el LLM para que la salida tenga el formato de AnswerWithSources\n",
    "    structured_llm = llm.with_structured_output(AnswerWithSources)\n",
    "    \n",
    "    # Creamos el prompt con la información\n",
    "    messages = prompt.invoke({\"question\": question, \"context\": docs_content})\n",
    "    \n",
    "    # Invocamos al LLM\n",
    "    response = structured_llm.invoke(messages)\n",
    "    return {\"answer\": response}\n",
    "\n",
    "# --- CONSTRUIR EL GRAFO ---\n",
    "\n",
    "graph_builder = StateGraph(State)\n",
    "graph_builder.add_node(\"retrieve\", retrieve)\n",
    "graph_builder.add_node(\"generate\", generate)\n",
    "graph_builder.add_edge(START, \"retrieve\")\n",
    "graph_builder.add_edge(\"retrieve\", \"generate\")\n",
    "graph_builder.add_edge(\"generate\", END)\n",
    "\n",
    "graph = graph_builder.compile()\n",
    "\n",
    "print(\"Grafo compilado y listo para usar.\")\n"
   ]
  },
  {
   "cell_type": "code",
   "execution_count": null,
   "id": "07261002",
   "metadata": {},
   "outputs": [],
   "source": [
    "# --- INVOCAR EL GRAFO CON TU PREGUNTA ---\n",
    "\n",
    "pregunta_usuario = \"Dame información sobre la fortificación ibérica de Giribaile\"\n",
    "\n",
    "# El grafo se ejecuta y va pasando por los nodos definidos\n",
    "result = graph.invoke({\"question\": pregunta_usuario})\n",
    "\n",
    "# Usamos pprint para una salida más limpia del objeto Pydantic\n",
    "print(\"\\\\n--- RESPUESTA FINAL ---\")\n",
    "pprint.pprint(result[\"answer\"])\n"
   ]
  }
 ],
 "metadata": {
  "kernelspec": {
   "display_name": "rag",
   "language": "python",
   "name": "python3"
  },
  "language_info": {
   "codemirror_mode": {
    "name": "ipython",
    "version": 3
   },
   "file_extension": ".py",
   "mimetype": "text/x-python",
   "name": "python",
   "nbconvert_exporter": "python",
   "pygments_lexer": "ipython3",
   "version": "3.12.11"
  }
 },
 "nbformat": 4,
 "nbformat_minor": 5
}
